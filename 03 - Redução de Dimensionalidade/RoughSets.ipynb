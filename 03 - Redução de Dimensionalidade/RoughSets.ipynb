{
  "nbformat": 4,
  "nbformat_minor": 0,
  "metadata": {
    "colab": {
      "provenance": []
    },
    "kernelspec": {
      "name": "python3",
      "display_name": "Python 3"
    },
    "language_info": {
      "name": "python"
    }
  },
  "cells": [
    {
      "cell_type": "code",
      "source": [
        "#Install Rough Sets\n",
        "!pip3 install git+https://github.com/paudan/scikit-roughsets.git;"
      ],
      "metadata": {
        "colab": {
          "base_uri": "https://localhost:8080/"
        },
        "id": "2H0J-qYfILQr",
        "outputId": "0e6ee269-a84c-4e44-8316-af78a2a7e13d",
        "collapsed": true
      },
      "execution_count": 1,
      "outputs": [
        {
          "output_type": "stream",
          "name": "stdout",
          "text": [
            "Collecting git+https://github.com/paudan/scikit-roughsets.git\n",
            "  Cloning https://github.com/paudan/scikit-roughsets.git to /tmp/pip-req-build-rm6czgzi\n",
            "  Running command git clone --filter=blob:none --quiet https://github.com/paudan/scikit-roughsets.git /tmp/pip-req-build-rm6czgzi\n",
            "  Resolved https://github.com/paudan/scikit-roughsets.git to commit 83717d4562348e2abb68ffee705d3d7bd7c1f2a3\n",
            "  Preparing metadata (setup.py) ... \u001b[?25l\u001b[?25hdone\n",
            "Requirement already satisfied: numpy in /usr/local/lib/python3.12/dist-packages (from scikit-roughsets==1.0) (2.0.2)\n",
            "Requirement already satisfied: scikit-learn in /usr/local/lib/python3.12/dist-packages (from scikit-roughsets==1.0) (1.6.1)\n",
            "Requirement already satisfied: scipy>=1.6.0 in /usr/local/lib/python3.12/dist-packages (from scikit-learn->scikit-roughsets==1.0) (1.16.2)\n",
            "Requirement already satisfied: joblib>=1.2.0 in /usr/local/lib/python3.12/dist-packages (from scikit-learn->scikit-roughsets==1.0) (1.5.2)\n",
            "Requirement already satisfied: threadpoolctl>=3.1.0 in /usr/local/lib/python3.12/dist-packages (from scikit-learn->scikit-roughsets==1.0) (3.6.0)\n"
          ]
        }
      ]
    },
    {
      "cell_type": "code",
      "source": [
        "#Import Libs\n",
        "import pandas as pd\n",
        "import numpy as np"
      ],
      "metadata": {
        "id": "0jV8hBqu7X0R"
      },
      "execution_count": 2,
      "outputs": []
    },
    {
      "cell_type": "code",
      "source": [
        "# Create a Function to Calc Reducts ( Simple Way )\n",
        "def compute_reducts(df, target_column):\n",
        "\n",
        "    # Separar atributos e classes\n",
        "    attr = df.drop(target_column, axis=1)\n",
        "    clss = df[target_column]\n",
        "\n",
        "    # Inicialmente, assumimos que todos os atributos são relevantes\n",
        "    reducts = set(attr.columns)\n",
        "\n",
        "    # Iterar sobre os atributos para determinar relevância\n",
        "    for col in attr.columns:\n",
        "        temp_df = attr.drop(col, axis=1)\n",
        "        temp_df['Class'] = clss\n",
        "\n",
        "        if len(temp_df.groupby(list(temp_df.columns)).groups) < len(df):\n",
        "            # Se a cardinalidade dos grupos não muda, o atributo é redundante\n",
        "            reducts.discard(col)\n",
        "\n",
        "    return reducts"
      ],
      "metadata": {
        "id": "IBZd-TXZ7XrK"
      },
      "execution_count": 3,
      "outputs": []
    },
    {
      "cell_type": "code",
      "source": [
        "#Read the DataFrame\n",
        "df = pd.read_csv('/content/diabetes_dataset.csv')"
      ],
      "metadata": {
        "id": "FQQ2z2AC759f"
      },
      "execution_count": 4,
      "outputs": []
    },
    {
      "cell_type": "code",
      "source": [
        "#Replace the Last Column Name ( Y ) for Class\n",
        "df.rename(columns={'Outcome': 'Class'}, inplace=True)"
      ],
      "metadata": {
        "id": "CESGHxhZ7L0w"
      },
      "execution_count": 5,
      "outputs": []
    },
    {
      "cell_type": "code",
      "source": [
        "#Show the Results after Change the Column Name\n",
        "print(df)"
      ],
      "metadata": {
        "colab": {
          "base_uri": "https://localhost:8080/"
        },
        "id": "CegHps-V8Fy6",
        "outputId": "8df69fe4-484d-4700-d7bb-f37f857a9ea0"
      },
      "execution_count": 6,
      "outputs": [
        {
          "output_type": "stream",
          "name": "stdout",
          "text": [
            "     Pregnancies  Glucose  BloodPressure  SkinThickness  Insulin   BMI  \\\n",
            "0              6      148             72             35        0  33.6   \n",
            "1              1       85             66             29        0  26.6   \n",
            "2              8      183             64              0        0  23.3   \n",
            "3              1       89             66             23       94  28.1   \n",
            "4              0      137             40             35      168  43.1   \n",
            "..           ...      ...            ...            ...      ...   ...   \n",
            "763           10      101             76             48      180  32.9   \n",
            "764            2      122             70             27        0  36.8   \n",
            "765            5      121             72             23      112  26.2   \n",
            "766            1      126             60              0        0  30.1   \n",
            "767            1       93             70             31        0  30.4   \n",
            "\n",
            "     DiabetesPedigreeFunction  Age  Class  \n",
            "0                       0.627   50      1  \n",
            "1                       0.351   31      0  \n",
            "2                       0.672   32      1  \n",
            "3                       0.167   21      0  \n",
            "4                       2.288   33      1  \n",
            "..                        ...  ...    ...  \n",
            "763                     0.171   63      0  \n",
            "764                     0.340   27      0  \n",
            "765                     0.245   30      0  \n",
            "766                     0.349   47      1  \n",
            "767                     0.315   23      0  \n",
            "\n",
            "[768 rows x 9 columns]\n"
          ]
        }
      ]
    },
    {
      "cell_type": "code",
      "source": [
        "# Calcular reducts\n",
        "reducts = compute_reducts(df, 'Class')"
      ],
      "metadata": {
        "id": "W-ZOUZlw8wXe"
      },
      "execution_count": 7,
      "outputs": []
    },
    {
      "cell_type": "markdown",
      "metadata": {
        "id": "3acc1347"
      },
      "source": [
        "The `reducts` variable contains the result of the `compute_reducts` function. In Rough Set Theory, a reduct is a minimal subset of attributes that retains the same classification power as the original set of attributes."
      ]
    },
    {
      "cell_type": "code",
      "source": [
        "#Show the Results\n",
        "print(\"Most Relevants Attributes:\", reducts)"
      ],
      "metadata": {
        "colab": {
          "base_uri": "https://localhost:8080/"
        },
        "id": "TivGKS6d8zWQ",
        "outputId": "eab8e064-e541-491f-a99a-80beaa3a28f8"
      },
      "execution_count": 8,
      "outputs": [
        {
          "output_type": "stream",
          "name": "stdout",
          "text": [
            "Most Relevants Attributes: {'Insulin', 'Age', 'Pregnancies', 'SkinThickness', 'BloodPressure', 'Glucose', 'DiabetesPedigreeFunction', 'BMI'}\n"
          ]
        }
      ]
    }
  ]
}