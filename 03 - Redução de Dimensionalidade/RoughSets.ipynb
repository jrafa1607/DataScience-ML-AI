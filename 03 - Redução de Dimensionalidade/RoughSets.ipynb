{
  "nbformat": 4,
  "nbformat_minor": 0,
  "metadata": {
    "colab": {
      "provenance": []
    },
    "kernelspec": {
      "name": "python3",
      "display_name": "Python 3"
    },
    "language_info": {
      "name": "python"
    }
  },
  "cells": [
    {
      "cell_type": "code",
      "source": [
        "pip install git+https://github.com/paudan/scikit-roughsets.git"
      ],
      "metadata": {
        "colab": {
          "base_uri": "https://localhost:8080/"
        },
        "id": "2H0J-qYfILQr",
        "outputId": "2e637328-b93b-4c69-cd3b-7453294d37ae"
      },
      "execution_count": 14,
      "outputs": [
        {
          "output_type": "stream",
          "name": "stdout",
          "text": [
            "Collecting git+https://github.com/paudan/scikit-roughsets.git\n",
            "  Cloning https://github.com/paudan/scikit-roughsets.git to /tmp/pip-req-build-xyc334vc\n",
            "  Running command git clone --filter=blob:none --quiet https://github.com/paudan/scikit-roughsets.git /tmp/pip-req-build-xyc334vc\n",
            "  Resolved https://github.com/paudan/scikit-roughsets.git to commit 83717d4562348e2abb68ffee705d3d7bd7c1f2a3\n",
            "  Preparing metadata (setup.py) ... \u001b[?25l\u001b[?25hdone\n",
            "Requirement already satisfied: numpy in /usr/local/lib/python3.10/dist-packages (from scikit-roughsets==1.0) (1.26.4)\n",
            "Requirement already satisfied: scikit-learn in /usr/local/lib/python3.10/dist-packages (from scikit-roughsets==1.0) (1.6.0)\n",
            "Requirement already satisfied: scipy>=1.6.0 in /usr/local/lib/python3.10/dist-packages (from scikit-learn->scikit-roughsets==1.0) (1.13.1)\n",
            "Requirement already satisfied: joblib>=1.2.0 in /usr/local/lib/python3.10/dist-packages (from scikit-learn->scikit-roughsets==1.0) (1.4.2)\n",
            "Requirement already satisfied: threadpoolctl>=3.1.0 in /usr/local/lib/python3.10/dist-packages (from scikit-learn->scikit-roughsets==1.0) (3.5.0)\n",
            "Building wheels for collected packages: scikit-roughsets\n",
            "  Building wheel for scikit-roughsets (setup.py) ... \u001b[?25l\u001b[?25hdone\n",
            "  Created wheel for scikit-roughsets: filename=scikit_roughsets-1.0-py2.py3-none-any.whl size=5345 sha256=ea185f07d400ca822582eeda63a98d3652ce99d61f067d2bdfb7ffd83952eafa\n",
            "  Stored in directory: /tmp/pip-ephem-wheel-cache-pker7aq8/wheels/58/14/dc/ebd32a25fb91c45e2ced8ce07d5dc3b10928de7e818663acda\n",
            "Successfully built scikit-roughsets\n",
            "Installing collected packages: scikit-roughsets\n",
            "Successfully installed scikit-roughsets-1.0\n"
          ]
        }
      ]
    },
    {
      "cell_type": "code",
      "execution_count": 17,
      "metadata": {
        "colab": {
          "base_uri": "https://localhost:8080/"
        },
        "id": "W4vKIjYRIGkz",
        "outputId": "c6e2a87e-603e-494e-f0bf-ca1f460c5bcf"
      },
      "outputs": [
        {
          "output_type": "stream",
          "name": "stdout",
          "text": [
            "Atributos mais relevantes: {'C', 'A', 'B', 'E', 'D'}\n"
          ]
        }
      ],
      "source": [
        "import pandas as pd\n",
        "import numpy as np\n",
        "\n",
        "# Função para calcular reducts manualmente (simplificada)\n",
        "def compute_reducts(df, target_column):\n",
        "    # Separar atributos e classes\n",
        "    atributos = df.drop(target_column, axis=1)\n",
        "    classes = df[target_column]\n",
        "\n",
        "    # Inicialmente, assumimos que todos os atributos são relevantes\n",
        "    reducts = set(atributos.columns)\n",
        "\n",
        "    # Iterar sobre os atributos para determinar relevância\n",
        "    for col in atributos.columns:\n",
        "        temp_df = atributos.drop(col, axis=1)\n",
        "        temp_df['Classe'] = classes\n",
        "\n",
        "        if len(temp_df.groupby(list(temp_df.columns)).groups) < len(df):\n",
        "            # Se a cardinalidade dos grupos não muda, o atributo é redundante\n",
        "            reducts.discard(col)\n",
        "\n",
        "    return reducts\n",
        "\n",
        "# Criar um DataFrame de exemplo\n",
        "data = {\n",
        "    'A': [1, 2, 3, 4, 5],\n",
        "    'B': [5, 4, 3, 2, 1],\n",
        "    'C': [2, 3, 4, 5, 6],\n",
        "    'D': [1, 3, 5, 7, 9],\n",
        "    'E': [0, 0, 0, 0, 0],\n",
        "    'Classe': ['Sim', 'Não', 'Sim', 'Não', 'Sim']\n",
        "}\n",
        "df = pd.DataFrame(data)\n",
        "\n",
        "# Calcular reducts\n",
        "reducts = compute_reducts(df, 'Classe')\n",
        "print(\"Atributos mais relevantes:\", reducts)\n"
      ]
    }
  ]
}