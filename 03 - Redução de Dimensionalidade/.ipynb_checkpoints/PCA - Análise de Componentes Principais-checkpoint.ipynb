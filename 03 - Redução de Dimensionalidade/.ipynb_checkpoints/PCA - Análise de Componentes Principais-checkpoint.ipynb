{
 "cells": [
  {
   "cell_type": "code",
   "execution_count": 1,
   "metadata": {},
   "outputs": [],
   "source": [
    "import pandas as pd\n",
    "import numpy as np\n",
    "from sklearn.impute import SimpleImputer\n",
    "from sklearn.decomposition import FactorAnalysis\n",
    "from sklearn.decomposition import PCA"
   ]
  },
  {
   "cell_type": "code",
   "execution_count": 2,
   "metadata": {},
   "outputs": [],
   "source": [
    "df = pd.read_csv('D:/OneDrive/OneDrive - Etec Centro Paula Souza/Databases/credit_data.csv')\n",
    "df.columns = ['id', 'salario', 'idade', 'emprestimo', 'aprovado']"
   ]
  },
  {
   "cell_type": "code",
   "execution_count": 3,
   "metadata": {},
   "outputs": [
    {
     "name": "stdout",
     "output_type": "stream",
     "text": [
      "        id       salario      idade   emprestimo  aprovado\n",
      "0        1  66155.925095  59.017015  8106.532131         0\n",
      "1        2  34415.153966  48.117153  6564.745018         0\n",
      "2        3  57317.170063  63.108049  8020.953296         0\n",
      "3        4  42709.534201  45.751972  6103.642260         0\n",
      "4        5  66952.688845  18.584336  8770.099235         1\n",
      "...    ...           ...        ...          ...       ...\n",
      "1995  1996  59221.044874  48.518179  1926.729397         0\n",
      "1996  1997  69516.127573  23.162104  3503.176156         0\n",
      "1997  1998  44311.449262  28.017167  5522.786693         1\n",
      "1998  1999  43756.056605  63.971796  1622.722598         0\n",
      "1999  2000  69436.579552  56.152617  7378.833599         0\n",
      "\n",
      "[2000 rows x 5 columns]\n"
     ]
    }
   ],
   "source": [
    "print(df)"
   ]
  },
  {
   "cell_type": "code",
   "execution_count": 4,
   "metadata": {},
   "outputs": [],
   "source": [
    "#Corrigindo valores Negativos na Base"
   ]
  },
  {
   "cell_type": "code",
   "execution_count": 5,
   "metadata": {},
   "outputs": [],
   "source": [
    "media_pos = df['idade'][df.idade > 0].mean()\n",
    "df.loc[df.idade < 0, 'idade'] = media_pos"
   ]
  },
  {
   "cell_type": "code",
   "execution_count": 6,
   "metadata": {},
   "outputs": [
    {
     "name": "stdout",
     "output_type": "stream",
     "text": [
      "id            0\n",
      "salario       0\n",
      "idade         0\n",
      "emprestimo    0\n",
      "aprovado      0\n",
      "dtype: int64\n"
     ]
    }
   ],
   "source": [
    "print(df.lt(0).sum())"
   ]
  },
  {
   "cell_type": "code",
   "execution_count": 7,
   "metadata": {},
   "outputs": [],
   "source": [
    "#Corrigindo valores Nulos na Base"
   ]
  },
  {
   "cell_type": "code",
   "execution_count": 8,
   "metadata": {},
   "outputs": [],
   "source": [
    "imp = SimpleImputer(missing_values=np.nan, strategy='mean')\n",
    "imp = imp.fit(df)\n",
    "df = imp.transform(df)"
   ]
  },
  {
   "cell_type": "code",
   "execution_count": 9,
   "metadata": {},
   "outputs": [],
   "source": [
    "df = pd.DataFrame(data=df)\n",
    "df.columns = ['id', 'salario', 'idade', 'emprestimo', 'aprovado']"
   ]
  },
  {
   "cell_type": "code",
   "execution_count": 10,
   "metadata": {},
   "outputs": [
    {
     "data": {
      "text/plain": [
       "id            0\n",
       "salario       0\n",
       "idade         0\n",
       "emprestimo    0\n",
       "aprovado      0\n",
       "dtype: int64"
      ]
     },
     "execution_count": 10,
     "metadata": {},
     "output_type": "execute_result"
    }
   ],
   "source": [
    "df.isnull().sum()"
   ]
  },
  {
   "cell_type": "code",
   "execution_count": 11,
   "metadata": {},
   "outputs": [
    {
     "name": "stdout",
     "output_type": "stream",
     "text": [
      "          id       salario      idade   emprestimo  aprovado\n",
      "0        1.0  66155.925095  59.017015  8106.532131       0.0\n",
      "1        2.0  34415.153966  48.117153  6564.745018       0.0\n",
      "2        3.0  57317.170063  63.108049  8020.953296       0.0\n",
      "3        4.0  42709.534201  45.751972  6103.642260       0.0\n",
      "4        5.0  66952.688845  18.584336  8770.099235       1.0\n",
      "...      ...           ...        ...          ...       ...\n",
      "1995  1996.0  59221.044874  48.518179  1926.729397       0.0\n",
      "1996  1997.0  69516.127573  23.162104  3503.176156       0.0\n",
      "1997  1998.0  44311.449262  28.017167  5522.786693       1.0\n",
      "1998  1999.0  43756.056605  63.971796  1622.722598       0.0\n",
      "1999  2000.0  69436.579552  56.152617  7378.833599       0.0\n",
      "\n",
      "[2000 rows x 5 columns]\n"
     ]
    }
   ],
   "source": [
    "print(df)"
   ]
  },
  {
   "cell_type": "code",
   "execution_count": 12,
   "metadata": {},
   "outputs": [],
   "source": [
    "factors = FactorAnalysis(n_components=5).fit(df)"
   ]
  },
  {
   "cell_type": "code",
   "execution_count": 13,
   "metadata": {},
   "outputs": [
    {
     "name": "stdout",
     "output_type": "stream",
     "text": [
      "[[-2.27297285e+01 -1.43203236e+04  4.34103056e-01 -1.39306004e+03\n",
      "  -3.48168457e-03]\n",
      " [ 6.43831942e-01 -2.63359525e+02  3.22864188e-01  2.70726202e+03\n",
      "   1.46043808e-01]\n",
      " [-5.76901374e+02  8.93889983e-01  3.87124405e-01  2.24101933e-01\n",
      "   7.32448874e-03]\n",
      " [ 8.82814453e-03  5.23686709e-04  1.31940075e+01 -1.41005292e-03\n",
      "  -1.59458994e-01]\n",
      " [ 0.00000000e+00  0.00000000e+00  0.00000000e+00 -0.00000000e+00\n",
      "   0.00000000e+00]]\n"
     ]
    }
   ],
   "source": [
    "print (factors.components_)"
   ]
  },
  {
   "cell_type": "code",
   "execution_count": 14,
   "metadata": {},
   "outputs": [],
   "source": [
    "pcomponents = PCA(n_components=5).fit(df)"
   ]
  },
  {
   "cell_type": "code",
   "execution_count": 15,
   "metadata": {},
   "outputs": [
    {
     "name": "stdout",
     "output_type": "stream",
     "text": [
      "[[-1.57977649e-03 -9.95300520e-01  3.01713153e-05 -9.68213717e-02\n",
      "  -2.41986293e-07]\n",
      " [ 2.36699721e-04 -9.68218576e-02  1.18698440e-04  9.95301690e-01\n",
      "   5.36917461e-05]\n",
      " [-9.99998499e-01  1.54946422e-03  6.71040818e-04  3.88466170e-04\n",
      "   1.26961929e-05]\n",
      " [ 6.70858580e-04  4.04200991e-05  9.99927510e-01 -1.14829142e-04\n",
      "  -1.20212047e-02]\n",
      " [ 2.07491104e-05  5.42430345e-06  1.20211870e-02 -5.48521953e-05\n",
      "   9.99927741e-01]]\n"
     ]
    }
   ],
   "source": [
    "print(pcomponents.components_)"
   ]
  },
  {
   "cell_type": "code",
   "execution_count": 16,
   "metadata": {},
   "outputs": [],
   "source": [
    "#Outro Exemplo de Aplicação de PCA"
   ]
  },
  {
   "cell_type": "code",
   "execution_count": 17,
   "metadata": {},
   "outputs": [],
   "source": [
    "factor = FactorAnalysis().fit(df)"
   ]
  },
  {
   "cell_type": "code",
   "execution_count": 18,
   "metadata": {},
   "outputs": [
    {
     "data": {
      "text/html": [
       "<div>\n",
       "<style scoped>\n",
       "    .dataframe tbody tr th:only-of-type {\n",
       "        vertical-align: middle;\n",
       "    }\n",
       "\n",
       "    .dataframe tbody tr th {\n",
       "        vertical-align: top;\n",
       "    }\n",
       "\n",
       "    .dataframe thead th {\n",
       "        text-align: right;\n",
       "    }\n",
       "</style>\n",
       "<table border=\"1\" class=\"dataframe\">\n",
       "  <thead>\n",
       "    <tr style=\"text-align: right;\">\n",
       "      <th></th>\n",
       "      <th>id</th>\n",
       "      <th>salario</th>\n",
       "      <th>idade</th>\n",
       "      <th>emprestimo</th>\n",
       "      <th>aprovado</th>\n",
       "    </tr>\n",
       "  </thead>\n",
       "  <tbody>\n",
       "    <tr>\n",
       "      <th>0</th>\n",
       "      <td>-22.729728</td>\n",
       "      <td>-14320.323560</td>\n",
       "      <td>0.434103</td>\n",
       "      <td>-1393.060035</td>\n",
       "      <td>-0.003482</td>\n",
       "    </tr>\n",
       "    <tr>\n",
       "      <th>1</th>\n",
       "      <td>0.643832</td>\n",
       "      <td>-263.359525</td>\n",
       "      <td>0.322864</td>\n",
       "      <td>2707.262020</td>\n",
       "      <td>0.146044</td>\n",
       "    </tr>\n",
       "    <tr>\n",
       "      <th>2</th>\n",
       "      <td>-576.901374</td>\n",
       "      <td>0.893890</td>\n",
       "      <td>0.387124</td>\n",
       "      <td>0.224102</td>\n",
       "      <td>0.007324</td>\n",
       "    </tr>\n",
       "    <tr>\n",
       "      <th>3</th>\n",
       "      <td>0.008828</td>\n",
       "      <td>0.000524</td>\n",
       "      <td>13.194008</td>\n",
       "      <td>-0.001410</td>\n",
       "      <td>-0.159459</td>\n",
       "    </tr>\n",
       "    <tr>\n",
       "      <th>4</th>\n",
       "      <td>0.000000</td>\n",
       "      <td>0.000000</td>\n",
       "      <td>0.000000</td>\n",
       "      <td>-0.000000</td>\n",
       "      <td>0.000000</td>\n",
       "    </tr>\n",
       "  </tbody>\n",
       "</table>\n",
       "</div>"
      ],
      "text/plain": [
       "           id       salario      idade   emprestimo  aprovado\n",
       "0  -22.729728 -14320.323560   0.434103 -1393.060035 -0.003482\n",
       "1    0.643832   -263.359525   0.322864  2707.262020  0.146044\n",
       "2 -576.901374      0.893890   0.387124     0.224102  0.007324\n",
       "3    0.008828      0.000524  13.194008    -0.001410 -0.159459\n",
       "4    0.000000      0.000000   0.000000    -0.000000  0.000000"
      ]
     },
     "execution_count": 18,
     "metadata": {},
     "output_type": "execute_result"
    }
   ],
   "source": [
    "pd.DataFrame(factor.components_, columns = ['id', 'salario', 'idade', 'emprestimo', 'aprovado'])"
   ]
  },
  {
   "cell_type": "code",
   "execution_count": null,
   "metadata": {},
   "outputs": [],
   "source": []
  }
 ],
 "metadata": {
  "kernelspec": {
   "display_name": "Python 3 (ipykernel)",
   "language": "python",
   "name": "python3"
  },
  "language_info": {
   "codemirror_mode": {
    "name": "ipython",
    "version": 3
   },
   "file_extension": ".py",
   "mimetype": "text/x-python",
   "name": "python",
   "nbconvert_exporter": "python",
   "pygments_lexer": "ipython3",
   "version": "3.9.12"
  }
 },
 "nbformat": 4,
 "nbformat_minor": 4
}
