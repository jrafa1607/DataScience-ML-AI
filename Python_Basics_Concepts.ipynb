{
  "nbformat": 4,
  "nbformat_minor": 0,
  "metadata": {
    "colab": {
      "provenance": []
    },
    "kernelspec": {
      "name": "python3",
      "display_name": "Python 3"
    },
    "language_info": {
      "name": "python"
    }
  },
  "cells": [
    {
      "cell_type": "markdown",
      "source": [
        "### Python - Basics Concepts"
      ],
      "metadata": {
        "id": "6eXTxavC4Ewf"
      }
    },
    {
      "cell_type": "code",
      "source": [
        "#Célula de Código\n",
        "'Teste'"
      ],
      "metadata": {
        "colab": {
          "base_uri": "https://localhost:8080/",
          "height": 35
        },
        "id": "vcBs2HnV2A9T",
        "outputId": "d0539be9-942c-41be-f764-057c7f4de557"
      },
      "execution_count": 1,
      "outputs": [
        {
          "output_type": "execute_result",
          "data": {
            "text/plain": [
              "'Teste'"
            ],
            "application/vnd.google.colaboratory.intrinsic+json": {
              "type": "string"
            }
          },
          "metadata": {},
          "execution_count": 1
        }
      ]
    },
    {
      "cell_type": "code",
      "source": [
        "# Exemplo de input\n",
        "nome = input(\"Digite seu nome: \")"
      ],
      "metadata": {
        "colab": {
          "base_uri": "https://localhost:8080/"
        },
        "id": "pQO-iUbz2HOJ",
        "outputId": "b9c7a648-8046-44a2-edf3-a4c1fdc70826"
      },
      "execution_count": 2,
      "outputs": [
        {
          "name": "stdout",
          "output_type": "stream",
          "text": [
            "Digite seu nome: Rafael\n"
          ]
        }
      ]
    },
    {
      "cell_type": "code",
      "source": [
        "# Exemplo de print\n",
        "print(\"Seu nome é \", nome)"
      ],
      "metadata": {
        "colab": {
          "base_uri": "https://localhost:8080/"
        },
        "id": "7Tx7mz0z2NaB",
        "outputId": "3bf541cc-2683-40d0-81f1-bba27a77f4eb"
      },
      "execution_count": 3,
      "outputs": [
        {
          "output_type": "stream",
          "name": "stdout",
          "text": [
            "Seu nome é  Rafael\n"
          ]
        }
      ]
    },
    {
      "cell_type": "markdown",
      "source": [
        "### Exemplos - Comentários e Textos Literais"
      ],
      "metadata": {
        "id": "42QUy4Tg2ySL"
      }
    },
    {
      "cell_type": "code",
      "source": [
        "#Exemplos de Comentários e Textos Literais\n",
        "\n",
        "#01 - COmentário 01\n",
        "'02 - Lit 02'\n",
        "\"03 - Lit 03\""
      ],
      "metadata": {
        "colab": {
          "base_uri": "https://localhost:8080/",
          "height": 251
        },
        "id": "YFNYzdeb2Uvl",
        "outputId": "5e97dde0-791f-467a-ec7f-3edec2669648"
      },
      "execution_count": 4,
      "outputs": [
        {
          "output_type": "execute_result",
          "data": {
            "text/plain": [
              "'03 - Lit 03'"
            ],
            "application/vnd.google.colaboratory.intrinsic+json": {
              "type": "string"
            }
          },
          "metadata": {},
          "execution_count": 4
        }
      ]
    },
    {
      "cell_type": "markdown",
      "source": [
        "### Constantes\n",
        "* Exemplos de `Constantes`"
      ],
      "metadata": {
        "id": "Gewh_Qw23JlC"
      }
    },
    {
      "cell_type": "code",
      "source": [
        "#Constantes\n",
        "pi = 3,1415\n",
        "dias_Semana = 7"
      ],
      "metadata": {
        "id": "ZZbUX9761_2T"
      },
      "execution_count": 5,
      "outputs": []
    },
    {
      "cell_type": "markdown",
      "source": [
        "### Variáveis Numéricas\n",
        "\n",
        "* `int`: número inteiro\n",
        "* `float`: número real (ponto flutuante)"
      ],
      "metadata": {
        "id": "CHvImZ-4hjZb"
      }
    },
    {
      "cell_type": "code",
      "source": [
        "#Exemplo de Variáveis Numéricas\n",
        "x = 10\n",
        "y = 8.9\n",
        "\n",
        "print(type(x))\n",
        "print(type(y))"
      ],
      "metadata": {
        "colab": {
          "base_uri": "https://localhost:8080/"
        },
        "id": "BFFl6DLUaoza",
        "outputId": "a6f0a82d-5de1-45aa-d607-c56523247029"
      },
      "execution_count": 6,
      "outputs": [
        {
          "output_type": "stream",
          "name": "stdout",
          "text": [
            "<class 'int'>\n",
            "<class 'float'>\n"
          ]
        }
      ]
    },
    {
      "cell_type": "markdown",
      "source": [
        "### Variáveis de Texto (`str`)\n",
        "\n",
        "* `str`: Qualquer texto gerado entre \"Aspas Duplas\" / 'Aspas Simples'"
      ],
      "metadata": {
        "id": "Ity2bIfWxKGC"
      }
    },
    {
      "cell_type": "code",
      "source": [
        "#Dois Exemplos de Strings ( Aspas Duplas e Aspas Simples)\n",
        "ex01 = 'Python'\n",
        "ex02 = \"Para Ciência de Dados\"\n",
        "\n",
        "print(ex01 + \" \" + ex02)"
      ],
      "metadata": {
        "colab": {
          "base_uri": "https://localhost:8080/"
        },
        "id": "_OA6DEeNhuYn",
        "outputId": "1c8ebb43-9ecb-4565-b6b9-f0b654bb53bb"
      },
      "execution_count": 7,
      "outputs": [
        {
          "output_type": "stream",
          "name": "stdout",
          "text": [
            "Python Para Ciência de Dados\n"
          ]
        }
      ]
    },
    {
      "cell_type": "code",
      "source": [
        "#Exemplo de String Multi-Linhas ( Doc Strings )\n",
        "\n",
        "str_multi = \"\"\"\n",
        "A Python I should not advise, —\n",
        "It needs a doctor for its eyes,\n",
        "And has the measles yearly.\n",
        "However, if you feel inclined\n",
        "To get one (to improve your mind,\n",
        "And not from fashion merely),\n",
        "Allow no music near its cage;\n",
        "And when it flies into a rage\n",
        "Chastise it, most severely.\n",
        "I had an Aunt in Yucatan\n",
        "Who bought a Python from a man\n",
        "And kept it for a pet.\n",
        "She died, because she never knew\n",
        "These simple little rules and few; —\n",
        "The snake is living yet.\n",
        "\"\"\"\n",
        "\n",
        "print(str_multi)"
      ],
      "metadata": {
        "colab": {
          "base_uri": "https://localhost:8080/"
        },
        "id": "QI4fP7-M1Ppg",
        "outputId": "0465f00f-b822-4f9b-9a0e-2288111090e6"
      },
      "execution_count": 8,
      "outputs": [
        {
          "output_type": "stream",
          "name": "stdout",
          "text": [
            "\n",
            "A Python I should not advise, —\n",
            "It needs a doctor for its eyes,\n",
            "And has the measles yearly.\n",
            "However, if you feel inclined\n",
            "To get one (to improve your mind,\n",
            "And not from fashion merely),\n",
            "Allow no music near its cage;\n",
            "And when it flies into a rage\n",
            "Chastise it, most severely.\n",
            "I had an Aunt in Yucatan\n",
            "Who bought a Python from a man\n",
            "And kept it for a pet.\n",
            "She died, because she never knew\n",
            "These simple little rules and few; —\n",
            "The snake is living yet.\n",
            "\n"
          ]
        }
      ]
    },
    {
      "cell_type": "markdown",
      "source": [
        "### fstrings\n",
        "\n",
        "As `fstrings` foram introduzidas em Python versão 3.6 e são uma forma conveniente de nos fazermos substituição de _placeholders_ em uma string por variáveis ou expressões. Por exemplo:\n",
        "\n",
        "```python\n",
        "f\"Aqui é uma string com uma {var}\"\n",
        "```"
      ],
      "metadata": {
        "id": "qWqgzhS-8XT1"
      }
    },
    {
      "cell_type": "code",
      "source": [
        "lang = \"Python\"\n",
        "fstring = f\" Linguagem de Programação - Utilizada para Data Science é {lang}.\"\n",
        "\n",
        "print(lang)\n",
        "print(type(lang))"
      ],
      "metadata": {
        "colab": {
          "base_uri": "https://localhost:8080/"
        },
        "id": "y2nDqyFt8jAY",
        "outputId": "1c66678c-a697-4dc9-8ad3-f5e009bf257f"
      },
      "execution_count": 9,
      "outputs": [
        {
          "output_type": "stream",
          "name": "stdout",
          "text": [
            "Python\n",
            "<class 'str'>\n"
          ]
        }
      ]
    },
    {
      "cell_type": "markdown",
      "source": [
        "### Não temos os *parkour* de JavaScript\n",
        "`str` + `int` dá erro ( Falha de Concatenação )"
      ],
      "metadata": {
        "id": "GI-wgkmw-VYV"
      }
    },
    {
      "cell_type": "code",
      "source": [
        "#Tentativa de Somatória entre String e Número Inteiro\n",
        "#\"3\" + 1"
      ],
      "metadata": {
        "collapsed": true,
        "id": "mX9SChM8-ylq"
      },
      "execution_count": 10,
      "outputs": []
    },
    {
      "cell_type": "markdown",
      "source": [
        "### Variáveis Lógicas (`bool`)\n",
        "\n",
        "* Verdadeiro = `True` = $1$\n",
        "* Falso = `False` = $0$"
      ],
      "metadata": {
        "id": "ePxFkjse9pLU"
      }
    },
    {
      "cell_type": "code",
      "source": [
        "# Cuidado com o Case Sensitive ( true != True )\n",
        "python = True\n",
        "print(python)\n",
        "print(type(python))"
      ],
      "metadata": {
        "colab": {
          "base_uri": "https://localhost:8080/"
        },
        "id": "f1vlbYKb9sHI",
        "outputId": "6efd8ef8-4f36-482c-eb61-6781dfb8fa13"
      },
      "execution_count": 11,
      "outputs": [
        {
          "output_type": "stream",
          "name": "stdout",
          "text": [
            "True\n",
            "<class 'bool'>\n"
          ]
        }
      ]
    },
    {
      "cell_type": "markdown",
      "source": [
        "### Operadores Aritméticos\n",
        "\n",
        "* Soma `x + y`\n",
        "* Subtração `x - y`\n",
        "* Multiplicação `x * y`\n",
        "* Divisão `x / y`\n",
        "* Divisão desconsiderando a parte fracionária `x // y`\n",
        "* Potência `x ** y`\n",
        "* Resto de uma divisão `x % y`\n",
        "* Converter para Inteiro `int(x)`\n",
        "* Converter para Real `float(x)`"
      ],
      "metadata": {
        "id": "T5cxVeH28P9Y"
      }
    },
    {
      "cell_type": "code",
      "source": [
        "#Exemplos com Operadores Aritméticos\n",
        "x = 10\n",
        "y = 64\n",
        "\n",
        "print('Soma:', x + y)\n",
        "print('Subtração:', x - y)\n",
        "print('Multiplicação:', x * y)\n",
        "print('Divisão:', x / y)\n",
        "print('Divisão desconsiderando a parte fracionária:', x // y)\n",
        "print('Módulo - Resto de uma divisão:', x % y)\n",
        "print('x elevado à 2 potência:', x ** 2)\n",
        "print('y elevado à 2 potência:', y ** 2)\n",
        "print('raíz quadrada de y:', round(y ** 0.5,2))"
      ],
      "metadata": {
        "colab": {
          "base_uri": "https://localhost:8080/"
        },
        "id": "aAYqm9ti_5G9",
        "outputId": "5895c1f1-5a85-491b-9f63-8fbd12b54312"
      },
      "execution_count": 22,
      "outputs": [
        {
          "output_type": "stream",
          "name": "stdout",
          "text": [
            "Soma: 74\n",
            "Subtração: -54\n",
            "Multiplicação: 640\n",
            "Divisão: 0.15625\n",
            "Divisão desconsiderando a parte fracionária: 0\n",
            "Módulo - Resto de uma divisão: 10\n",
            "x elevado à 2 potência: 100\n",
            "y elevado à 2 potência: 4096\n",
            "raíz quadrada de y: 8.0\n"
          ]
        }
      ]
    },
    {
      "cell_type": "code",
      "source": [
        "#Conversões de Valores\n",
        "print('Converter para inteiro:', int(4.36))\n",
        "print('Converter para inteiro (texto):', int(\"4\"))\n",
        "print('Converter para float:', float(9))\n",
        "print('Converter para float (texto):', float(\"4.36\"))"
      ],
      "metadata": {
        "colab": {
          "base_uri": "https://localhost:8080/"
        },
        "id": "_GhWNACaA34N",
        "outputId": "e1c5b05e-a07c-460e-d770-8032f4ff5fa2"
      },
      "execution_count": 23,
      "outputs": [
        {
          "output_type": "stream",
          "name": "stdout",
          "text": [
            "Converter para inteiro: 4\n",
            "Converter para inteiro (texto): 4\n",
            "Converter para float: 9.0\n",
            "Converter para float (texto): 4.36\n"
          ]
        }
      ]
    },
    {
      "cell_type": "markdown",
      "source": [
        "### Arredondamento, Piso, Teto e Absoluto\n",
        "* Arredondamento `round()`\n",
        "* Teto - `ceil(x)` retornará o menor número inteiro **maior** ou igual a `x`.\n",
        "* Piso - `floor(x)` retornará o maior número inteiro **menor** ou igual a `x`.\n",
        "* Absoluto - `abs(x)` retornará um número `x` sempre **positivo**"
      ],
      "metadata": {
        "id": "Dx2UMMfIBih5"
      }
    },
    {
      "cell_type": "code",
      "source": [
        "import math\n",
        "#import math as m\n",
        "#from math import floor, ceil\n",
        "\n",
        "print('Arredondamento simples:', round(3.33))\n",
        "print('Arredondamento com casas decimais:', round(3.33156487, 3)) # 3 casas\n",
        "print('Piso (floor):', math.floor(3.99))\n",
        "print('Teto (ceil):', math.ceil(3.001))"
      ],
      "metadata": {
        "colab": {
          "base_uri": "https://localhost:8080/"
        },
        "id": "VuJSdW2ABmT-",
        "outputId": "0e63998b-e84b-4e22-e720-aa82356f44a5"
      },
      "execution_count": 24,
      "outputs": [
        {
          "output_type": "stream",
          "name": "stdout",
          "text": [
            "Arredondamento simples: 3\n",
            "Arredondamento com casas decimais: 3.332\n",
            "Piso (floor): 3\n",
            "Teto (ceil): 4\n"
          ]
        }
      ]
    },
    {
      "cell_type": "markdown",
      "source": [
        "### Operadores Relacionais\n",
        "\n",
        "Uma condição é o estabelecimento de uma relação lógica entre dois elementos. Para definir uma relação lógica é necessário usar operadores relacionais. Uma relação lógica (comparação) retorna somente os valores verdadeiro (`True`) ou falso (`False`).\n",
        "\n",
        "* Igual a: `x == y` (não existe `x === y`)\n",
        "* Maior que: `x > y`\n",
        "* Menor que: `x < y`\n",
        "* Maior ou igual a: `x >= y`\n",
        "* Menor ou igual a: `x <= y`\n",
        "* Diferente de: `x != y`"
      ],
      "metadata": {
        "id": "bQfVWtnmChiZ"
      }
    },
    {
      "cell_type": "code",
      "source": [
        "#Exemplos de Operações Lógicas\n",
        "x = 3\n",
        "y = 4\n",
        "\n",
        "print('Igual a:', x == y)\n",
        "print('Maior que:', x > y)\n",
        "print('Menor que:', x < y)\n",
        "print('Maior ou igual a:', x >= y)\n",
        "print('Menor ou igual a:', x <= y)\n",
        "print('Diferente de:', x != y)"
      ],
      "metadata": {
        "colab": {
          "base_uri": "https://localhost:8080/"
        },
        "id": "Si1ZtTiyCiak",
        "outputId": "b0b3b64e-5ab3-4d8a-dea2-7880830d0993"
      },
      "execution_count": 25,
      "outputs": [
        {
          "output_type": "stream",
          "name": "stdout",
          "text": [
            "Igual a: False\n",
            "Maior que: False\n",
            "Menor que: True\n",
            "Maior ou igual a: False\n",
            "Menor ou igual a: True\n",
            "Diferente de: True\n"
          ]
        }
      ]
    },
    {
      "cell_type": "markdown",
      "source": [
        "### Operadores Lógicos\n",
        "São utilizados para uma mesma tomada de decisão que necessite de mais de uma condição. Também são conhecidos como operadores booleanos. Operadores lógicos retornam somente os valores verdadeiro ou falso.\n",
        "\n",
        "| Operador Lógico | Função    | Prioridade |\n",
        "|-----------------|-----------|---------------------|\n",
        "| `NOT`           | Negação   | 1                   |\n",
        "| `AND`           | Conjunção | 2                   |\n",
        "| `OR`            | Disjunção | 3                   |"
      ],
      "metadata": {
        "id": "0MN6CaqkDWCc"
      }
    },
    {
      "cell_type": "code",
      "source": [
        "#Exemplos com Operadores Lógicos\n",
        "x = 1\n",
        "y = 3\n",
        "z = 5\n",
        "w = 2\n",
        "\n",
        "print((z > w) and (w > y))  # False\n",
        "print((z > w) or (w > y))   # True\n",
        "print(not (y + w == z))     # False"
      ],
      "metadata": {
        "colab": {
          "base_uri": "https://localhost:8080/"
        },
        "id": "RWN5YNg2Db6g",
        "outputId": "34711eb5-d043-4dc2-992e-b09da7e0cb1b"
      },
      "execution_count": 26,
      "outputs": [
        {
          "output_type": "stream",
          "name": "stdout",
          "text": [
            "False\n",
            "True\n",
            "False\n"
          ]
        }
      ]
    }
  ]
}