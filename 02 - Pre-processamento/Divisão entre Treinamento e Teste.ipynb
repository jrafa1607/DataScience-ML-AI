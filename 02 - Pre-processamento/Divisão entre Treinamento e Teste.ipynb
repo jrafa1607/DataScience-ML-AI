{
 "cells": [
  {
   "cell_type": "code",
   "execution_count": 1,
   "metadata": {},
   "outputs": [],
   "source": [
    "#Divisão da base em Treinamento e teste com registros aleatórios"
   ]
  },
  {
   "cell_type": "code",
   "execution_count": 2,
   "metadata": {},
   "outputs": [],
   "source": [
    "import pandas as pd\n",
    "import numpy as np"
   ]
  },
  {
   "cell_type": "code",
   "execution_count": 3,
   "metadata": {},
   "outputs": [],
   "source": [
    "df = pd.read_csv('D:/OneDrive/OneDrive - Etec Centro Paula Souza/Databases/credit_data.csv')\n",
    "df.columns = ['Idcliente', 'salario', 'idade', 'emprestimo', 'aprovado']"
   ]
  },
  {
   "cell_type": "code",
   "execution_count": 4,
   "metadata": {},
   "outputs": [
    {
     "name": "stdout",
     "output_type": "stream",
     "text": [
      "      Idcliente       salario      idade   emprestimo  aprovado\n",
      "0             1  66155.925095  59.017015  8106.532131         0\n",
      "1             2  34415.153966  48.117153  6564.745018         0\n",
      "2             3  57317.170063  63.108049  8020.953296         0\n",
      "3             4  42709.534201  45.751972  6103.642260         0\n",
      "4             5  66952.688845  18.584336  8770.099235         1\n",
      "...         ...           ...        ...          ...       ...\n",
      "1995       1996  59221.044874  48.518179  1926.729397         0\n",
      "1996       1997  69516.127573  23.162104  3503.176156         0\n",
      "1997       1998  44311.449262  28.017167  5522.786693         1\n",
      "1998       1999  43756.056605  63.971796  1622.722598         0\n",
      "1999       2000  69436.579552  56.152617  7378.833599         0\n",
      "\n",
      "[2000 rows x 5 columns]\n"
     ]
    }
   ],
   "source": [
    "print(df)"
   ]
  },
  {
   "cell_type": "code",
   "execution_count": 5,
   "metadata": {},
   "outputs": [],
   "source": [
    "#Divisão da Base entre Previsores e Classificador"
   ]
  },
  {
   "cell_type": "code",
   "execution_count": 6,
   "metadata": {},
   "outputs": [],
   "source": [
    "X = df.iloc[:,1:4].values\n",
    "Y = df.iloc[:, 4].values"
   ]
  },
  {
   "cell_type": "code",
   "execution_count": 7,
   "metadata": {},
   "outputs": [],
   "source": [
    "#Divisão da base em Treinamento e Teste"
   ]
  },
  {
   "cell_type": "code",
   "execution_count": 8,
   "metadata": {},
   "outputs": [],
   "source": [
    "from sklearn.model_selection import train_test_split\n",
    "X_train, X_test, Y_train, Y_test = train_test_split(X, Y, test_size=0.25, random_state=0)"
   ]
  },
  {
   "cell_type": "code",
   "execution_count": 9,
   "metadata": {},
   "outputs": [
    {
     "name": "stdout",
     "output_type": "stream",
     "text": [
      "(1500, 3) (500, 3)\n"
     ]
    }
   ],
   "source": [
    "print(X_train.shape, X_test.shape)"
   ]
  },
  {
   "cell_type": "code",
   "execution_count": 10,
   "metadata": {},
   "outputs": [
    {
     "name": "stdout",
     "output_type": "stream",
     "text": [
      "(1500,) (500,)\n"
     ]
    }
   ],
   "source": [
    "print(Y_train.shape, Y_test.shape)"
   ]
  },
  {
   "cell_type": "code",
   "execution_count": 11,
   "metadata": {},
   "outputs": [],
   "source": [
    "X_train = pd.DataFrame(data=X_train)\n",
    "X_test = pd.DataFrame(data=X_test)"
   ]
  },
  {
   "cell_type": "code",
   "execution_count": 12,
   "metadata": {},
   "outputs": [],
   "source": [
    "Y_train = pd.DataFrame(data=Y_train)\n",
    "Y_test = pd.DataFrame(data=Y_test)"
   ]
  },
  {
   "cell_type": "code",
   "execution_count": 13,
   "metadata": {},
   "outputs": [],
   "source": [
    "#Visualizando os primeiros registros dos previsores e do classificador"
   ]
  },
  {
   "cell_type": "code",
   "execution_count": 14,
   "metadata": {},
   "outputs": [
    {
     "name": "stdout",
     "output_type": "stream",
     "text": [
      "              0          1            2\n",
      "0  25631.434731  47.635577  4778.700543\n",
      "1  66217.944846  19.081624   745.076095\n",
      "2  33965.523709  43.912746  3123.898738\n",
      "   0\n",
      "0  0\n",
      "1  0\n",
      "2  0\n"
     ]
    }
   ],
   "source": [
    "print(X_train.head(3))\n",
    "print(Y_train.head(3))"
   ]
  },
  {
   "cell_type": "code",
   "execution_count": 17,
   "metadata": {},
   "outputs": [],
   "source": [
    "#Visualizando detalhes das variáveis de Treinamento e Teste"
   ]
  },
  {
   "cell_type": "code",
   "execution_count": 15,
   "metadata": {},
   "outputs": [
    {
     "name": "stdout",
     "output_type": "stream",
     "text": [
      "                 0          1             2\n",
      "0     25631.434731  47.635577   4778.700543\n",
      "1     66217.944846  19.081624    745.076095\n",
      "2     33965.523709  43.912746   3123.898738\n",
      "3     25052.820256  45.573993   3367.701923\n",
      "4     36840.603657  36.674583   6557.940331\n",
      "...            ...        ...           ...\n",
      "1495  29496.594127  54.665821   2216.975334\n",
      "1496  31044.391757  49.935868   4465.872769\n",
      "1497  48445.113124  38.979568   8733.442215\n",
      "1498  53741.371019  49.729433   6513.150125\n",
      "1499  55116.234515  41.468885  10284.606786\n",
      "\n",
      "[1500 rows x 3 columns]\n"
     ]
    }
   ],
   "source": [
    "print(X_train)"
   ]
  },
  {
   "cell_type": "code",
   "execution_count": 16,
   "metadata": {},
   "outputs": [
    {
     "name": "stdout",
     "output_type": "stream",
     "text": [
      "                0          1             2\n",
      "0    68147.957318  22.984394  12307.562323\n",
      "1    59621.367643  54.150619   7014.622708\n",
      "2    39246.544887  48.322056    919.114640\n",
      "3    34395.229216  25.548224   2089.732500\n",
      "4    37965.849338  27.828580    299.054706\n",
      "..            ...        ...           ...\n",
      "495  51088.210782  52.085872   9097.112036\n",
      "496  39453.645614  32.401546    436.935247\n",
      "497  65017.593494  26.917833   1017.166545\n",
      "498  22832.323930  32.516423   3318.407787\n",
      "499  30497.204505  28.476944   4573.594090\n",
      "\n",
      "[500 rows x 3 columns]\n"
     ]
    }
   ],
   "source": [
    "print(X_test)"
   ]
  },
  {
   "cell_type": "code",
   "execution_count": 17,
   "metadata": {},
   "outputs": [
    {
     "name": "stdout",
     "output_type": "stream",
     "text": [
      "      0\n",
      "0     0\n",
      "1     0\n",
      "2     0\n",
      "3     0\n",
      "4     0\n",
      "...  ..\n",
      "1495  0\n",
      "1496  0\n",
      "1497  0\n",
      "1498  0\n",
      "1499  0\n",
      "\n",
      "[1500 rows x 1 columns]\n"
     ]
    }
   ],
   "source": [
    "print(Y_train)"
   ]
  },
  {
   "cell_type": "code",
   "execution_count": 18,
   "metadata": {},
   "outputs": [
    {
     "name": "stdout",
     "output_type": "stream",
     "text": [
      "     0\n",
      "0    1\n",
      "1    0\n",
      "2    0\n",
      "3    0\n",
      "4    0\n",
      "..  ..\n",
      "495  0\n",
      "496  0\n",
      "497  0\n",
      "498  1\n",
      "499  1\n",
      "\n",
      "[500 rows x 1 columns]\n"
     ]
    }
   ],
   "source": [
    "print(Y_test)"
   ]
  },
  {
   "cell_type": "code",
   "execution_count": null,
   "metadata": {},
   "outputs": [],
   "source": []
  }
 ],
 "metadata": {
  "kernelspec": {
   "display_name": "Python 3",
   "language": "python",
   "name": "python3"
  },
  "language_info": {
   "codemirror_mode": {
    "name": "ipython",
    "version": 3
   },
   "file_extension": ".py",
   "mimetype": "text/x-python",
   "name": "python",
   "nbconvert_exporter": "python",
   "pygments_lexer": "ipython3",
   "version": "3.8.5"
  }
 },
 "nbformat": 4,
 "nbformat_minor": 4
}
