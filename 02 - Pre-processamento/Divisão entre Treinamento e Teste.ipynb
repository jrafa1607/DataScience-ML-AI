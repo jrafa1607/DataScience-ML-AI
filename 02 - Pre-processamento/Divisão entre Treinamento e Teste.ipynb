{
  "cells": [
    {
      "cell_type": "code",
      "execution_count": 1,
      "metadata": {
        "id": "-k5lMoYRJ12N"
      },
      "outputs": [],
      "source": [
        "#Import Libs\n",
        "from sklearn.model_selection import train_test_split\n",
        "import pandas as pd\n",
        "import numpy as np"
      ]
    },
    {
      "cell_type": "code",
      "source": [
        "#Read the Dataframe\n",
        "df = pd.read_csv('/content/credit_data.csv')\n",
        "print(df)"
      ],
      "metadata": {
        "id": "PRBR8cxHKFPP",
        "outputId": "ee7cfbcf-54e1-4212-f45f-1e9589f2d823",
        "colab": {
          "base_uri": "https://localhost:8080/"
        }
      },
      "execution_count": 2,
      "outputs": [
        {
          "output_type": "stream",
          "name": "stdout",
          "text": [
            "      i#clientid        income        age         loan  c#default\n",
            "0              1  66155.925095  59.017015  8106.532131          0\n",
            "1              2  34415.153966  48.117153  6564.745018          0\n",
            "2              3  57317.170063  63.108049  8020.953296          0\n",
            "3              4  42709.534201  45.751972  6103.642260          0\n",
            "4              5  66952.688845  18.584336  8770.099235          1\n",
            "...          ...           ...        ...          ...        ...\n",
            "1995        1996  59221.044874  48.518179  1926.729397          0\n",
            "1996        1997  69516.127573  23.162104  3503.176156          0\n",
            "1997        1998  44311.449262  28.017167  5522.786693          1\n",
            "1998        1999  43756.056605  63.971796  1622.722598          0\n",
            "1999        2000  69436.579552  56.152617  7378.833599          0\n",
            "\n",
            "[2000 rows x 5 columns]\n"
          ]
        }
      ]
    },
    {
      "cell_type": "code",
      "source": [
        "#Split the Dataframe in Data (X) and Classifier (Y)\n",
        "X = df.iloc[:,1:4].values\n",
        "Y = df.iloc[:, 4].values"
      ],
      "metadata": {
        "id": "SUJ9dfVaKQRt"
      },
      "execution_count": 3,
      "outputs": []
    },
    {
      "cell_type": "code",
      "source": [
        "#Apply the Train Test Split by Sklearn\n",
        "X_train, X_test, Y_train, Y_test = train_test_split(X, Y, test_size=0.25, random_state=0)"
      ],
      "metadata": {
        "id": "SMvkK_gKKbqB"
      },
      "execution_count": 4,
      "outputs": []
    },
    {
      "cell_type": "code",
      "source": [
        "#Show the Size of Data (X)\n",
        "print(X_train.shape, X_test.shape)"
      ],
      "metadata": {
        "id": "R9kbBirDKbnk",
        "outputId": "96cdda83-9130-41fc-930f-aab42ea16480",
        "colab": {
          "base_uri": "https://localhost:8080/"
        }
      },
      "execution_count": 5,
      "outputs": [
        {
          "output_type": "stream",
          "name": "stdout",
          "text": [
            "(1500, 3) (500, 3)\n"
          ]
        }
      ]
    },
    {
      "cell_type": "code",
      "source": [
        "#Show the Size of Classifier (Y)\n",
        "print(Y_train.shape, Y_test.shape)"
      ],
      "metadata": {
        "id": "l-ul7jlnK0ra",
        "outputId": "ea57fe74-407c-4fdb-cea5-c5449eee29cc",
        "colab": {
          "base_uri": "https://localhost:8080/"
        }
      },
      "execution_count": 6,
      "outputs": [
        {
          "output_type": "stream",
          "name": "stdout",
          "text": [
            "(1500,) (500,)\n"
          ]
        }
      ]
    }
  ],
  "metadata": {
    "kernelspec": {
      "display_name": "Python 3",
      "language": "python",
      "name": "python3"
    },
    "language_info": {
      "codemirror_mode": {
        "name": "ipython",
        "version": 3
      },
      "file_extension": ".py",
      "mimetype": "text/x-python",
      "name": "python",
      "nbconvert_exporter": "python",
      "pygments_lexer": "ipython3",
      "version": "3.8.5"
    },
    "colab": {
      "provenance": []
    }
  },
  "nbformat": 4,
  "nbformat_minor": 0
}