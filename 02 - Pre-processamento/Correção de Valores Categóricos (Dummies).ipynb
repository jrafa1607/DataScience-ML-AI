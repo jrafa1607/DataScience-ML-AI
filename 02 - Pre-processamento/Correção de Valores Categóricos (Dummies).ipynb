{
  "cells": [
    {
      "cell_type": "code",
      "execution_count": 1,
      "metadata": {
        "id": "qjGG8x4GITKg"
      },
      "outputs": [],
      "source": [
        "#Categorização - Resolvendo variáveis Dummies"
      ]
    },
    {
      "cell_type": "code",
      "execution_count": 2,
      "metadata": {
        "id": "mf1b0MihITKi"
      },
      "outputs": [],
      "source": [
        "#Ao categorizar um atributo, os valores textuais recebem valores numéricos, como 1, 2, 3, etc.\n",
        "#Mas não há uma ordem de grandeza nestes valores textuais, assim são chamadas de variáveis dummies!"
      ]
    },
    {
      "cell_type": "code",
      "execution_count": 3,
      "metadata": {
        "id": "SoxFYLbmITKi"
      },
      "outputs": [],
      "source": [
        "from sklearn.preprocessing import LabelEncoder, OneHotEncoder\n",
        "from sklearn.compose import ColumnTransformer\n",
        "import pandas as pd\n",
        "import numpy as np"
      ]
    },
    {
      "cell_type": "code",
      "execution_count": 4,
      "metadata": {
        "id": "HwVFmmOOITKj"
      },
      "outputs": [],
      "source": [
        "import warnings\n",
        "from sklearn.exceptions import DataConversionWarning\n",
        "warnings.filterwarnings(action='ignore', category=DataConversionWarning)"
      ]
    },
    {
      "cell_type": "code",
      "source": [
        "#Import Database (After Upload the Database for the Google Colab)\n",
        "df = pd.read_csv('/content/census.csv')"
      ],
      "metadata": {
        "id": "Hci-BpDAIsRo"
      },
      "execution_count": 5,
      "outputs": []
    },
    {
      "cell_type": "code",
      "source": [
        "#Fix the Columns Names\n",
        "df.columns = ['idade', 'tipo_trabalho', 'peso', 'educacao', 'educacao_numero', 'relacionamento', 'ocupacao', 'relacionamento', 'raca', 'sexo', 'capital_ganho', 'capital_perda', 'horas_semana', 'nacionalidade', 'salario']"
      ],
      "metadata": {
        "id": "k2Ke9pFsI0Ej"
      },
      "execution_count": 6,
      "outputs": []
    },
    {
      "cell_type": "code",
      "execution_count": 7,
      "metadata": {
        "colab": {
          "base_uri": "https://localhost:8080/"
        },
        "id": "1KQ5lS8tITKk",
        "outputId": "f86d16ce-bd37-4c9c-c4dd-72ccc9a6a3a1"
      },
      "outputs": [
        {
          "output_type": "stream",
          "name": "stdout",
          "text": [
            "       idade      tipo_trabalho    peso     educacao  educacao_numero  \\\n",
            "0         39          State-gov   77516    Bachelors               13   \n",
            "1         50   Self-emp-not-inc   83311    Bachelors               13   \n",
            "2         38            Private  215646      HS-grad                9   \n",
            "3         53            Private  234721         11th                7   \n",
            "4         28            Private  338409    Bachelors               13   \n",
            "...      ...                ...     ...          ...              ...   \n",
            "32556     27            Private  257302   Assoc-acdm               12   \n",
            "32557     40            Private  154374      HS-grad                9   \n",
            "32558     58            Private  151910      HS-grad                9   \n",
            "32559     22            Private  201490      HS-grad                9   \n",
            "32560     52       Self-emp-inc  287927      HS-grad                9   \n",
            "\n",
            "            relacionamento            ocupacao  relacionamento    raca  \\\n",
            "0            Never-married        Adm-clerical   Not-in-family   White   \n",
            "1       Married-civ-spouse     Exec-managerial         Husband   White   \n",
            "2                 Divorced   Handlers-cleaners   Not-in-family   White   \n",
            "3       Married-civ-spouse   Handlers-cleaners         Husband   Black   \n",
            "4       Married-civ-spouse      Prof-specialty            Wife   Black   \n",
            "...                    ...                 ...             ...     ...   \n",
            "32556   Married-civ-spouse        Tech-support            Wife   White   \n",
            "32557   Married-civ-spouse   Machine-op-inspct         Husband   White   \n",
            "32558              Widowed        Adm-clerical       Unmarried   White   \n",
            "32559        Never-married        Adm-clerical       Own-child   White   \n",
            "32560   Married-civ-spouse     Exec-managerial            Wife   White   \n",
            "\n",
            "          sexo  capital_ganho  capital_perda  horas_semana   nacionalidade  \\\n",
            "0         Male           2174              0            40   United-States   \n",
            "1         Male              0              0            13   United-States   \n",
            "2         Male              0              0            40   United-States   \n",
            "3         Male              0              0            40   United-States   \n",
            "4       Female              0              0            40            Cuba   \n",
            "...        ...            ...            ...           ...             ...   \n",
            "32556   Female              0              0            38   United-States   \n",
            "32557     Male              0              0            40   United-States   \n",
            "32558   Female              0              0            40   United-States   \n",
            "32559     Male              0              0            20   United-States   \n",
            "32560   Female          15024              0            40   United-States   \n",
            "\n",
            "      salario  \n",
            "0       <=50K  \n",
            "1       <=50K  \n",
            "2       <=50K  \n",
            "3       <=50K  \n",
            "4       <=50K  \n",
            "...       ...  \n",
            "32556   <=50K  \n",
            "32557    >50K  \n",
            "32558   <=50K  \n",
            "32559   <=50K  \n",
            "32560    >50K  \n",
            "\n",
            "[32561 rows x 15 columns]\n"
          ]
        }
      ],
      "source": [
        "print(df)"
      ]
    },
    {
      "cell_type": "code",
      "execution_count": 8,
      "metadata": {
        "id": "MHswRe2RITKk"
      },
      "outputs": [],
      "source": [
        "#Divisão da base entre Previsores e Classificadores\n",
        "X = df.iloc[:,0:14].values\n",
        "Y = df.iloc[:, 14].values"
      ]
    },
    {
      "cell_type": "code",
      "execution_count": 9,
      "metadata": {
        "id": "_6qtBwu8ITKm"
      },
      "outputs": [],
      "source": [
        "#Definição da lista dos atributos com variáveis Dummies e atribuição dos valores na função OneHotEncoder\n",
        "onehotencorder = ColumnTransformer(transformers=[(\"OneHot\", OneHotEncoder(), [1,3,5,6,7,8,9,13])],remainder='passthrough')\n",
        "X = onehotencorder.fit_transform(X).toarray()"
      ]
    },
    {
      "cell_type": "code",
      "execution_count": 10,
      "metadata": {
        "id": "Rqi6FUj2ITKn"
      },
      "outputs": [],
      "source": [
        "#Após a correção das variáveis Dummies, é necessário converter a base para um DataFrame\n",
        "X = pd.DataFrame(data=X)"
      ]
    },
    {
      "cell_type": "code",
      "execution_count": 11,
      "metadata": {
        "colab": {
          "base_uri": "https://localhost:8080/"
        },
        "id": "3TAikJaWITKo",
        "outputId": "800f3706-53bf-413e-ed60-78565388488d"
      },
      "outputs": [
        {
          "output_type": "stream",
          "name": "stdout",
          "text": [
            "       0    1    2    3    4    5    6    7    8    9    ...  98   99   100  \\\n",
            "0      0.0  0.0  0.0  0.0  0.0  0.0  0.0  1.0  0.0  0.0  ...  0.0  1.0  0.0   \n",
            "1      0.0  0.0  0.0  0.0  0.0  0.0  1.0  0.0  0.0  0.0  ...  0.0  1.0  0.0   \n",
            "2      0.0  0.0  0.0  0.0  1.0  0.0  0.0  0.0  0.0  0.0  ...  0.0  1.0  0.0   \n",
            "3      0.0  0.0  0.0  0.0  1.0  0.0  0.0  0.0  0.0  0.0  ...  0.0  1.0  0.0   \n",
            "4      0.0  0.0  0.0  0.0  1.0  0.0  0.0  0.0  0.0  0.0  ...  0.0  0.0  0.0   \n",
            "...    ...  ...  ...  ...  ...  ...  ...  ...  ...  ...  ...  ...  ...  ...   \n",
            "32556  0.0  0.0  0.0  0.0  1.0  0.0  0.0  0.0  0.0  0.0  ...  0.0  1.0  0.0   \n",
            "32557  0.0  0.0  0.0  0.0  1.0  0.0  0.0  0.0  0.0  0.0  ...  0.0  1.0  0.0   \n",
            "32558  0.0  0.0  0.0  0.0  1.0  0.0  0.0  0.0  0.0  0.0  ...  0.0  1.0  0.0   \n",
            "32559  0.0  0.0  0.0  0.0  1.0  0.0  0.0  0.0  0.0  0.0  ...  0.0  1.0  0.0   \n",
            "32560  0.0  0.0  0.0  0.0  0.0  1.0  0.0  0.0  0.0  0.0  ...  0.0  1.0  0.0   \n",
            "\n",
            "       101   102       103   104      105  106   107  \n",
            "0      0.0  39.0   77516.0  13.0   2174.0  0.0  40.0  \n",
            "1      0.0  50.0   83311.0  13.0      0.0  0.0  13.0  \n",
            "2      0.0  38.0  215646.0   9.0      0.0  0.0  40.0  \n",
            "3      0.0  53.0  234721.0   7.0      0.0  0.0  40.0  \n",
            "4      0.0  28.0  338409.0  13.0      0.0  0.0  40.0  \n",
            "...    ...   ...       ...   ...      ...  ...   ...  \n",
            "32556  0.0  27.0  257302.0  12.0      0.0  0.0  38.0  \n",
            "32557  0.0  40.0  154374.0   9.0      0.0  0.0  40.0  \n",
            "32558  0.0  58.0  151910.0   9.0      0.0  0.0  40.0  \n",
            "32559  0.0  22.0  201490.0   9.0      0.0  0.0  20.0  \n",
            "32560  0.0  52.0  287927.0   9.0  15024.0  0.0  40.0  \n",
            "\n",
            "[32561 rows x 108 columns]\n"
          ]
        }
      ],
      "source": [
        "#Visualização do Resultado\n",
        "print(X)"
      ]
    },
    {
      "cell_type": "code",
      "execution_count": 12,
      "metadata": {
        "colab": {
          "base_uri": "https://localhost:8080/"
        },
        "id": "jtY762DNITKp",
        "outputId": "00d7a79e-3a4d-4eb6-8947-1eb53f3120fa"
      },
      "outputs": [
        {
          "output_type": "stream",
          "name": "stdout",
          "text": [
            "       0    1    2    3    4    5    6    7    8    9    ...  98   99   100  \\\n",
            "0      0.0  0.0  0.0  0.0  0.0  0.0  0.0  1.0  0.0  0.0  ...  0.0  1.0  0.0   \n",
            "1      0.0  0.0  0.0  0.0  0.0  0.0  1.0  0.0  0.0  0.0  ...  0.0  1.0  0.0   \n",
            "2      0.0  0.0  0.0  0.0  1.0  0.0  0.0  0.0  0.0  0.0  ...  0.0  1.0  0.0   \n",
            "3      0.0  0.0  0.0  0.0  1.0  0.0  0.0  0.0  0.0  0.0  ...  0.0  1.0  0.0   \n",
            "4      0.0  0.0  0.0  0.0  1.0  0.0  0.0  0.0  0.0  0.0  ...  0.0  0.0  0.0   \n",
            "...    ...  ...  ...  ...  ...  ...  ...  ...  ...  ...  ...  ...  ...  ...   \n",
            "32556  0.0  0.0  0.0  0.0  1.0  0.0  0.0  0.0  0.0  0.0  ...  0.0  1.0  0.0   \n",
            "32557  0.0  0.0  0.0  0.0  1.0  0.0  0.0  0.0  0.0  0.0  ...  0.0  1.0  0.0   \n",
            "32558  0.0  0.0  0.0  0.0  1.0  0.0  0.0  0.0  0.0  0.0  ...  0.0  1.0  0.0   \n",
            "32559  0.0  0.0  0.0  0.0  1.0  0.0  0.0  0.0  0.0  0.0  ...  0.0  1.0  0.0   \n",
            "32560  0.0  0.0  0.0  0.0  0.0  1.0  0.0  0.0  0.0  0.0  ...  0.0  1.0  0.0   \n",
            "\n",
            "       101   102       103   104      105  106   107  \n",
            "0      0.0  39.0   77516.0  13.0   2174.0  0.0  40.0  \n",
            "1      0.0  50.0   83311.0  13.0      0.0  0.0  13.0  \n",
            "2      0.0  38.0  215646.0   9.0      0.0  0.0  40.0  \n",
            "3      0.0  53.0  234721.0   7.0      0.0  0.0  40.0  \n",
            "4      0.0  28.0  338409.0  13.0      0.0  0.0  40.0  \n",
            "...    ...   ...       ...   ...      ...  ...   ...  \n",
            "32556  0.0  27.0  257302.0  12.0      0.0  0.0  38.0  \n",
            "32557  0.0  40.0  154374.0   9.0      0.0  0.0  40.0  \n",
            "32558  0.0  58.0  151910.0   9.0      0.0  0.0  40.0  \n",
            "32559  0.0  22.0  201490.0   9.0      0.0  0.0  20.0  \n",
            "32560  0.0  52.0  287927.0   9.0  15024.0  0.0  40.0  \n",
            "\n",
            "[32561 rows x 108 columns]\n"
          ]
        }
      ],
      "source": [
        "#Houve um Aumento de 15 Colunas para 109 Colunas\n",
        "print(X.iloc[:,0:109])"
      ]
    },
    {
      "cell_type": "code",
      "execution_count": 13,
      "metadata": {
        "id": "hbTZ_td0ITKq"
      },
      "outputs": [],
      "source": [
        "#Exportando para um arquivo .csv\n",
        "X.to_csv('/content/census_update.csv', index=False);"
      ]
    }
  ],
  "metadata": {
    "kernelspec": {
      "display_name": "Python 3 (ipykernel)",
      "language": "python",
      "name": "python3"
    },
    "language_info": {
      "codemirror_mode": {
        "name": "ipython",
        "version": 3
      },
      "file_extension": ".py",
      "mimetype": "text/x-python",
      "name": "python",
      "nbconvert_exporter": "python",
      "pygments_lexer": "ipython3",
      "version": "3.9.12"
    },
    "colab": {
      "provenance": []
    }
  },
  "nbformat": 4,
  "nbformat_minor": 0
}