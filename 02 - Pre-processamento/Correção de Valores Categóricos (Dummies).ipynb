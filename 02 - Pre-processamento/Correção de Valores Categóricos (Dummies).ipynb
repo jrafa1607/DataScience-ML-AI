{
 "cells": [
  {
   "cell_type": "code",
   "execution_count": 1,
   "metadata": {},
   "outputs": [],
   "source": [
    "#Categorização - Resolvendo variáveis Dummies"
   ]
  },
  {
   "cell_type": "code",
   "execution_count": 2,
   "metadata": {},
   "outputs": [],
   "source": [
    "#Ao categorizar um atributo, os valores textuais recebem valores numéricos, como 1, 2, 3, etc. \n",
    "#Mas não há uma ordem de grandeza nestes valores textuais, assim são chamadas de variáveis dummies!"
   ]
  },
  {
   "cell_type": "code",
   "execution_count": 3,
   "metadata": {},
   "outputs": [],
   "source": [
    "from sklearn.preprocessing import LabelEncoder, OneHotEncoder\n",
    "from sklearn.compose import ColumnTransformer\n",
    "import pandas as pd\n",
    "import numpy as np"
   ]
  },
  {
   "cell_type": "code",
   "execution_count": 4,
   "metadata": {},
   "outputs": [],
   "source": [
    "import warnings\n",
    "from sklearn.exceptions import DataConversionWarning\n",
    "warnings.filterwarnings(action='ignore', category=DataConversionWarning)"
   ]
  },
  {
   "cell_type": "code",
   "execution_count": 5,
   "metadata": {},
   "outputs": [],
   "source": [
    "df = pd.read_csv('D:/OneDrive/OneDrive - Etec Centro Paula Souza/Databases/census_updated.csv')\n",
    "df.columns = ['idade', 'tipo_trabalho', 'peso', 'educacao', 'educacao_numero', 'relacionamento', 'ocupacao', 'relacionamento', 'raca', 'sexo', 'capital_ganho', 'capital_perda', 'horas_semana', 'nacionalidade', 'salario']"
   ]
  },
  {
   "cell_type": "code",
   "execution_count": 6,
   "metadata": {},
   "outputs": [
    {
     "name": "stdout",
     "output_type": "stream",
     "text": [
      "       idade  tipo_trabalho    peso  educacao  educacao_numero  \\\n",
      "0         39              7   77516         9               13   \n",
      "1         50              6   83311         9               13   \n",
      "2         38              4  215646        11                9   \n",
      "3         53              4  234721         1                7   \n",
      "4         28              4  338409         9               13   \n",
      "...      ...            ...     ...       ...              ...   \n",
      "32556     27              4  257302         7               12   \n",
      "32557     40              4  154374        11                9   \n",
      "32558     58              4  151910        11                9   \n",
      "32559     22              4  201490        11                9   \n",
      "32560     52              5  287927        11                9   \n",
      "\n",
      "       relacionamento  ocupacao  relacionamento  raca  sexo  capital_ganho  \\\n",
      "0                   4         1               4     4     1           2174   \n",
      "1                   2         4               2     4     1              0   \n",
      "2                   0         6               0     4     1              0   \n",
      "3                   2         6               2     2     1              0   \n",
      "4                   2        10               2     2     0              0   \n",
      "...               ...       ...             ...   ...   ...            ...   \n",
      "32556               2        13               2     4     0              0   \n",
      "32557               2         7               2     4     1              0   \n",
      "32558               6         1               6     4     0              0   \n",
      "32559               4         1               4     4     1              0   \n",
      "32560               2         4               2     4     0          15024   \n",
      "\n",
      "       capital_perda  horas_semana  nacionalidade  salario  \n",
      "0                  0            40             39        0  \n",
      "1                  0            13             39        0  \n",
      "2                  0            40             39        0  \n",
      "3                  0            40             39        0  \n",
      "4                  0            40              5        0  \n",
      "...              ...           ...            ...      ...  \n",
      "32556              0            38             39        0  \n",
      "32557              0            40             39        1  \n",
      "32558              0            40             39        0  \n",
      "32559              0            20             39        0  \n",
      "32560              0            40             39        1  \n",
      "\n",
      "[32561 rows x 15 columns]\n"
     ]
    }
   ],
   "source": [
    "print(df)"
   ]
  },
  {
   "cell_type": "code",
   "execution_count": 7,
   "metadata": {},
   "outputs": [],
   "source": [
    "#Divisão da base entre Previsores e Classificadores"
   ]
  },
  {
   "cell_type": "code",
   "execution_count": 8,
   "metadata": {},
   "outputs": [],
   "source": [
    "X = df.iloc[:,0:14].values\n",
    "Y = df.iloc[:, 14].values"
   ]
  },
  {
   "cell_type": "code",
   "execution_count": 9,
   "metadata": {},
   "outputs": [],
   "source": [
    "#Definição da lista dos atributos com variáveis Dummies e atribuição dos valores na função OneHotEncoder"
   ]
  },
  {
   "cell_type": "code",
   "execution_count": 10,
   "metadata": {},
   "outputs": [],
   "source": [
    "onehotencorder = ColumnTransformer(transformers=[(\"OneHot\", OneHotEncoder(), [1,3,5,6,7,8,9,13])],remainder='passthrough')\n",
    "X = onehotencorder.fit_transform(X).toarray()"
   ]
  },
  {
   "cell_type": "code",
   "execution_count": 11,
   "metadata": {},
   "outputs": [],
   "source": [
    "#Após a correção das variáveis Dummies, é necessário converter a base para um DataFrame"
   ]
  },
  {
   "cell_type": "code",
   "execution_count": 12,
   "metadata": {},
   "outputs": [],
   "source": [
    "X = pd.DataFrame(data=X)"
   ]
  },
  {
   "cell_type": "code",
   "execution_count": 13,
   "metadata": {},
   "outputs": [
    {
     "name": "stdout",
     "output_type": "stream",
     "text": [
      "       0    1    2    3    4    5    6    7    8    9    ...  99   100  101  \\\n",
      "0      0.0  0.0  0.0  0.0  0.0  0.0  0.0  1.0  0.0  0.0  ...  0.0  1.0  0.0   \n",
      "1      0.0  0.0  0.0  0.0  0.0  0.0  1.0  0.0  0.0  0.0  ...  0.0  1.0  0.0   \n",
      "2      0.0  0.0  0.0  0.0  1.0  0.0  0.0  0.0  0.0  0.0  ...  0.0  1.0  0.0   \n",
      "3      0.0  0.0  0.0  0.0  1.0  0.0  0.0  0.0  0.0  0.0  ...  0.0  1.0  0.0   \n",
      "4      0.0  0.0  0.0  0.0  1.0  0.0  0.0  0.0  0.0  0.0  ...  0.0  0.0  0.0   \n",
      "...    ...  ...  ...  ...  ...  ...  ...  ...  ...  ...  ...  ...  ...  ...   \n",
      "32556  0.0  0.0  0.0  0.0  1.0  0.0  0.0  0.0  0.0  0.0  ...  0.0  1.0  0.0   \n",
      "32557  0.0  0.0  0.0  0.0  1.0  0.0  0.0  0.0  0.0  0.0  ...  0.0  1.0  0.0   \n",
      "32558  0.0  0.0  0.0  0.0  1.0  0.0  0.0  0.0  0.0  0.0  ...  0.0  1.0  0.0   \n",
      "32559  0.0  0.0  0.0  0.0  1.0  0.0  0.0  0.0  0.0  0.0  ...  0.0  1.0  0.0   \n",
      "32560  0.0  0.0  0.0  0.0  0.0  1.0  0.0  0.0  0.0  0.0  ...  0.0  1.0  0.0   \n",
      "\n",
      "       102   103       104   105      106  107   108  \n",
      "0      0.0  39.0   77516.0  13.0   2174.0  0.0  40.0  \n",
      "1      0.0  50.0   83311.0  13.0      0.0  0.0  13.0  \n",
      "2      0.0  38.0  215646.0   9.0      0.0  0.0  40.0  \n",
      "3      0.0  53.0  234721.0   7.0      0.0  0.0  40.0  \n",
      "4      0.0  28.0  338409.0  13.0      0.0  0.0  40.0  \n",
      "...    ...   ...       ...   ...      ...  ...   ...  \n",
      "32556  0.0  27.0  257302.0  12.0      0.0  0.0  38.0  \n",
      "32557  0.0  40.0  154374.0   9.0      0.0  0.0  40.0  \n",
      "32558  0.0  58.0  151910.0   9.0      0.0  0.0  40.0  \n",
      "32559  0.0  22.0  201490.0   9.0      0.0  0.0  20.0  \n",
      "32560  0.0  52.0  287927.0   9.0  15024.0  0.0  40.0  \n",
      "\n",
      "[32561 rows x 109 columns]\n"
     ]
    }
   ],
   "source": [
    "print(X)"
   ]
  },
  {
   "cell_type": "code",
   "execution_count": 14,
   "metadata": {},
   "outputs": [],
   "source": [
    "#Houve um Aumento de 15 Colunas para 109 Colunas"
   ]
  },
  {
   "cell_type": "code",
   "execution_count": 15,
   "metadata": {},
   "outputs": [
    {
     "name": "stdout",
     "output_type": "stream",
     "text": [
      "       0    1    2    3    4    5    6    7    8    9    ...  99   100  101  \\\n",
      "0      0.0  0.0  0.0  0.0  0.0  0.0  0.0  1.0  0.0  0.0  ...  0.0  1.0  0.0   \n",
      "1      0.0  0.0  0.0  0.0  0.0  0.0  1.0  0.0  0.0  0.0  ...  0.0  1.0  0.0   \n",
      "2      0.0  0.0  0.0  0.0  1.0  0.0  0.0  0.0  0.0  0.0  ...  0.0  1.0  0.0   \n",
      "3      0.0  0.0  0.0  0.0  1.0  0.0  0.0  0.0  0.0  0.0  ...  0.0  1.0  0.0   \n",
      "4      0.0  0.0  0.0  0.0  1.0  0.0  0.0  0.0  0.0  0.0  ...  0.0  0.0  0.0   \n",
      "...    ...  ...  ...  ...  ...  ...  ...  ...  ...  ...  ...  ...  ...  ...   \n",
      "32556  0.0  0.0  0.0  0.0  1.0  0.0  0.0  0.0  0.0  0.0  ...  0.0  1.0  0.0   \n",
      "32557  0.0  0.0  0.0  0.0  1.0  0.0  0.0  0.0  0.0  0.0  ...  0.0  1.0  0.0   \n",
      "32558  0.0  0.0  0.0  0.0  1.0  0.0  0.0  0.0  0.0  0.0  ...  0.0  1.0  0.0   \n",
      "32559  0.0  0.0  0.0  0.0  1.0  0.0  0.0  0.0  0.0  0.0  ...  0.0  1.0  0.0   \n",
      "32560  0.0  0.0  0.0  0.0  0.0  1.0  0.0  0.0  0.0  0.0  ...  0.0  1.0  0.0   \n",
      "\n",
      "       102   103       104   105      106  107   108  \n",
      "0      0.0  39.0   77516.0  13.0   2174.0  0.0  40.0  \n",
      "1      0.0  50.0   83311.0  13.0      0.0  0.0  13.0  \n",
      "2      0.0  38.0  215646.0   9.0      0.0  0.0  40.0  \n",
      "3      0.0  53.0  234721.0   7.0      0.0  0.0  40.0  \n",
      "4      0.0  28.0  338409.0  13.0      0.0  0.0  40.0  \n",
      "...    ...   ...       ...   ...      ...  ...   ...  \n",
      "32556  0.0  27.0  257302.0  12.0      0.0  0.0  38.0  \n",
      "32557  0.0  40.0  154374.0   9.0      0.0  0.0  40.0  \n",
      "32558  0.0  58.0  151910.0   9.0      0.0  0.0  40.0  \n",
      "32559  0.0  22.0  201490.0   9.0      0.0  0.0  20.0  \n",
      "32560  0.0  52.0  287927.0   9.0  15024.0  0.0  40.0  \n",
      "\n",
      "[32561 rows x 109 columns]\n"
     ]
    }
   ],
   "source": [
    "print(X.iloc[:,0:109])"
   ]
  },
  {
   "cell_type": "code",
   "execution_count": 16,
   "metadata": {},
   "outputs": [],
   "source": [
    "X['salario'] = Y"
   ]
  },
  {
   "cell_type": "code",
   "execution_count": 17,
   "metadata": {},
   "outputs": [
    {
     "name": "stdout",
     "output_type": "stream",
     "text": [
      "         0    1    2    3    4    5    6    7    8    9  ...  100  101  102  \\\n",
      "0      0.0  0.0  0.0  0.0  0.0  0.0  0.0  1.0  0.0  0.0  ...  1.0  0.0  0.0   \n",
      "1      0.0  0.0  0.0  0.0  0.0  0.0  1.0  0.0  0.0  0.0  ...  1.0  0.0  0.0   \n",
      "2      0.0  0.0  0.0  0.0  1.0  0.0  0.0  0.0  0.0  0.0  ...  1.0  0.0  0.0   \n",
      "3      0.0  0.0  0.0  0.0  1.0  0.0  0.0  0.0  0.0  0.0  ...  1.0  0.0  0.0   \n",
      "4      0.0  0.0  0.0  0.0  1.0  0.0  0.0  0.0  0.0  0.0  ...  0.0  0.0  0.0   \n",
      "...    ...  ...  ...  ...  ...  ...  ...  ...  ...  ...  ...  ...  ...  ...   \n",
      "32556  0.0  0.0  0.0  0.0  1.0  0.0  0.0  0.0  0.0  0.0  ...  1.0  0.0  0.0   \n",
      "32557  0.0  0.0  0.0  0.0  1.0  0.0  0.0  0.0  0.0  0.0  ...  1.0  0.0  0.0   \n",
      "32558  0.0  0.0  0.0  0.0  1.0  0.0  0.0  0.0  0.0  0.0  ...  1.0  0.0  0.0   \n",
      "32559  0.0  0.0  0.0  0.0  1.0  0.0  0.0  0.0  0.0  0.0  ...  1.0  0.0  0.0   \n",
      "32560  0.0  0.0  0.0  0.0  0.0  1.0  0.0  0.0  0.0  0.0  ...  1.0  0.0  0.0   \n",
      "\n",
      "        103       104   105      106  107   108  salario  \n",
      "0      39.0   77516.0  13.0   2174.0  0.0  40.0        0  \n",
      "1      50.0   83311.0  13.0      0.0  0.0  13.0        0  \n",
      "2      38.0  215646.0   9.0      0.0  0.0  40.0        0  \n",
      "3      53.0  234721.0   7.0      0.0  0.0  40.0        0  \n",
      "4      28.0  338409.0  13.0      0.0  0.0  40.0        0  \n",
      "...     ...       ...   ...      ...  ...   ...      ...  \n",
      "32556  27.0  257302.0  12.0      0.0  0.0  38.0        0  \n",
      "32557  40.0  154374.0   9.0      0.0  0.0  40.0        1  \n",
      "32558  58.0  151910.0   9.0      0.0  0.0  40.0        0  \n",
      "32559  22.0  201490.0   9.0      0.0  0.0  20.0        0  \n",
      "32560  52.0  287927.0   9.0  15024.0  0.0  40.0        1  \n",
      "\n",
      "[32561 rows x 110 columns]\n"
     ]
    }
   ],
   "source": [
    "print(X)"
   ]
  },
  {
   "cell_type": "code",
   "execution_count": 18,
   "metadata": {},
   "outputs": [],
   "source": [
    "#Exportando para um arquivo .csv"
   ]
  },
  {
   "cell_type": "code",
   "execution_count": 19,
   "metadata": {},
   "outputs": [],
   "source": [
    "X.to_csv('D:/OneDrive/OneDrive - Etec Centro Paula Souza/Databases/census_updated.csv', index=False);"
   ]
  }
 ],
 "metadata": {
  "kernelspec": {
   "display_name": "Python 3 (ipykernel)",
   "language": "python",
   "name": "python3"
  },
  "language_info": {
   "codemirror_mode": {
    "name": "ipython",
    "version": 3
   },
   "file_extension": ".py",
   "mimetype": "text/x-python",
   "name": "python",
   "nbconvert_exporter": "python",
   "pygments_lexer": "ipython3",
   "version": "3.9.12"
  }
 },
 "nbformat": 4,
 "nbformat_minor": 4
}
