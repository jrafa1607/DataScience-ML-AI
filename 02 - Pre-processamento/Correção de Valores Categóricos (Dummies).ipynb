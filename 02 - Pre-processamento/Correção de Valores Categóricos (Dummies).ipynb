{
  "cells": [
    {
      "cell_type": "markdown",
      "metadata": {
        "id": "28d3730b"
      },
      "source": [
        "## Variáveis Dummies (Dummy Variables)\n",
        "\n",
        "Dummy variables are a way to represent categorical data (like \"Married\" or \"Single\") numerically for machine learning. Instead of assigning a single number to each category, you create new binary columns for each category. A '1' indicates presence in a category, and '0' indicates absence. This converts categories into a numerical format without implying order. `OneHotEncoder` is used for this."
      ]
    },
    {
      "cell_type": "code",
      "source": [
        "#Import Libs\n",
        "from sklearn.preprocessing import LabelEncoder, OneHotEncoder\n",
        "from sklearn.compose import ColumnTransformer\n",
        "import pandas as pd\n",
        "import numpy as np"
      ],
      "metadata": {
        "id": "SuoSKT08GI1l"
      },
      "execution_count": 1,
      "outputs": []
    },
    {
      "cell_type": "code",
      "source": [
        "#Fix Warnings\n",
        "import warnings\n",
        "from sklearn.exceptions import DataConversionWarning\n",
        "warnings.filterwarnings(action='ignore', category=DataConversionWarning)"
      ],
      "metadata": {
        "id": "LcBwXJXTGioa"
      },
      "execution_count": 2,
      "outputs": []
    },
    {
      "cell_type": "code",
      "source": [
        "#Read the Database\n",
        "df = pd.read_csv('/content/census.csv')\n",
        "print(df)"
      ],
      "metadata": {
        "colab": {
          "base_uri": "https://localhost:8080/"
        },
        "id": "eScUAPS_Gil1",
        "outputId": "3098106b-4876-4904-fe0d-09d5b92ebadd"
      },
      "execution_count": 3,
      "outputs": [
        {
          "output_type": "stream",
          "name": "stdout",
          "text": [
            "       age          workclass  final-weight    education  education-num  \\\n",
            "0       39          State-gov         77516    Bachelors             13   \n",
            "1       50   Self-emp-not-inc         83311    Bachelors             13   \n",
            "2       38            Private        215646      HS-grad              9   \n",
            "3       53            Private        234721         11th              7   \n",
            "4       28            Private        338409    Bachelors             13   \n",
            "...    ...                ...           ...          ...            ...   \n",
            "32556   27            Private        257302   Assoc-acdm             12   \n",
            "32557   40            Private        154374      HS-grad              9   \n",
            "32558   58            Private        151910      HS-grad              9   \n",
            "32559   22            Private        201490      HS-grad              9   \n",
            "32560   52       Self-emp-inc        287927      HS-grad              9   \n",
            "\n",
            "            marital-status          occupation    relationship    race  \\\n",
            "0            Never-married        Adm-clerical   Not-in-family   White   \n",
            "1       Married-civ-spouse     Exec-managerial         Husband   White   \n",
            "2                 Divorced   Handlers-cleaners   Not-in-family   White   \n",
            "3       Married-civ-spouse   Handlers-cleaners         Husband   Black   \n",
            "4       Married-civ-spouse      Prof-specialty            Wife   Black   \n",
            "...                    ...                 ...             ...     ...   \n",
            "32556   Married-civ-spouse        Tech-support            Wife   White   \n",
            "32557   Married-civ-spouse   Machine-op-inspct         Husband   White   \n",
            "32558              Widowed        Adm-clerical       Unmarried   White   \n",
            "32559        Never-married        Adm-clerical       Own-child   White   \n",
            "32560   Married-civ-spouse     Exec-managerial            Wife   White   \n",
            "\n",
            "           sex  capital-gain  capital-loos  hour-per-week  native-country  \\\n",
            "0         Male          2174             0             40   United-States   \n",
            "1         Male             0             0             13   United-States   \n",
            "2         Male             0             0             40   United-States   \n",
            "3         Male             0             0             40   United-States   \n",
            "4       Female             0             0             40            Cuba   \n",
            "...        ...           ...           ...            ...             ...   \n",
            "32556   Female             0             0             38   United-States   \n",
            "32557     Male             0             0             40   United-States   \n",
            "32558   Female             0             0             40   United-States   \n",
            "32559     Male             0             0             20   United-States   \n",
            "32560   Female         15024             0             40   United-States   \n",
            "\n",
            "       income  \n",
            "0       <=50K  \n",
            "1       <=50K  \n",
            "2       <=50K  \n",
            "3       <=50K  \n",
            "4       <=50K  \n",
            "...       ...  \n",
            "32556   <=50K  \n",
            "32557    >50K  \n",
            "32558   <=50K  \n",
            "32559   <=50K  \n",
            "32560    >50K  \n",
            "\n",
            "[32561 rows x 15 columns]\n"
          ]
        }
      ]
    },
    {
      "cell_type": "code",
      "source": [
        "#Divide the Dataframe in: Data and Classifier\n",
        "X = df.iloc[:,0:14].values\n",
        "Y = df.iloc[:, 14].values"
      ],
      "metadata": {
        "id": "LYukO6JYHsnj"
      },
      "execution_count": 4,
      "outputs": []
    },
    {
      "cell_type": "code",
      "source": [
        "#Using OneHotEncoder to Transform the Categorical Attributes in a Numeric Values\n",
        "onehotencorder = ColumnTransformer(transformers=[(\"OneHot\", OneHotEncoder(), [1,3,5,6,7,8,9,13])],remainder='passthrough')"
      ],
      "metadata": {
        "id": "ankOpiRSGeQj"
      },
      "execution_count": 5,
      "outputs": []
    },
    {
      "cell_type": "code",
      "source": [
        "#Apply OneHotEncoder\n",
        "X = onehotencorder.fit_transform(X).toarray()"
      ],
      "metadata": {
        "id": "kPmbVS_yGTnO"
      },
      "execution_count": 6,
      "outputs": []
    },
    {
      "cell_type": "code",
      "source": [
        "#After fix the Dummies Values, we need to convert the Array to DataFrame\n",
        "X = pd.DataFrame(data=X)"
      ],
      "metadata": {
        "id": "kuEF2zWDGIyb"
      },
      "execution_count": 7,
      "outputs": []
    },
    {
      "cell_type": "code",
      "execution_count": 8,
      "metadata": {
        "id": "HwVFmmOOITKj",
        "colab": {
          "base_uri": "https://localhost:8080/"
        },
        "outputId": "57de469a-4a3e-4176-aee7-6c0406d6d41e"
      },
      "outputs": [
        {
          "output_type": "stream",
          "name": "stdout",
          "text": [
            "       0    1    2    3    4    5    6    7    8    9    ...  98   99   100  \\\n",
            "0      0.0  0.0  0.0  0.0  0.0  0.0  0.0  1.0  0.0  0.0  ...  0.0  1.0  0.0   \n",
            "1      0.0  0.0  0.0  0.0  0.0  0.0  1.0  0.0  0.0  0.0  ...  0.0  1.0  0.0   \n",
            "2      0.0  0.0  0.0  0.0  1.0  0.0  0.0  0.0  0.0  0.0  ...  0.0  1.0  0.0   \n",
            "3      0.0  0.0  0.0  0.0  1.0  0.0  0.0  0.0  0.0  0.0  ...  0.0  1.0  0.0   \n",
            "4      0.0  0.0  0.0  0.0  1.0  0.0  0.0  0.0  0.0  0.0  ...  0.0  0.0  0.0   \n",
            "...    ...  ...  ...  ...  ...  ...  ...  ...  ...  ...  ...  ...  ...  ...   \n",
            "32556  0.0  0.0  0.0  0.0  1.0  0.0  0.0  0.0  0.0  0.0  ...  0.0  1.0  0.0   \n",
            "32557  0.0  0.0  0.0  0.0  1.0  0.0  0.0  0.0  0.0  0.0  ...  0.0  1.0  0.0   \n",
            "32558  0.0  0.0  0.0  0.0  1.0  0.0  0.0  0.0  0.0  0.0  ...  0.0  1.0  0.0   \n",
            "32559  0.0  0.0  0.0  0.0  1.0  0.0  0.0  0.0  0.0  0.0  ...  0.0  1.0  0.0   \n",
            "32560  0.0  0.0  0.0  0.0  0.0  1.0  0.0  0.0  0.0  0.0  ...  0.0  1.0  0.0   \n",
            "\n",
            "       101   102       103   104      105  106   107  \n",
            "0      0.0  39.0   77516.0  13.0   2174.0  0.0  40.0  \n",
            "1      0.0  50.0   83311.0  13.0      0.0  0.0  13.0  \n",
            "2      0.0  38.0  215646.0   9.0      0.0  0.0  40.0  \n",
            "3      0.0  53.0  234721.0   7.0      0.0  0.0  40.0  \n",
            "4      0.0  28.0  338409.0  13.0      0.0  0.0  40.0  \n",
            "...    ...   ...       ...   ...      ...  ...   ...  \n",
            "32556  0.0  27.0  257302.0  12.0      0.0  0.0  38.0  \n",
            "32557  0.0  40.0  154374.0   9.0      0.0  0.0  40.0  \n",
            "32558  0.0  58.0  151910.0   9.0      0.0  0.0  40.0  \n",
            "32559  0.0  22.0  201490.0   9.0      0.0  0.0  20.0  \n",
            "32560  0.0  52.0  287927.0   9.0  15024.0  0.0  40.0  \n",
            "\n",
            "[32561 rows x 108 columns]\n"
          ]
        }
      ],
      "source": [
        "#Show the Results\n",
        "print(X)"
      ]
    }
  ],
  "metadata": {
    "kernelspec": {
      "display_name": "Python 3 (ipykernel)",
      "language": "python",
      "name": "python3"
    },
    "language_info": {
      "codemirror_mode": {
        "name": "ipython",
        "version": 3
      },
      "file_extension": ".py",
      "mimetype": "text/x-python",
      "name": "python",
      "nbconvert_exporter": "python",
      "pygments_lexer": "ipython3",
      "version": "3.9.12"
    },
    "colab": {
      "provenance": []
    }
  },
  "nbformat": 4,
  "nbformat_minor": 0
}