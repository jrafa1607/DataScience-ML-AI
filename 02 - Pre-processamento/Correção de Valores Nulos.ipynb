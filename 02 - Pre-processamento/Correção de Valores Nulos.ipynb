{
  "cells": [
    {
      "cell_type": "code",
      "source": [
        "#Import All Libraries\n",
        "import pandas as pd\n",
        "import numpy as np"
      ],
      "metadata": {
        "id": "4aIPJLpmcTns"
      },
      "execution_count": 1,
      "outputs": []
    },
    {
      "cell_type": "code",
      "source": [
        "#Import All Specific Libraries\n",
        "from sklearn.preprocessing import LabelEncoder, OneHotEncoder\n",
        "from sklearn.compose import ColumnTransformer\n",
        "from sklearn.impute import SimpleImputer"
      ],
      "metadata": {
        "id": "x5Ga0D3ucXkj"
      },
      "execution_count": 2,
      "outputs": []
    },
    {
      "cell_type": "code",
      "source": [
        "#Import Database (After Upload the Database for the Google Colab)\n",
        "df = pd.read_csv('/content/credit_data.csv')"
      ],
      "metadata": {
        "id": "BT0Zj7IrckWY"
      },
      "execution_count": 3,
      "outputs": []
    },
    {
      "cell_type": "code",
      "source": [
        "#View the Database\n",
        "print(df)"
      ],
      "metadata": {
        "colab": {
          "base_uri": "https://localhost:8080/"
        },
        "id": "3ewMtFfkc-Bx",
        "outputId": "57de3fe8-a622-4023-aeb7-3937cc44cf94"
      },
      "execution_count": 4,
      "outputs": [
        {
          "output_type": "stream",
          "name": "stdout",
          "text": [
            "      i#clientid        income        age         loan  c#default\n",
            "0              1  66155.925095  59.017015  8106.532131          0\n",
            "1              2  34415.153966  48.117153  6564.745018          0\n",
            "2              3  57317.170063  63.108049  8020.953296          0\n",
            "3              4  42709.534201  45.751972  6103.642260          0\n",
            "4              5  66952.688845  18.584336  8770.099235          1\n",
            "...          ...           ...        ...          ...        ...\n",
            "1995        1996  59221.044874  48.518179  1926.729397          0\n",
            "1996        1997  69516.127573  23.162104  3503.176156          0\n",
            "1997        1998  44311.449262  28.017167  5522.786693          1\n",
            "1998        1999  43756.056605  63.971796  1622.722598          0\n",
            "1999        2000  69436.579552  56.152617  7378.833599          0\n",
            "\n",
            "[2000 rows x 5 columns]\n"
          ]
        }
      ]
    },
    {
      "cell_type": "code",
      "execution_count": 5,
      "metadata": {
        "colab": {
          "base_uri": "https://localhost:8080/",
          "height": 241
        },
        "id": "UXQiokGlcCHX",
        "outputId": "6b7cc8d3-2b38-4e3f-9191-4bba768e5f2c"
      },
      "outputs": [
        {
          "output_type": "execute_result",
          "data": {
            "text/plain": [
              "i#clientid    0\n",
              "income        0\n",
              "age           3\n",
              "loan          0\n",
              "c#default     0\n",
              "dtype: int64"
            ],
            "text/html": [
              "<div>\n",
              "<style scoped>\n",
              "    .dataframe tbody tr th:only-of-type {\n",
              "        vertical-align: middle;\n",
              "    }\n",
              "\n",
              "    .dataframe tbody tr th {\n",
              "        vertical-align: top;\n",
              "    }\n",
              "\n",
              "    .dataframe thead th {\n",
              "        text-align: right;\n",
              "    }\n",
              "</style>\n",
              "<table border=\"1\" class=\"dataframe\">\n",
              "  <thead>\n",
              "    <tr style=\"text-align: right;\">\n",
              "      <th></th>\n",
              "      <th>0</th>\n",
              "    </tr>\n",
              "  </thead>\n",
              "  <tbody>\n",
              "    <tr>\n",
              "      <th>i#clientid</th>\n",
              "      <td>0</td>\n",
              "    </tr>\n",
              "    <tr>\n",
              "      <th>income</th>\n",
              "      <td>0</td>\n",
              "    </tr>\n",
              "    <tr>\n",
              "      <th>age</th>\n",
              "      <td>3</td>\n",
              "    </tr>\n",
              "    <tr>\n",
              "      <th>loan</th>\n",
              "      <td>0</td>\n",
              "    </tr>\n",
              "    <tr>\n",
              "      <th>c#default</th>\n",
              "      <td>0</td>\n",
              "    </tr>\n",
              "  </tbody>\n",
              "</table>\n",
              "</div><br><label><b>dtype:</b> int64</label>"
            ]
          },
          "metadata": {},
          "execution_count": 5
        }
      ],
      "source": [
        "#Check the Total of Null Values in the Database\n",
        "df.isnull().sum()"
      ]
    },
    {
      "cell_type": "code",
      "execution_count": 6,
      "metadata": {
        "colab": {
          "base_uri": "https://localhost:8080/",
          "height": 143
        },
        "id": "9qxdsCeQcCHZ",
        "outputId": "033cecf8-be60-4598-cd27-d5b4b46fa6e6"
      },
      "outputs": [
        {
          "output_type": "execute_result",
          "data": {
            "text/plain": [
              "    i#clientid        income  age         loan  c#default\n",
              "28          29  59417.805406  NaN  2082.625938          0\n",
              "30          31  48528.852796  NaN  6155.784670          0\n",
              "31          32  23526.302555  NaN  2862.010139          0"
            ],
            "text/html": [
              "\n",
              "  <div id=\"df-8bebebdf-03a3-44e9-855c-067859dc3358\" class=\"colab-df-container\">\n",
              "    <div>\n",
              "<style scoped>\n",
              "    .dataframe tbody tr th:only-of-type {\n",
              "        vertical-align: middle;\n",
              "    }\n",
              "\n",
              "    .dataframe tbody tr th {\n",
              "        vertical-align: top;\n",
              "    }\n",
              "\n",
              "    .dataframe thead th {\n",
              "        text-align: right;\n",
              "    }\n",
              "</style>\n",
              "<table border=\"1\" class=\"dataframe\">\n",
              "  <thead>\n",
              "    <tr style=\"text-align: right;\">\n",
              "      <th></th>\n",
              "      <th>i#clientid</th>\n",
              "      <th>income</th>\n",
              "      <th>age</th>\n",
              "      <th>loan</th>\n",
              "      <th>c#default</th>\n",
              "    </tr>\n",
              "  </thead>\n",
              "  <tbody>\n",
              "    <tr>\n",
              "      <th>28</th>\n",
              "      <td>29</td>\n",
              "      <td>59417.805406</td>\n",
              "      <td>NaN</td>\n",
              "      <td>2082.625938</td>\n",
              "      <td>0</td>\n",
              "    </tr>\n",
              "    <tr>\n",
              "      <th>30</th>\n",
              "      <td>31</td>\n",
              "      <td>48528.852796</td>\n",
              "      <td>NaN</td>\n",
              "      <td>6155.784670</td>\n",
              "      <td>0</td>\n",
              "    </tr>\n",
              "    <tr>\n",
              "      <th>31</th>\n",
              "      <td>32</td>\n",
              "      <td>23526.302555</td>\n",
              "      <td>NaN</td>\n",
              "      <td>2862.010139</td>\n",
              "      <td>0</td>\n",
              "    </tr>\n",
              "  </tbody>\n",
              "</table>\n",
              "</div>\n",
              "    <div class=\"colab-df-buttons\">\n",
              "\n",
              "  <div class=\"colab-df-container\">\n",
              "    <button class=\"colab-df-convert\" onclick=\"convertToInteractive('df-8bebebdf-03a3-44e9-855c-067859dc3358')\"\n",
              "            title=\"Convert this dataframe to an interactive table.\"\n",
              "            style=\"display:none;\">\n",
              "\n",
              "  <svg xmlns=\"http://www.w3.org/2000/svg\" height=\"24px\" viewBox=\"0 -960 960 960\">\n",
              "    <path d=\"M120-120v-720h720v720H120Zm60-500h600v-160H180v160Zm220 220h160v-160H400v160Zm0 220h160v-160H400v160ZM180-400h160v-160H180v160Zm440 0h160v-160H620v160ZM180-180h160v-160H180v160Zm440 0h160v-160H620v160Z\"/>\n",
              "  </svg>\n",
              "    </button>\n",
              "\n",
              "  <style>\n",
              "    .colab-df-container {\n",
              "      display:flex;\n",
              "      gap: 12px;\n",
              "    }\n",
              "\n",
              "    .colab-df-convert {\n",
              "      background-color: #E8F0FE;\n",
              "      border: none;\n",
              "      border-radius: 50%;\n",
              "      cursor: pointer;\n",
              "      display: none;\n",
              "      fill: #1967D2;\n",
              "      height: 32px;\n",
              "      padding: 0 0 0 0;\n",
              "      width: 32px;\n",
              "    }\n",
              "\n",
              "    .colab-df-convert:hover {\n",
              "      background-color: #E2EBFA;\n",
              "      box-shadow: 0px 1px 2px rgba(60, 64, 67, 0.3), 0px 1px 3px 1px rgba(60, 64, 67, 0.15);\n",
              "      fill: #174EA6;\n",
              "    }\n",
              "\n",
              "    .colab-df-buttons div {\n",
              "      margin-bottom: 4px;\n",
              "    }\n",
              "\n",
              "    [theme=dark] .colab-df-convert {\n",
              "      background-color: #3B4455;\n",
              "      fill: #D2E3FC;\n",
              "    }\n",
              "\n",
              "    [theme=dark] .colab-df-convert:hover {\n",
              "      background-color: #434B5C;\n",
              "      box-shadow: 0px 1px 3px 1px rgba(0, 0, 0, 0.15);\n",
              "      filter: drop-shadow(0px 1px 2px rgba(0, 0, 0, 0.3));\n",
              "      fill: #FFFFFF;\n",
              "    }\n",
              "  </style>\n",
              "\n",
              "    <script>\n",
              "      const buttonEl =\n",
              "        document.querySelector('#df-8bebebdf-03a3-44e9-855c-067859dc3358 button.colab-df-convert');\n",
              "      buttonEl.style.display =\n",
              "        google.colab.kernel.accessAllowed ? 'block' : 'none';\n",
              "\n",
              "      async function convertToInteractive(key) {\n",
              "        const element = document.querySelector('#df-8bebebdf-03a3-44e9-855c-067859dc3358');\n",
              "        const dataTable =\n",
              "          await google.colab.kernel.invokeFunction('convertToInteractive',\n",
              "                                                    [key], {});\n",
              "        if (!dataTable) return;\n",
              "\n",
              "        const docLinkHtml = 'Like what you see? Visit the ' +\n",
              "          '<a target=\"_blank\" href=https://colab.research.google.com/notebooks/data_table.ipynb>data table notebook</a>'\n",
              "          + ' to learn more about interactive tables.';\n",
              "        element.innerHTML = '';\n",
              "        dataTable['output_type'] = 'display_data';\n",
              "        await google.colab.output.renderOutput(dataTable, element);\n",
              "        const docLink = document.createElement('div');\n",
              "        docLink.innerHTML = docLinkHtml;\n",
              "        element.appendChild(docLink);\n",
              "      }\n",
              "    </script>\n",
              "  </div>\n",
              "\n",
              "\n",
              "    <div id=\"df-3a4dc53b-cbd5-41c7-9d4d-570e785cd879\">\n",
              "      <button class=\"colab-df-quickchart\" onclick=\"quickchart('df-3a4dc53b-cbd5-41c7-9d4d-570e785cd879')\"\n",
              "                title=\"Suggest charts\"\n",
              "                style=\"display:none;\">\n",
              "\n",
              "<svg xmlns=\"http://www.w3.org/2000/svg\" height=\"24px\"viewBox=\"0 0 24 24\"\n",
              "     width=\"24px\">\n",
              "    <g>\n",
              "        <path d=\"M19 3H5c-1.1 0-2 .9-2 2v14c0 1.1.9 2 2 2h14c1.1 0 2-.9 2-2V5c0-1.1-.9-2-2-2zM9 17H7v-7h2v7zm4 0h-2V7h2v10zm4 0h-2v-4h2v4z\"/>\n",
              "    </g>\n",
              "</svg>\n",
              "      </button>\n",
              "\n",
              "<style>\n",
              "  .colab-df-quickchart {\n",
              "      --bg-color: #E8F0FE;\n",
              "      --fill-color: #1967D2;\n",
              "      --hover-bg-color: #E2EBFA;\n",
              "      --hover-fill-color: #174EA6;\n",
              "      --disabled-fill-color: #AAA;\n",
              "      --disabled-bg-color: #DDD;\n",
              "  }\n",
              "\n",
              "  [theme=dark] .colab-df-quickchart {\n",
              "      --bg-color: #3B4455;\n",
              "      --fill-color: #D2E3FC;\n",
              "      --hover-bg-color: #434B5C;\n",
              "      --hover-fill-color: #FFFFFF;\n",
              "      --disabled-bg-color: #3B4455;\n",
              "      --disabled-fill-color: #666;\n",
              "  }\n",
              "\n",
              "  .colab-df-quickchart {\n",
              "    background-color: var(--bg-color);\n",
              "    border: none;\n",
              "    border-radius: 50%;\n",
              "    cursor: pointer;\n",
              "    display: none;\n",
              "    fill: var(--fill-color);\n",
              "    height: 32px;\n",
              "    padding: 0;\n",
              "    width: 32px;\n",
              "  }\n",
              "\n",
              "  .colab-df-quickchart:hover {\n",
              "    background-color: var(--hover-bg-color);\n",
              "    box-shadow: 0 1px 2px rgba(60, 64, 67, 0.3), 0 1px 3px 1px rgba(60, 64, 67, 0.15);\n",
              "    fill: var(--button-hover-fill-color);\n",
              "  }\n",
              "\n",
              "  .colab-df-quickchart-complete:disabled,\n",
              "  .colab-df-quickchart-complete:disabled:hover {\n",
              "    background-color: var(--disabled-bg-color);\n",
              "    fill: var(--disabled-fill-color);\n",
              "    box-shadow: none;\n",
              "  }\n",
              "\n",
              "  .colab-df-spinner {\n",
              "    border: 2px solid var(--fill-color);\n",
              "    border-color: transparent;\n",
              "    border-bottom-color: var(--fill-color);\n",
              "    animation:\n",
              "      spin 1s steps(1) infinite;\n",
              "  }\n",
              "\n",
              "  @keyframes spin {\n",
              "    0% {\n",
              "      border-color: transparent;\n",
              "      border-bottom-color: var(--fill-color);\n",
              "      border-left-color: var(--fill-color);\n",
              "    }\n",
              "    20% {\n",
              "      border-color: transparent;\n",
              "      border-left-color: var(--fill-color);\n",
              "      border-top-color: var(--fill-color);\n",
              "    }\n",
              "    30% {\n",
              "      border-color: transparent;\n",
              "      border-left-color: var(--fill-color);\n",
              "      border-top-color: var(--fill-color);\n",
              "      border-right-color: var(--fill-color);\n",
              "    }\n",
              "    40% {\n",
              "      border-color: transparent;\n",
              "      border-right-color: var(--fill-color);\n",
              "      border-top-color: var(--fill-color);\n",
              "    }\n",
              "    60% {\n",
              "      border-color: transparent;\n",
              "      border-right-color: var(--fill-color);\n",
              "    }\n",
              "    80% {\n",
              "      border-color: transparent;\n",
              "      border-right-color: var(--fill-color);\n",
              "      border-bottom-color: var(--fill-color);\n",
              "    }\n",
              "    90% {\n",
              "      border-color: transparent;\n",
              "      border-bottom-color: var(--fill-color);\n",
              "    }\n",
              "  }\n",
              "</style>\n",
              "\n",
              "      <script>\n",
              "        async function quickchart(key) {\n",
              "          const quickchartButtonEl =\n",
              "            document.querySelector('#' + key + ' button');\n",
              "          quickchartButtonEl.disabled = true;  // To prevent multiple clicks.\n",
              "          quickchartButtonEl.classList.add('colab-df-spinner');\n",
              "          try {\n",
              "            const charts = await google.colab.kernel.invokeFunction(\n",
              "                'suggestCharts', [key], {});\n",
              "          } catch (error) {\n",
              "            console.error('Error during call to suggestCharts:', error);\n",
              "          }\n",
              "          quickchartButtonEl.classList.remove('colab-df-spinner');\n",
              "          quickchartButtonEl.classList.add('colab-df-quickchart-complete');\n",
              "        }\n",
              "        (() => {\n",
              "          let quickchartButtonEl =\n",
              "            document.querySelector('#df-3a4dc53b-cbd5-41c7-9d4d-570e785cd879 button');\n",
              "          quickchartButtonEl.style.display =\n",
              "            google.colab.kernel.accessAllowed ? 'block' : 'none';\n",
              "        })();\n",
              "      </script>\n",
              "    </div>\n",
              "\n",
              "    </div>\n",
              "  </div>\n"
            ],
            "application/vnd.google.colaboratory.intrinsic+json": {
              "type": "dataframe",
              "summary": "{\n  \"name\": \"df\",\n  \"rows\": 3,\n  \"fields\": [\n    {\n      \"column\": \"i#clientid\",\n      \"properties\": {\n        \"dtype\": \"number\",\n        \"std\": 1,\n        \"min\": 29,\n        \"max\": 32,\n        \"num_unique_values\": 3,\n        \"samples\": [\n          29,\n          31,\n          32\n        ],\n        \"semantic_type\": \"\",\n        \"description\": \"\"\n      }\n    },\n    {\n      \"column\": \"income\",\n      \"properties\": {\n        \"dtype\": \"number\",\n        \"std\": 18402.430928200996,\n        \"min\": 23526.3025551103,\n        \"max\": 59417.805406265,\n        \"num_unique_values\": 3,\n        \"samples\": [\n          59417.805406265,\n          48528.8527957164,\n          23526.3025551103\n        ],\n        \"semantic_type\": \"\",\n        \"description\": \"\"\n      }\n    },\n    {\n      \"column\": \"age\",\n      \"properties\": {\n        \"dtype\": \"number\",\n        \"std\": null,\n        \"min\": null,\n        \"max\": null,\n        \"num_unique_values\": 0,\n        \"samples\": [],\n        \"semantic_type\": \"\",\n        \"description\": \"\"\n      }\n    },\n    {\n      \"column\": \"loan\",\n      \"properties\": {\n        \"dtype\": \"number\",\n        \"std\": 2162.0596836405384,\n        \"min\": 2082.62593812344,\n        \"max\": 6155.78467025544,\n        \"num_unique_values\": 3,\n        \"samples\": [],\n        \"semantic_type\": \"\",\n        \"description\": \"\"\n      }\n    },\n    {\n      \"column\": \"c#default\",\n      \"properties\": {\n        \"dtype\": \"number\",\n        \"std\": 0,\n        \"min\": 0,\n        \"max\": 0,\n        \"num_unique_values\": 1,\n        \"samples\": [],\n        \"semantic_type\": \"\",\n        \"description\": \"\"\n      }\n    }\n  ]\n}"
            }
          },
          "metadata": {},
          "execution_count": 6
        }
      ],
      "source": [
        "#Details for The NUll Values\n",
        "df.loc[pd.isnull(df['age'])]"
      ]
    },
    {
      "cell_type": "code",
      "source": [
        "#Options to Fix the Null Values in the Database"
      ],
      "metadata": {
        "id": "mAQzfRg7duDE"
      },
      "execution_count": 7,
      "outputs": []
    },
    {
      "cell_type": "code",
      "execution_count": 8,
      "metadata": {
        "colab": {
          "base_uri": "https://localhost:8080/"
        },
        "id": "gVgH6Sl0cCHb",
        "outputId": "5e6bdf43-740e-488e-f0b5-15c7503eaf27"
      },
      "outputs": [
        {
          "output_type": "stream",
          "name": "stdout",
          "text": [
            "      i#clientid        income         loan  c#default\n",
            "0              1  66155.925095  8106.532131          0\n",
            "1              2  34415.153966  6564.745018          0\n",
            "2              3  57317.170063  8020.953296          0\n",
            "3              4  42709.534201  6103.642260          0\n",
            "4              5  66952.688845  8770.099235          1\n",
            "...          ...           ...          ...        ...\n",
            "1995        1996  59221.044874  1926.729397          0\n",
            "1996        1997  69516.127573  3503.176156          0\n",
            "1997        1998  44311.449262  5522.786693          1\n",
            "1998        1999  43756.056605  1622.722598          0\n",
            "1999        2000  69436.579552  7378.833599          0\n",
            "\n",
            "[2000 rows x 4 columns]\n"
          ]
        }
      ],
      "source": [
        "#Option 01 - Remove the Attribute from Dataframe\n",
        "df_test = pd.read_csv('/content/credit_data.csv')\n",
        "df_test = df_test.drop(['age'], axis = 1)\n",
        "print(df_test)"
      ]
    },
    {
      "cell_type": "code",
      "execution_count": 9,
      "metadata": {
        "colab": {
          "base_uri": "https://localhost:8080/"
        },
        "id": "WXdRrZw0cCHd",
        "outputId": "9ffed11f-6fd0-456c-9bef-a9f72aff9b99"
      },
      "outputs": [
        {
          "output_type": "stream",
          "name": "stdout",
          "text": [
            "      i#clientid        income        age         loan  c#default\n",
            "0              1  66155.925095  59.017015  8106.532131          0\n",
            "1              2  34415.153966  48.117153  6564.745018          0\n",
            "2              3  57317.170063  63.108049  8020.953296          0\n",
            "3              4  42709.534201  45.751972  6103.642260          0\n",
            "4              5  66952.688845  18.584336  8770.099235          1\n",
            "...          ...           ...        ...          ...        ...\n",
            "1995        1996  59221.044874  48.518179  1926.729397          0\n",
            "1996        1997  69516.127573  23.162104  3503.176156          0\n",
            "1997        1998  44311.449262  28.017167  5522.786693          1\n",
            "1998        1999  43756.056605  63.971796  1622.722598          0\n",
            "1999        2000  69436.579552  56.152617  7378.833599          0\n",
            "\n",
            "[1997 rows x 5 columns]\n"
          ]
        }
      ],
      "source": [
        "#Option 02 - Remove the Lines of the Dataframe\n",
        "df_test = pd.read_csv('/content/credit_data.csv')\n",
        "df_test = df_test.drop(df_test[df_test['age'] < 0].index)\n",
        "print(df_test)"
      ]
    },
    {
      "cell_type": "code",
      "source": [
        "#Option 03 - Replace only the null values with the mean of positive values in the Dataframe (Use Lib Simple Imputer)\n",
        "#Attention! In this process, the Library IMP converts the Dataframe to Array, so in the end, we need to convert the Array in a Dataframe"
      ],
      "metadata": {
        "id": "txhW3vajsVpq"
      },
      "execution_count": 10,
      "outputs": []
    },
    {
      "cell_type": "code",
      "execution_count": 11,
      "metadata": {
        "id": "DtRn8gWscCHh"
      },
      "outputs": [],
      "source": [
        "#Using Imp\n",
        "df_test = pd.read_csv('/content/credit_data.csv')\n",
        "\n",
        "imp = SimpleImputer(missing_values=np.nan, strategy='mean')\n",
        "imp = imp.fit(df_test)\n",
        "df_test = imp.transform(df_test)"
      ]
    },
    {
      "cell_type": "code",
      "source": [
        "#Convert the Array to Dataframe\n",
        "df_test = pd.DataFrame(data=df_test)\n",
        "print(df_test)"
      ],
      "metadata": {
        "colab": {
          "base_uri": "https://localhost:8080/"
        },
        "id": "Tc4iGDs-t7Dc",
        "outputId": "45c02eca-2b41-4aec-87ca-b4e901efe8f6"
      },
      "execution_count": 12,
      "outputs": [
        {
          "output_type": "stream",
          "name": "stdout",
          "text": [
            "           0             1          2            3    4\n",
            "0        1.0  66155.925095  59.017015  8106.532131  0.0\n",
            "1        2.0  34415.153966  48.117153  6564.745018  0.0\n",
            "2        3.0  57317.170063  63.108049  8020.953296  0.0\n",
            "3        4.0  42709.534201  45.751972  6103.642260  0.0\n",
            "4        5.0  66952.688845  18.584336  8770.099235  1.0\n",
            "...      ...           ...        ...          ...  ...\n",
            "1995  1996.0  59221.044874  48.518179  1926.729397  0.0\n",
            "1996  1997.0  69516.127573  23.162104  3503.176156  0.0\n",
            "1997  1998.0  44311.449262  28.017167  5522.786693  1.0\n",
            "1998  1999.0  43756.056605  63.971796  1622.722598  0.0\n",
            "1999  2000.0  69436.579552  56.152617  7378.833599  0.0\n",
            "\n",
            "[2000 rows x 5 columns]\n"
          ]
        }
      ]
    },
    {
      "cell_type": "code",
      "source": [
        "#Check the Total of Null Values in the Database After IMP\n",
        "df_test.isnull().sum()"
      ],
      "metadata": {
        "id": "LTAZoOyYuTBd",
        "outputId": "a81a6f22-8ecd-4dec-dffd-cbf2cca19602",
        "colab": {
          "base_uri": "https://localhost:8080/",
          "height": 241
        }
      },
      "execution_count": 13,
      "outputs": [
        {
          "output_type": "execute_result",
          "data": {
            "text/plain": [
              "0    0\n",
              "1    0\n",
              "2    0\n",
              "3    0\n",
              "4    0\n",
              "dtype: int64"
            ],
            "text/html": [
              "<div>\n",
              "<style scoped>\n",
              "    .dataframe tbody tr th:only-of-type {\n",
              "        vertical-align: middle;\n",
              "    }\n",
              "\n",
              "    .dataframe tbody tr th {\n",
              "        vertical-align: top;\n",
              "    }\n",
              "\n",
              "    .dataframe thead th {\n",
              "        text-align: right;\n",
              "    }\n",
              "</style>\n",
              "<table border=\"1\" class=\"dataframe\">\n",
              "  <thead>\n",
              "    <tr style=\"text-align: right;\">\n",
              "      <th></th>\n",
              "      <th>0</th>\n",
              "    </tr>\n",
              "  </thead>\n",
              "  <tbody>\n",
              "    <tr>\n",
              "      <th>0</th>\n",
              "      <td>0</td>\n",
              "    </tr>\n",
              "    <tr>\n",
              "      <th>1</th>\n",
              "      <td>0</td>\n",
              "    </tr>\n",
              "    <tr>\n",
              "      <th>2</th>\n",
              "      <td>0</td>\n",
              "    </tr>\n",
              "    <tr>\n",
              "      <th>3</th>\n",
              "      <td>0</td>\n",
              "    </tr>\n",
              "    <tr>\n",
              "      <th>4</th>\n",
              "      <td>0</td>\n",
              "    </tr>\n",
              "  </tbody>\n",
              "</table>\n",
              "</div><br><label><b>dtype:</b> int64</label>"
            ]
          },
          "metadata": {},
          "execution_count": 13
        }
      ]
    },
    {
      "cell_type": "code",
      "source": [
        "#Option 04 [Recommended] - Custom Function to Replace Only the Null Values in the Dataframe"
      ],
      "metadata": {
        "id": "mDzTF0W2uvXG"
      },
      "execution_count": 14,
      "outputs": []
    },
    {
      "cell_type": "code",
      "source": [
        "#Function\n",
        "def fixnullvalues(df, metodo='media'):\n",
        "\n",
        "    for col in df.columns:\n",
        "        if df[col].isnull().any():  # Check all the Values in Each Column\n",
        "            if metodo == 'media' and pd.api.types.is_numeric_dtype(df[col]):\n",
        "                df[col] = df[col].fillna(df[col].mean())  # Replace for Mean\n",
        "            elif metodo == 'zero':\n",
        "                df[col] = df[col].fillna(0)  # Replace for Zero\n",
        "            elif metodo == 'freq':\n",
        "                df[col] = df[col].fillna(df[col].mode()[0])  # Replace for the more frquency value\n",
        "            else:\n",
        "                print(\"Error!\")\n",
        "    return df"
      ],
      "metadata": {
        "id": "unHfZK1AvEOp"
      },
      "execution_count": 15,
      "outputs": []
    },
    {
      "cell_type": "code",
      "source": [
        "#Example of Use\n",
        "df_test = pd.read_csv('/content/credit_data.csv')\n",
        "df_test = fixnullvalues(df_test, metodo='media')\n",
        "print(df_test)"
      ],
      "metadata": {
        "colab": {
          "base_uri": "https://localhost:8080/"
        },
        "id": "te_xDxcOvAiT",
        "outputId": "03b13ddb-d5f2-4bed-cd53-a3946c191fa2"
      },
      "execution_count": 16,
      "outputs": [
        {
          "output_type": "stream",
          "name": "stdout",
          "text": [
            "      i#clientid        income        age         loan  c#default\n",
            "0              1  66155.925095  59.017015  8106.532131          0\n",
            "1              2  34415.153966  48.117153  6564.745018          0\n",
            "2              3  57317.170063  63.108049  8020.953296          0\n",
            "3              4  42709.534201  45.751972  6103.642260          0\n",
            "4              5  66952.688845  18.584336  8770.099235          1\n",
            "...          ...           ...        ...          ...        ...\n",
            "1995        1996  59221.044874  48.518179  1926.729397          0\n",
            "1996        1997  69516.127573  23.162104  3503.176156          0\n",
            "1997        1998  44311.449262  28.017167  5522.786693          1\n",
            "1998        1999  43756.056605  63.971796  1622.722598          0\n",
            "1999        2000  69436.579552  56.152617  7378.833599          0\n",
            "\n",
            "[2000 rows x 5 columns]\n"
          ]
        }
      ]
    },
    {
      "cell_type": "code",
      "source": [
        "#Show the Specific Lines\n",
        "print(df.loc[pd.isnull(df['age'])], \"\\n\")\n",
        "\n",
        "print(df_test.loc[28],\"\\n\")\n",
        "print(df_test.loc[30],\"\\n\")\n",
        "print(df_test.loc[31],\"\\n\")"
      ],
      "metadata": {
        "colab": {
          "base_uri": "https://localhost:8080/"
        },
        "id": "HA1VYZbFxqrT",
        "outputId": "80de3ae0-140a-4c26-a1ba-dfcf6af8911e"
      },
      "execution_count": 17,
      "outputs": [
        {
          "output_type": "stream",
          "name": "stdout",
          "text": [
            "    i#clientid        income  age         loan  c#default\n",
            "28          29  59417.805406  NaN  2082.625938          0\n",
            "30          31  48528.852796  NaN  6155.784670          0\n",
            "31          32  23526.302555  NaN  2862.010139          0 \n",
            "\n",
            "i#clientid       29.000000\n",
            "income        59417.805406\n",
            "age              40.807559\n",
            "loan           2082.625938\n",
            "c#default         0.000000\n",
            "Name: 28, dtype: float64 \n",
            "\n",
            "i#clientid       31.000000\n",
            "income        48528.852796\n",
            "age              40.807559\n",
            "loan           6155.784670\n",
            "c#default         0.000000\n",
            "Name: 30, dtype: float64 \n",
            "\n",
            "i#clientid       32.000000\n",
            "income        23526.302555\n",
            "age              40.807559\n",
            "loan           2862.010139\n",
            "c#default         0.000000\n",
            "Name: 31, dtype: float64 \n",
            "\n"
          ]
        }
      ]
    }
  ],
  "metadata": {
    "kernelspec": {
      "display_name": "Python 3",
      "language": "python",
      "name": "python3"
    },
    "language_info": {
      "codemirror_mode": {
        "name": "ipython",
        "version": 3
      },
      "file_extension": ".py",
      "mimetype": "text/x-python",
      "name": "python",
      "nbconvert_exporter": "python",
      "pygments_lexer": "ipython3",
      "version": "3.8.5"
    },
    "colab": {
      "provenance": []
    }
  },
  "nbformat": 4,
  "nbformat_minor": 0
}