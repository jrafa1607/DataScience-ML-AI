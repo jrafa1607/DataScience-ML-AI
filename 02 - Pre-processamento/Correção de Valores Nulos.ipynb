{
 "cells": [
  {
   "cell_type": "code",
   "execution_count": 1,
   "metadata": {},
   "outputs": [],
   "source": [
    "#Correção de Valores Nulos na Base"
   ]
  },
  {
   "cell_type": "code",
   "execution_count": 2,
   "metadata": {},
   "outputs": [],
   "source": [
    "import pandas as pd\n",
    "import numpy as np\n",
    "from sklearn.impute import SimpleImputer"
   ]
  },
  {
   "cell_type": "code",
   "execution_count": 3,
   "metadata": {},
   "outputs": [],
   "source": [
    "df = pd.read_csv('D:/OneDrive/OneDrive - Etec Centro Paula Souza/Databases/credit_data.csv')\n",
    "df.columns = ['id', 'salario', 'idade', 'emprestimo', 'aprovado']"
   ]
  },
  {
   "cell_type": "code",
   "execution_count": 4,
   "metadata": {},
   "outputs": [
    {
     "name": "stdout",
     "output_type": "stream",
     "text": [
      "        id       salario      idade   emprestimo  aprovado\n",
      "0        1  66155.925095  59.017015  8106.532131         0\n",
      "1        2  34415.153966  48.117153  6564.745018         0\n",
      "2        3  57317.170063  63.108049  8020.953296         0\n",
      "3        4  42709.534201  45.751972  6103.642260         0\n",
      "4        5  66952.688845  18.584336  8770.099235         1\n",
      "...    ...           ...        ...          ...       ...\n",
      "1995  1996  59221.044874  48.518179  1926.729397         0\n",
      "1996  1997  69516.127573  23.162104  3503.176156         0\n",
      "1997  1998  44311.449262  28.017167  5522.786693         1\n",
      "1998  1999  43756.056605  63.971796  1622.722598         0\n",
      "1999  2000  69436.579552  56.152617  7378.833599         0\n",
      "\n",
      "[2000 rows x 5 columns]\n"
     ]
    }
   ],
   "source": [
    "print(df)"
   ]
  },
  {
   "cell_type": "code",
   "execution_count": 5,
   "metadata": {},
   "outputs": [],
   "source": [
    "#verificando a quantidade de Valores Nulos na Base\n",
    "#NaN = Not a Number"
   ]
  },
  {
   "cell_type": "code",
   "execution_count": 6,
   "metadata": {},
   "outputs": [
    {
     "data": {
      "text/html": [
       "<div>\n",
       "<style scoped>\n",
       "    .dataframe tbody tr th:only-of-type {\n",
       "        vertical-align: middle;\n",
       "    }\n",
       "\n",
       "    .dataframe tbody tr th {\n",
       "        vertical-align: top;\n",
       "    }\n",
       "\n",
       "    .dataframe thead th {\n",
       "        text-align: right;\n",
       "    }\n",
       "</style>\n",
       "<table border=\"1\" class=\"dataframe\">\n",
       "  <thead>\n",
       "    <tr style=\"text-align: right;\">\n",
       "      <th></th>\n",
       "      <th>id</th>\n",
       "      <th>salario</th>\n",
       "      <th>idade</th>\n",
       "      <th>emprestimo</th>\n",
       "      <th>aprovado</th>\n",
       "    </tr>\n",
       "  </thead>\n",
       "  <tbody>\n",
       "    <tr>\n",
       "      <th>0</th>\n",
       "      <td>False</td>\n",
       "      <td>False</td>\n",
       "      <td>False</td>\n",
       "      <td>False</td>\n",
       "      <td>False</td>\n",
       "    </tr>\n",
       "    <tr>\n",
       "      <th>1</th>\n",
       "      <td>False</td>\n",
       "      <td>False</td>\n",
       "      <td>False</td>\n",
       "      <td>False</td>\n",
       "      <td>False</td>\n",
       "    </tr>\n",
       "    <tr>\n",
       "      <th>2</th>\n",
       "      <td>False</td>\n",
       "      <td>False</td>\n",
       "      <td>False</td>\n",
       "      <td>False</td>\n",
       "      <td>False</td>\n",
       "    </tr>\n",
       "    <tr>\n",
       "      <th>3</th>\n",
       "      <td>False</td>\n",
       "      <td>False</td>\n",
       "      <td>False</td>\n",
       "      <td>False</td>\n",
       "      <td>False</td>\n",
       "    </tr>\n",
       "    <tr>\n",
       "      <th>4</th>\n",
       "      <td>False</td>\n",
       "      <td>False</td>\n",
       "      <td>False</td>\n",
       "      <td>False</td>\n",
       "      <td>False</td>\n",
       "    </tr>\n",
       "    <tr>\n",
       "      <th>...</th>\n",
       "      <td>...</td>\n",
       "      <td>...</td>\n",
       "      <td>...</td>\n",
       "      <td>...</td>\n",
       "      <td>...</td>\n",
       "    </tr>\n",
       "    <tr>\n",
       "      <th>1995</th>\n",
       "      <td>False</td>\n",
       "      <td>False</td>\n",
       "      <td>False</td>\n",
       "      <td>False</td>\n",
       "      <td>False</td>\n",
       "    </tr>\n",
       "    <tr>\n",
       "      <th>1996</th>\n",
       "      <td>False</td>\n",
       "      <td>False</td>\n",
       "      <td>False</td>\n",
       "      <td>False</td>\n",
       "      <td>False</td>\n",
       "    </tr>\n",
       "    <tr>\n",
       "      <th>1997</th>\n",
       "      <td>False</td>\n",
       "      <td>False</td>\n",
       "      <td>False</td>\n",
       "      <td>False</td>\n",
       "      <td>False</td>\n",
       "    </tr>\n",
       "    <tr>\n",
       "      <th>1998</th>\n",
       "      <td>False</td>\n",
       "      <td>False</td>\n",
       "      <td>False</td>\n",
       "      <td>False</td>\n",
       "      <td>False</td>\n",
       "    </tr>\n",
       "    <tr>\n",
       "      <th>1999</th>\n",
       "      <td>False</td>\n",
       "      <td>False</td>\n",
       "      <td>False</td>\n",
       "      <td>False</td>\n",
       "      <td>False</td>\n",
       "    </tr>\n",
       "  </tbody>\n",
       "</table>\n",
       "<p>2000 rows × 5 columns</p>\n",
       "</div>"
      ],
      "text/plain": [
       "         id  salario  idade  emprestimo  aprovado\n",
       "0     False    False  False       False     False\n",
       "1     False    False  False       False     False\n",
       "2     False    False  False       False     False\n",
       "3     False    False  False       False     False\n",
       "4     False    False  False       False     False\n",
       "...     ...      ...    ...         ...       ...\n",
       "1995  False    False  False       False     False\n",
       "1996  False    False  False       False     False\n",
       "1997  False    False  False       False     False\n",
       "1998  False    False  False       False     False\n",
       "1999  False    False  False       False     False\n",
       "\n",
       "[2000 rows x 5 columns]"
      ]
     },
     "execution_count": 6,
     "metadata": {},
     "output_type": "execute_result"
    }
   ],
   "source": [
    "pd.isnull(df)"
   ]
  },
  {
   "cell_type": "code",
   "execution_count": 7,
   "metadata": {},
   "outputs": [
    {
     "data": {
      "text/plain": [
       "id            0\n",
       "salario       0\n",
       "idade         3\n",
       "emprestimo    0\n",
       "aprovado      0\n",
       "dtype: int64"
      ]
     },
     "execution_count": 7,
     "metadata": {},
     "output_type": "execute_result"
    }
   ],
   "source": [
    "df.isnull().sum()"
   ]
  },
  {
   "cell_type": "code",
   "execution_count": 8,
   "metadata": {},
   "outputs": [
    {
     "data": {
      "text/html": [
       "<div>\n",
       "<style scoped>\n",
       "    .dataframe tbody tr th:only-of-type {\n",
       "        vertical-align: middle;\n",
       "    }\n",
       "\n",
       "    .dataframe tbody tr th {\n",
       "        vertical-align: top;\n",
       "    }\n",
       "\n",
       "    .dataframe thead th {\n",
       "        text-align: right;\n",
       "    }\n",
       "</style>\n",
       "<table border=\"1\" class=\"dataframe\">\n",
       "  <thead>\n",
       "    <tr style=\"text-align: right;\">\n",
       "      <th></th>\n",
       "      <th>id</th>\n",
       "      <th>salario</th>\n",
       "      <th>idade</th>\n",
       "      <th>emprestimo</th>\n",
       "      <th>aprovado</th>\n",
       "    </tr>\n",
       "  </thead>\n",
       "  <tbody>\n",
       "    <tr>\n",
       "      <th>28</th>\n",
       "      <td>29</td>\n",
       "      <td>59417.805406</td>\n",
       "      <td>NaN</td>\n",
       "      <td>2082.625938</td>\n",
       "      <td>0</td>\n",
       "    </tr>\n",
       "    <tr>\n",
       "      <th>30</th>\n",
       "      <td>31</td>\n",
       "      <td>48528.852796</td>\n",
       "      <td>NaN</td>\n",
       "      <td>6155.784670</td>\n",
       "      <td>0</td>\n",
       "    </tr>\n",
       "    <tr>\n",
       "      <th>31</th>\n",
       "      <td>32</td>\n",
       "      <td>23526.302555</td>\n",
       "      <td>NaN</td>\n",
       "      <td>2862.010139</td>\n",
       "      <td>0</td>\n",
       "    </tr>\n",
       "  </tbody>\n",
       "</table>\n",
       "</div>"
      ],
      "text/plain": [
       "    id       salario  idade   emprestimo  aprovado\n",
       "28  29  59417.805406    NaN  2082.625938         0\n",
       "30  31  48528.852796    NaN  6155.784670         0\n",
       "31  32  23526.302555    NaN  2862.010139         0"
      ]
     },
     "execution_count": 8,
     "metadata": {},
     "output_type": "execute_result"
    }
   ],
   "source": [
    "df.loc[pd.isnull(df['idade'])]"
   ]
  },
  {
   "cell_type": "code",
   "execution_count": 9,
   "metadata": {},
   "outputs": [],
   "source": [
    "#Abaixo são descritos algumas possíveis soluções para corrigir os valores nulos na base"
   ]
  },
  {
   "cell_type": "code",
   "execution_count": 10,
   "metadata": {},
   "outputs": [],
   "source": [
    "#Exemplo 01 - Remoção de um atributo na base"
   ]
  },
  {
   "cell_type": "code",
   "execution_count": 11,
   "metadata": {},
   "outputs": [
    {
     "name": "stdout",
     "output_type": "stream",
     "text": [
      "        id       salario      idade   emprestimo  aprovado\n",
      "0        1  66155.925095  59.017015  8106.532131         0\n",
      "1        2  34415.153966  48.117153  6564.745018         0\n",
      "2        3  57317.170063  63.108049  8020.953296         0\n",
      "3        4  42709.534201  45.751972  6103.642260         0\n",
      "4        5  66952.688845  18.584336  8770.099235         1\n",
      "...    ...           ...        ...          ...       ...\n",
      "1995  1996  59221.044874  48.518179  1926.729397         0\n",
      "1996  1997  69516.127573  23.162104  3503.176156         0\n",
      "1997  1998  44311.449262  28.017167  5522.786693         1\n",
      "1998  1999  43756.056605  63.971796  1622.722598         0\n",
      "1999  2000  69436.579552  56.152617  7378.833599         0\n",
      "\n",
      "[2000 rows x 5 columns]\n"
     ]
    }
   ],
   "source": [
    "exemplo1 = df\n",
    "print(exemplo1)"
   ]
  },
  {
   "cell_type": "code",
   "execution_count": 12,
   "metadata": {},
   "outputs": [
    {
     "name": "stdout",
     "output_type": "stream",
     "text": [
      "        id       salario   emprestimo  aprovado\n",
      "0        1  66155.925095  8106.532131         0\n",
      "1        2  34415.153966  6564.745018         0\n",
      "2        3  57317.170063  8020.953296         0\n",
      "3        4  42709.534201  6103.642260         0\n",
      "4        5  66952.688845  8770.099235         1\n",
      "...    ...           ...          ...       ...\n",
      "1995  1996  59221.044874  1926.729397         0\n",
      "1996  1997  69516.127573  3503.176156         0\n",
      "1997  1998  44311.449262  5522.786693         1\n",
      "1998  1999  43756.056605  1622.722598         0\n",
      "1999  2000  69436.579552  7378.833599         0\n",
      "\n",
      "[2000 rows x 4 columns]\n"
     ]
    }
   ],
   "source": [
    "exemplo1 = exemplo1.drop(['idade'], axis = 1)\n",
    "print(exemplo1)"
   ]
  },
  {
   "cell_type": "code",
   "execution_count": 13,
   "metadata": {},
   "outputs": [],
   "source": [
    "#Exemplo 02 - Remoção dos registros da base"
   ]
  },
  {
   "cell_type": "code",
   "execution_count": 14,
   "metadata": {},
   "outputs": [
    {
     "name": "stdout",
     "output_type": "stream",
     "text": [
      "        id       salario      idade   emprestimo  aprovado\n",
      "0        1  66155.925095  59.017015  8106.532131         0\n",
      "1        2  34415.153966  48.117153  6564.745018         0\n",
      "2        3  57317.170063  63.108049  8020.953296         0\n",
      "3        4  42709.534201  45.751972  6103.642260         0\n",
      "4        5  66952.688845  18.584336  8770.099235         1\n",
      "...    ...           ...        ...          ...       ...\n",
      "1995  1996  59221.044874  48.518179  1926.729397         0\n",
      "1996  1997  69516.127573  23.162104  3503.176156         0\n",
      "1997  1998  44311.449262  28.017167  5522.786693         1\n",
      "1998  1999  43756.056605  63.971796  1622.722598         0\n",
      "1999  2000  69436.579552  56.152617  7378.833599         0\n",
      "\n",
      "[2000 rows x 5 columns]\n"
     ]
    }
   ],
   "source": [
    "exemplo2 = df\n",
    "print(exemplo2)"
   ]
  },
  {
   "cell_type": "code",
   "execution_count": 15,
   "metadata": {},
   "outputs": [
    {
     "name": "stdout",
     "output_type": "stream",
     "text": [
      "        id       salario      idade   emprestimo  aprovado\n",
      "0        1  66155.925095  59.017015  8106.532131         0\n",
      "1        2  34415.153966  48.117153  6564.745018         0\n",
      "2        3  57317.170063  63.108049  8020.953296         0\n",
      "3        4  42709.534201  45.751972  6103.642260         0\n",
      "4        5  66952.688845  18.584336  8770.099235         1\n",
      "...    ...           ...        ...          ...       ...\n",
      "1995  1996  59221.044874  48.518179  1926.729397         0\n",
      "1996  1997  69516.127573  23.162104  3503.176156         0\n",
      "1997  1998  44311.449262  28.017167  5522.786693         1\n",
      "1998  1999  43756.056605  63.971796  1622.722598         0\n",
      "1999  2000  69436.579552  56.152617  7378.833599         0\n",
      "\n",
      "[1997 rows x 5 columns]\n"
     ]
    }
   ],
   "source": [
    "exemplo2 = df.drop(df[df['idade'] < 0].index)\n",
    "print(exemplo2)"
   ]
  },
  {
   "cell_type": "code",
   "execution_count": 16,
   "metadata": {},
   "outputs": [],
   "source": [
    "#Exemplo 03 - Descoberta da média dos valores positivos e substituição na base dos valores nulos"
   ]
  },
  {
   "cell_type": "code",
   "execution_count": 17,
   "metadata": {},
   "outputs": [
    {
     "name": "stdout",
     "output_type": "stream",
     "text": [
      "        id       salario      idade   emprestimo  aprovado\n",
      "0        1  66155.925095  59.017015  8106.532131         0\n",
      "1        2  34415.153966  48.117153  6564.745018         0\n",
      "2        3  57317.170063  63.108049  8020.953296         0\n",
      "3        4  42709.534201  45.751972  6103.642260         0\n",
      "4        5  66952.688845  18.584336  8770.099235         1\n",
      "...    ...           ...        ...          ...       ...\n",
      "1995  1996  59221.044874  48.518179  1926.729397         0\n",
      "1996  1997  69516.127573  23.162104  3503.176156         0\n",
      "1997  1998  44311.449262  28.017167  5522.786693         1\n",
      "1998  1999  43756.056605  63.971796  1622.722598         0\n",
      "1999  2000  69436.579552  56.152617  7378.833599         0\n",
      "\n",
      "[2000 rows x 5 columns]\n"
     ]
    }
   ],
   "source": [
    "exemplo3 = df\n",
    "print(exemplo3)"
   ]
  },
  {
   "cell_type": "code",
   "execution_count": 18,
   "metadata": {},
   "outputs": [],
   "source": [
    "exemplo3['idade'].fillna(exemplo3['idade'].mean(), inplace = True)"
   ]
  },
  {
   "cell_type": "code",
   "execution_count": 19,
   "metadata": {},
   "outputs": [
    {
     "data": {
      "text/html": [
       "<div>\n",
       "<style scoped>\n",
       "    .dataframe tbody tr th:only-of-type {\n",
       "        vertical-align: middle;\n",
       "    }\n",
       "\n",
       "    .dataframe tbody tr th {\n",
       "        vertical-align: top;\n",
       "    }\n",
       "\n",
       "    .dataframe thead th {\n",
       "        text-align: right;\n",
       "    }\n",
       "</style>\n",
       "<table border=\"1\" class=\"dataframe\">\n",
       "  <thead>\n",
       "    <tr style=\"text-align: right;\">\n",
       "      <th></th>\n",
       "      <th>id</th>\n",
       "      <th>salario</th>\n",
       "      <th>idade</th>\n",
       "      <th>emprestimo</th>\n",
       "      <th>aprovado</th>\n",
       "    </tr>\n",
       "  </thead>\n",
       "  <tbody>\n",
       "  </tbody>\n",
       "</table>\n",
       "</div>"
      ],
      "text/plain": [
       "Empty DataFrame\n",
       "Columns: [id, salario, idade, emprestimo, aprovado]\n",
       "Index: []"
      ]
     },
     "execution_count": 19,
     "metadata": {},
     "output_type": "execute_result"
    }
   ],
   "source": [
    "df.loc[pd.isnull(df['idade'])]"
   ]
  },
  {
   "cell_type": "code",
   "execution_count": 20,
   "metadata": {},
   "outputs": [],
   "source": [
    "#Exemplo 04 - [Recomendada] Descoberta da média dos valores positivos e;\n",
    "#substituição na base dos valores nulos com Lib Simple Imputer"
   ]
  },
  {
   "cell_type": "code",
   "execution_count": 21,
   "metadata": {},
   "outputs": [],
   "source": [
    "#Lib SkLearn para preencher valores nulos com a média dos outros valores da base\n",
    "#No processo de fit, o imp converte o Dataframe para um Array. "
   ]
  },
  {
   "cell_type": "code",
   "execution_count": 22,
   "metadata": {},
   "outputs": [],
   "source": [
    "#Ao final do processo, se converte de Array para Dataframe.\n",
    "#Também acontece a atribuição dos valores das colunas."
   ]
  },
  {
   "cell_type": "code",
   "execution_count": 23,
   "metadata": {},
   "outputs": [
    {
     "name": "stdout",
     "output_type": "stream",
     "text": [
      "        id       salario      idade   emprestimo  aprovado\n",
      "0        1  66155.925095  59.017015  8106.532131         0\n",
      "1        2  34415.153966  48.117153  6564.745018         0\n",
      "2        3  57317.170063  63.108049  8020.953296         0\n",
      "3        4  42709.534201  45.751972  6103.642260         0\n",
      "4        5  66952.688845  18.584336  8770.099235         1\n",
      "...    ...           ...        ...          ...       ...\n",
      "1995  1996  59221.044874  48.518179  1926.729397         0\n",
      "1996  1997  69516.127573  23.162104  3503.176156         0\n",
      "1997  1998  44311.449262  28.017167  5522.786693         1\n",
      "1998  1999  43756.056605  63.971796  1622.722598         0\n",
      "1999  2000  69436.579552  56.152617  7378.833599         0\n",
      "\n",
      "[2000 rows x 5 columns]\n"
     ]
    }
   ],
   "source": [
    "exemplo4 = df\n",
    "print(exemplo4)"
   ]
  },
  {
   "cell_type": "code",
   "execution_count": 24,
   "metadata": {},
   "outputs": [],
   "source": [
    "imp = SimpleImputer(missing_values=np.nan, strategy='mean')\n",
    "imp = imp.fit(exemplo4)"
   ]
  },
  {
   "cell_type": "code",
   "execution_count": 25,
   "metadata": {},
   "outputs": [
    {
     "name": "stdout",
     "output_type": "stream",
     "text": [
      "[[1.00000000e+00 6.61559251e+04 5.90170151e+01 8.10653213e+03\n",
      "  0.00000000e+00]\n",
      " [2.00000000e+00 3.44151540e+04 4.81171531e+01 6.56474502e+03\n",
      "  0.00000000e+00]\n",
      " [3.00000000e+00 5.73171701e+04 6.31080495e+01 8.02095330e+03\n",
      "  0.00000000e+00]\n",
      " ...\n",
      " [1.99800000e+03 4.43114493e+04 2.80171669e+01 5.52278669e+03\n",
      "  1.00000000e+00]\n",
      " [1.99900000e+03 4.37560566e+04 6.39717958e+01 1.62272260e+03\n",
      "  0.00000000e+00]\n",
      " [2.00000000e+03 6.94365796e+04 5.61526170e+01 7.37883360e+03\n",
      "  0.00000000e+00]]\n"
     ]
    }
   ],
   "source": [
    "exemplo4 = imp.transform(exemplo4)\n",
    "print(exemplo4)"
   ]
  },
  {
   "cell_type": "code",
   "execution_count": 26,
   "metadata": {},
   "outputs": [],
   "source": [
    "#Após a aplicação da correção, é necessário corrigir "
   ]
  },
  {
   "cell_type": "code",
   "execution_count": 27,
   "metadata": {},
   "outputs": [],
   "source": [
    "exemplo4 = pd.DataFrame(data=exemplo4)\n",
    "exemplo4.columns = ['id', 'salario', 'idade', 'emprestimo', 'aprovado']"
   ]
  },
  {
   "cell_type": "code",
   "execution_count": 28,
   "metadata": {},
   "outputs": [
    {
     "data": {
      "text/html": [
       "<div>\n",
       "<style scoped>\n",
       "    .dataframe tbody tr th:only-of-type {\n",
       "        vertical-align: middle;\n",
       "    }\n",
       "\n",
       "    .dataframe tbody tr th {\n",
       "        vertical-align: top;\n",
       "    }\n",
       "\n",
       "    .dataframe thead th {\n",
       "        text-align: right;\n",
       "    }\n",
       "</style>\n",
       "<table border=\"1\" class=\"dataframe\">\n",
       "  <thead>\n",
       "    <tr style=\"text-align: right;\">\n",
       "      <th></th>\n",
       "      <th>id</th>\n",
       "      <th>salario</th>\n",
       "      <th>idade</th>\n",
       "      <th>emprestimo</th>\n",
       "      <th>aprovado</th>\n",
       "    </tr>\n",
       "  </thead>\n",
       "  <tbody>\n",
       "  </tbody>\n",
       "</table>\n",
       "</div>"
      ],
      "text/plain": [
       "Empty DataFrame\n",
       "Columns: [id, salario, idade, emprestimo, aprovado]\n",
       "Index: []"
      ]
     },
     "execution_count": 28,
     "metadata": {},
     "output_type": "execute_result"
    }
   ],
   "source": [
    "exemplo4.loc[pd.isnull(exemplo4['idade'])]"
   ]
  },
  {
   "cell_type": "code",
   "execution_count": 29,
   "metadata": {},
   "outputs": [
    {
     "name": "stdout",
     "output_type": "stream",
     "text": [
      "          id       salario      idade   emprestimo  aprovado\n",
      "0        1.0  66155.925095  59.017015  8106.532131       0.0\n",
      "1        2.0  34415.153966  48.117153  6564.745018       0.0\n",
      "2        3.0  57317.170063  63.108049  8020.953296       0.0\n",
      "3        4.0  42709.534201  45.751972  6103.642260       0.0\n",
      "4        5.0  66952.688845  18.584336  8770.099235       1.0\n",
      "...      ...           ...        ...          ...       ...\n",
      "1995  1996.0  59221.044874  48.518179  1926.729397       0.0\n",
      "1996  1997.0  69516.127573  23.162104  3503.176156       0.0\n",
      "1997  1998.0  44311.449262  28.017167  5522.786693       1.0\n",
      "1998  1999.0  43756.056605  63.971796  1622.722598       0.0\n",
      "1999  2000.0  69436.579552  56.152617  7378.833599       0.0\n",
      "\n",
      "[2000 rows x 5 columns]\n"
     ]
    }
   ],
   "source": [
    "print(exemplo4)"
   ]
  },
  {
   "cell_type": "code",
   "execution_count": 30,
   "metadata": {},
   "outputs": [],
   "source": [
    "#Aplciando as correções na Base e exportando para um arquivo .csv"
   ]
  },
  {
   "cell_type": "code",
   "execution_count": 31,
   "metadata": {},
   "outputs": [
    {
     "name": "stdout",
     "output_type": "stream",
     "text": [
      "          id       salario      idade   emprestimo  aprovado\n",
      "0        1.0  66155.925095  59.017015  8106.532131       0.0\n",
      "1        2.0  34415.153966  48.117153  6564.745018       0.0\n",
      "2        3.0  57317.170063  63.108049  8020.953296       0.0\n",
      "3        4.0  42709.534201  45.751972  6103.642260       0.0\n",
      "4        5.0  66952.688845  18.584336  8770.099235       1.0\n",
      "...      ...           ...        ...          ...       ...\n",
      "1995  1996.0  59221.044874  48.518179  1926.729397       0.0\n",
      "1996  1997.0  69516.127573  23.162104  3503.176156       0.0\n",
      "1997  1998.0  44311.449262  28.017167  5522.786693       1.0\n",
      "1998  1999.0  43756.056605  63.971796  1622.722598       0.0\n",
      "1999  2000.0  69436.579552  56.152617  7378.833599       0.0\n",
      "\n",
      "[2000 rows x 5 columns]\n"
     ]
    }
   ],
   "source": [
    "df = pd.read_csv('D:/OneDrive/OneDrive - Etec Centro Paula Souza/Databases/credit_data_updated.csv')\n",
    "print(df)"
   ]
  },
  {
   "cell_type": "code",
   "execution_count": 32,
   "metadata": {},
   "outputs": [],
   "source": [
    "imp = SimpleImputer(missing_values=np.nan, strategy='mean')\n",
    "imp = imp.fit(df)\n",
    "df = imp.transform(df)"
   ]
  },
  {
   "cell_type": "code",
   "execution_count": 33,
   "metadata": {},
   "outputs": [
    {
     "name": "stdout",
     "output_type": "stream",
     "text": [
      "[[1.00000000e+00 6.61559251e+04 5.90170151e+01 8.10653213e+03\n",
      "  0.00000000e+00]\n",
      " [2.00000000e+00 3.44151540e+04 4.81171531e+01 6.56474502e+03\n",
      "  0.00000000e+00]\n",
      " [3.00000000e+00 5.73171701e+04 6.31080495e+01 8.02095330e+03\n",
      "  0.00000000e+00]\n",
      " ...\n",
      " [1.99800000e+03 4.43114493e+04 2.80171669e+01 5.52278669e+03\n",
      "  1.00000000e+00]\n",
      " [1.99900000e+03 4.37560566e+04 6.39717958e+01 1.62272260e+03\n",
      "  0.00000000e+00]\n",
      " [2.00000000e+03 6.94365796e+04 5.61526170e+01 7.37883360e+03\n",
      "  0.00000000e+00]]\n"
     ]
    }
   ],
   "source": [
    "print(df)"
   ]
  },
  {
   "cell_type": "code",
   "execution_count": 34,
   "metadata": {},
   "outputs": [],
   "source": [
    "df = pd.DataFrame(data=df)\n",
    "df.columns = ['id', 'salario', 'idade', 'emprestimo', 'aprovado']"
   ]
  },
  {
   "cell_type": "code",
   "execution_count": 35,
   "metadata": {},
   "outputs": [
    {
     "name": "stdout",
     "output_type": "stream",
     "text": [
      "          id       salario      idade   emprestimo  aprovado\n",
      "0        1.0  66155.925095  59.017015  8106.532131       0.0\n",
      "1        2.0  34415.153966  48.117153  6564.745018       0.0\n",
      "2        3.0  57317.170063  63.108049  8020.953296       0.0\n",
      "3        4.0  42709.534201  45.751972  6103.642260       0.0\n",
      "4        5.0  66952.688845  18.584336  8770.099235       1.0\n",
      "...      ...           ...        ...          ...       ...\n",
      "1995  1996.0  59221.044874  48.518179  1926.729397       0.0\n",
      "1996  1997.0  69516.127573  23.162104  3503.176156       0.0\n",
      "1997  1998.0  44311.449262  28.017167  5522.786693       1.0\n",
      "1998  1999.0  43756.056605  63.971796  1622.722598       0.0\n",
      "1999  2000.0  69436.579552  56.152617  7378.833599       0.0\n",
      "\n",
      "[2000 rows x 5 columns]\n"
     ]
    }
   ],
   "source": [
    "print(df)"
   ]
  },
  {
   "cell_type": "code",
   "execution_count": 37,
   "metadata": {},
   "outputs": [],
   "source": [
    "df.to_csv('D:/OneDrive/OneDrive - Etec Centro Paula Souza/Databases/credit_data_updated.csv', index=False);"
   ]
  }
 ],
 "metadata": {
  "kernelspec": {
   "display_name": "Python 3",
   "language": "python",
   "name": "python3"
  },
  "language_info": {
   "codemirror_mode": {
    "name": "ipython",
    "version": 3
   },
   "file_extension": ".py",
   "mimetype": "text/x-python",
   "name": "python",
   "nbconvert_exporter": "python",
   "pygments_lexer": "ipython3",
   "version": "3.8.5"
  }
 },
 "nbformat": 4,
 "nbformat_minor": 4
}
