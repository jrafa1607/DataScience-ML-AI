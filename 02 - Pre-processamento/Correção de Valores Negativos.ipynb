{
 "cells": [
  {
   "cell_type": "code",
   "execution_count": 1,
   "metadata": {},
   "outputs": [],
   "source": [
    "#Correção de Valores Negativos na Base"
   ]
  },
  {
   "cell_type": "code",
   "execution_count": 2,
   "metadata": {},
   "outputs": [],
   "source": [
    "import pandas as pd"
   ]
  },
  {
   "cell_type": "code",
   "execution_count": 3,
   "metadata": {},
   "outputs": [],
   "source": [
    "df = pd.read_csv('D:/OneDrive/OneDrive - Etec Centro Paula Souza/Databases/credit_data.csv')\n",
    "df.columns = ['id', 'salario', 'idade', 'emprestimo', 'aprovado']"
   ]
  },
  {
   "cell_type": "code",
   "execution_count": 4,
   "metadata": {},
   "outputs": [
    {
     "name": "stdout",
     "output_type": "stream",
     "text": [
      "        id       salario      idade   emprestimo  aprovado\n",
      "0        1  66155.925095  59.017015  8106.532131         0\n",
      "1        2  34415.153966  48.117153  6564.745018         0\n",
      "2        3  57317.170063  63.108049  8020.953296         0\n",
      "3        4  42709.534201  45.751972  6103.642260         0\n",
      "4        5  66952.688845  18.584336  8770.099235         1\n",
      "...    ...           ...        ...          ...       ...\n",
      "1995  1996  59221.044874  48.518179  1926.729397         0\n",
      "1996  1997  69516.127573  23.162104  3503.176156         0\n",
      "1997  1998  44311.449262  28.017167  5522.786693         1\n",
      "1998  1999  43756.056605  63.971796  1622.722598         0\n",
      "1999  2000  69436.579552  56.152617  7378.833599         0\n",
      "\n",
      "[2000 rows x 5 columns]\n"
     ]
    }
   ],
   "source": [
    "print(df)"
   ]
  },
  {
   "cell_type": "code",
   "execution_count": 5,
   "metadata": {},
   "outputs": [],
   "source": [
    "#Identificação e Correção de valores negativos na base"
   ]
  },
  {
   "cell_type": "code",
   "execution_count": 6,
   "metadata": {},
   "outputs": [
    {
     "name": "stdout",
     "output_type": "stream",
     "text": [
      "         id  salario  idade  emprestimo  aprovado\n",
      "0     False    False  False       False     False\n",
      "1     False    False  False       False     False\n",
      "2     False    False  False       False     False\n",
      "3     False    False  False       False     False\n",
      "4     False    False  False       False     False\n",
      "...     ...      ...    ...         ...       ...\n",
      "1995  False    False  False       False     False\n",
      "1996  False    False  False       False     False\n",
      "1997  False    False  False       False     False\n",
      "1998  False    False  False       False     False\n",
      "1999  False    False  False       False     False\n",
      "\n",
      "[2000 rows x 5 columns]\n"
     ]
    }
   ],
   "source": [
    "print(df.lt(0))"
   ]
  },
  {
   "cell_type": "code",
   "execution_count": 7,
   "metadata": {},
   "outputs": [
    {
     "name": "stdout",
     "output_type": "stream",
     "text": [
      "id            0\n",
      "salario       0\n",
      "idade         3\n",
      "emprestimo    0\n",
      "aprovado      0\n",
      "dtype: int64\n"
     ]
    }
   ],
   "source": [
    "print(df.lt(0).sum())"
   ]
  },
  {
   "cell_type": "code",
   "execution_count": 8,
   "metadata": {},
   "outputs": [],
   "source": [
    "#localizando os valores Negativos informados na Base"
   ]
  },
  {
   "cell_type": "code",
   "execution_count": 9,
   "metadata": {},
   "outputs": [
    {
     "data": {
      "text/plain": [
       "15   -28.218361\n",
       "21   -52.423280\n",
       "26   -36.496976\n",
       "Name: idade, dtype: float64"
      ]
     },
     "execution_count": 9,
     "metadata": {},
     "output_type": "execute_result"
    }
   ],
   "source": [
    "df.loc[df.idade < 0, 'idade']"
   ]
  },
  {
   "cell_type": "code",
   "execution_count": 10,
   "metadata": {},
   "outputs": [
    {
     "data": {
      "text/html": [
       "<div>\n",
       "<style scoped>\n",
       "    .dataframe tbody tr th:only-of-type {\n",
       "        vertical-align: middle;\n",
       "    }\n",
       "\n",
       "    .dataframe tbody tr th {\n",
       "        vertical-align: top;\n",
       "    }\n",
       "\n",
       "    .dataframe thead th {\n",
       "        text-align: right;\n",
       "    }\n",
       "</style>\n",
       "<table border=\"1\" class=\"dataframe\">\n",
       "  <thead>\n",
       "    <tr style=\"text-align: right;\">\n",
       "      <th></th>\n",
       "      <th>id</th>\n",
       "      <th>salario</th>\n",
       "      <th>idade</th>\n",
       "      <th>emprestimo</th>\n",
       "      <th>aprovado</th>\n",
       "    </tr>\n",
       "  </thead>\n",
       "  <tbody>\n",
       "    <tr>\n",
       "      <th>15</th>\n",
       "      <td>16</td>\n",
       "      <td>50501.726689</td>\n",
       "      <td>-28.218361</td>\n",
       "      <td>3977.287432</td>\n",
       "      <td>0</td>\n",
       "    </tr>\n",
       "    <tr>\n",
       "      <th>21</th>\n",
       "      <td>22</td>\n",
       "      <td>32197.620701</td>\n",
       "      <td>-52.423280</td>\n",
       "      <td>4244.057136</td>\n",
       "      <td>0</td>\n",
       "    </tr>\n",
       "    <tr>\n",
       "      <th>26</th>\n",
       "      <td>27</td>\n",
       "      <td>63287.038908</td>\n",
       "      <td>-36.496976</td>\n",
       "      <td>9595.286289</td>\n",
       "      <td>0</td>\n",
       "    </tr>\n",
       "  </tbody>\n",
       "</table>\n",
       "</div>"
      ],
      "text/plain": [
       "    id       salario      idade   emprestimo  aprovado\n",
       "15  16  50501.726689 -28.218361  3977.287432         0\n",
       "21  22  32197.620701 -52.423280  4244.057136         0\n",
       "26  27  63287.038908 -36.496976  9595.286289         0"
      ]
     },
     "execution_count": 10,
     "metadata": {},
     "output_type": "execute_result"
    }
   ],
   "source": [
    "df[df['idade'] < 0]"
   ]
  },
  {
   "cell_type": "code",
   "execution_count": 11,
   "metadata": {},
   "outputs": [],
   "source": [
    "#Abaixo são descritos algumas possíveis soluções para corrigir os valores negativos na base"
   ]
  },
  {
   "cell_type": "code",
   "execution_count": 12,
   "metadata": {},
   "outputs": [],
   "source": [
    "#Exemplo 01 - Remoção de um atributo na base"
   ]
  },
  {
   "cell_type": "code",
   "execution_count": 13,
   "metadata": {},
   "outputs": [
    {
     "name": "stdout",
     "output_type": "stream",
     "text": [
      "        id       salario      idade   emprestimo  aprovado\n",
      "0        1  66155.925095  59.017015  8106.532131         0\n",
      "1        2  34415.153966  48.117153  6564.745018         0\n",
      "2        3  57317.170063  63.108049  8020.953296         0\n",
      "3        4  42709.534201  45.751972  6103.642260         0\n",
      "4        5  66952.688845  18.584336  8770.099235         1\n",
      "...    ...           ...        ...          ...       ...\n",
      "1995  1996  59221.044874  48.518179  1926.729397         0\n",
      "1996  1997  69516.127573  23.162104  3503.176156         0\n",
      "1997  1998  44311.449262  28.017167  5522.786693         1\n",
      "1998  1999  43756.056605  63.971796  1622.722598         0\n",
      "1999  2000  69436.579552  56.152617  7378.833599         0\n",
      "\n",
      "[2000 rows x 5 columns]\n"
     ]
    }
   ],
   "source": [
    "exemplo1 = df\n",
    "print(exemplo1)"
   ]
  },
  {
   "cell_type": "code",
   "execution_count": 14,
   "metadata": {},
   "outputs": [
    {
     "name": "stdout",
     "output_type": "stream",
     "text": [
      "        id       salario   emprestimo  aprovado\n",
      "0        1  66155.925095  8106.532131         0\n",
      "1        2  34415.153966  6564.745018         0\n",
      "2        3  57317.170063  8020.953296         0\n",
      "3        4  42709.534201  6103.642260         0\n",
      "4        5  66952.688845  8770.099235         1\n",
      "...    ...           ...          ...       ...\n",
      "1995  1996  59221.044874  1926.729397         0\n",
      "1996  1997  69516.127573  3503.176156         0\n",
      "1997  1998  44311.449262  5522.786693         1\n",
      "1998  1999  43756.056605  1622.722598         0\n",
      "1999  2000  69436.579552  7378.833599         0\n",
      "\n",
      "[2000 rows x 4 columns]\n"
     ]
    }
   ],
   "source": [
    "exemplo1 = exemplo1.drop(['idade'], axis = 1)\n",
    "print(exemplo1)"
   ]
  },
  {
   "cell_type": "code",
   "execution_count": 15,
   "metadata": {},
   "outputs": [],
   "source": [
    "#Exemplo 02 - Remoção dos registros da base"
   ]
  },
  {
   "cell_type": "code",
   "execution_count": 16,
   "metadata": {},
   "outputs": [
    {
     "name": "stdout",
     "output_type": "stream",
     "text": [
      "        id       salario      idade   emprestimo  aprovado\n",
      "0        1  66155.925095  59.017015  8106.532131         0\n",
      "1        2  34415.153966  48.117153  6564.745018         0\n",
      "2        3  57317.170063  63.108049  8020.953296         0\n",
      "3        4  42709.534201  45.751972  6103.642260         0\n",
      "4        5  66952.688845  18.584336  8770.099235         1\n",
      "...    ...           ...        ...          ...       ...\n",
      "1995  1996  59221.044874  48.518179  1926.729397         0\n",
      "1996  1997  69516.127573  23.162104  3503.176156         0\n",
      "1997  1998  44311.449262  28.017167  5522.786693         1\n",
      "1998  1999  43756.056605  63.971796  1622.722598         0\n",
      "1999  2000  69436.579552  56.152617  7378.833599         0\n",
      "\n",
      "[2000 rows x 5 columns]\n"
     ]
    }
   ],
   "source": [
    "exemplo2 = df\n",
    "print(exemplo2)"
   ]
  },
  {
   "cell_type": "code",
   "execution_count": 17,
   "metadata": {},
   "outputs": [
    {
     "name": "stdout",
     "output_type": "stream",
     "text": [
      "        id       salario      idade   emprestimo  aprovado\n",
      "0        1  66155.925095  59.017015  8106.532131         0\n",
      "1        2  34415.153966  48.117153  6564.745018         0\n",
      "2        3  57317.170063  63.108049  8020.953296         0\n",
      "3        4  42709.534201  45.751972  6103.642260         0\n",
      "4        5  66952.688845  18.584336  8770.099235         1\n",
      "...    ...           ...        ...          ...       ...\n",
      "1995  1996  59221.044874  48.518179  1926.729397         0\n",
      "1996  1997  69516.127573  23.162104  3503.176156         0\n",
      "1997  1998  44311.449262  28.017167  5522.786693         1\n",
      "1998  1999  43756.056605  63.971796  1622.722598         0\n",
      "1999  2000  69436.579552  56.152617  7378.833599         0\n",
      "\n",
      "[1997 rows x 5 columns]\n"
     ]
    }
   ],
   "source": [
    "exemplo2 = df.drop(df[df['idade'] < 0].index)\n",
    "print(exemplo2)"
   ]
  },
  {
   "cell_type": "code",
   "execution_count": 18,
   "metadata": {},
   "outputs": [],
   "source": [
    "#Exemplo 03 [Adequada] - Descoberta da média dos valores positivos e substituição na base dos valores negativos"
   ]
  },
  {
   "cell_type": "code",
   "execution_count": 19,
   "metadata": {},
   "outputs": [
    {
     "name": "stdout",
     "output_type": "stream",
     "text": [
      "        id       salario      idade   emprestimo  aprovado\n",
      "0        1  66155.925095  59.017015  8106.532131         0\n",
      "1        2  34415.153966  48.117153  6564.745018         0\n",
      "2        3  57317.170063  63.108049  8020.953296         0\n",
      "3        4  42709.534201  45.751972  6103.642260         0\n",
      "4        5  66952.688845  18.584336  8770.099235         1\n",
      "...    ...           ...        ...          ...       ...\n",
      "1995  1996  59221.044874  48.518179  1926.729397         0\n",
      "1996  1997  69516.127573  23.162104  3503.176156         0\n",
      "1997  1998  44311.449262  28.017167  5522.786693         1\n",
      "1998  1999  43756.056605  63.971796  1622.722598         0\n",
      "1999  2000  69436.579552  56.152617  7378.833599         0\n",
      "\n",
      "[2000 rows x 5 columns]\n"
     ]
    }
   ],
   "source": [
    "exemplo3 = df\n",
    "print(exemplo3)"
   ]
  },
  {
   "cell_type": "code",
   "execution_count": 20,
   "metadata": {},
   "outputs": [],
   "source": [
    "#Descobrindo a média dos valores positivos"
   ]
  },
  {
   "cell_type": "code",
   "execution_count": 21,
   "metadata": {},
   "outputs": [
    {
     "name": "stdout",
     "output_type": "stream",
     "text": [
      "40.92770044906149\n"
     ]
    }
   ],
   "source": [
    "media_pos = exemplo3['idade'][exemplo3.idade > 0].mean()\n",
    "print(media_pos)"
   ]
  },
  {
   "cell_type": "code",
   "execution_count": 22,
   "metadata": {},
   "outputs": [],
   "source": [
    "exemplo3.loc[exemplo3.idade < 0, 'idade'] = media_pos"
   ]
  },
  {
   "cell_type": "code",
   "execution_count": 23,
   "metadata": {},
   "outputs": [
    {
     "name": "stdout",
     "output_type": "stream",
     "text": [
      "id            0\n",
      "salario       0\n",
      "idade         0\n",
      "emprestimo    0\n",
      "aprovado      0\n",
      "dtype: int64\n"
     ]
    }
   ],
   "source": [
    "print(exemplo3.lt(0).sum())"
   ]
  },
  {
   "cell_type": "code",
   "execution_count": 25,
   "metadata": {},
   "outputs": [],
   "source": [
    "#Aplciando as correções na Base e exportando para um arquivo .csv"
   ]
  },
  {
   "cell_type": "code",
   "execution_count": 28,
   "metadata": {},
   "outputs": [],
   "source": [
    "df = pd.read_csv('D:/OneDrive/OneDrive - Etec Centro Paula Souza/Databases/credit_data_updated.csv')\n",
    "df.columns = ['id', 'salario', 'idade', 'emprestimo', 'aprovado']"
   ]
  },
  {
   "cell_type": "code",
   "execution_count": 29,
   "metadata": {},
   "outputs": [
    {
     "name": "stdout",
     "output_type": "stream",
     "text": [
      "40.92770044906149\n"
     ]
    }
   ],
   "source": [
    "media_pos = df['idade'][df.idade > 0].mean()\n",
    "print(media_pos)"
   ]
  },
  {
   "cell_type": "code",
   "execution_count": 30,
   "metadata": {},
   "outputs": [],
   "source": [
    "df.loc[df.idade < 0, 'idade'] = media_pos"
   ]
  },
  {
   "cell_type": "code",
   "execution_count": 31,
   "metadata": {},
   "outputs": [
    {
     "name": "stdout",
     "output_type": "stream",
     "text": [
      "id            0\n",
      "salario       0\n",
      "idade         0\n",
      "emprestimo    0\n",
      "aprovado      0\n",
      "dtype: int64\n"
     ]
    }
   ],
   "source": [
    "print(df.lt(0).sum())"
   ]
  },
  {
   "cell_type": "code",
   "execution_count": 32,
   "metadata": {},
   "outputs": [],
   "source": [
    "df.to_csv('D:/OneDrive/OneDrive - Etec Centro Paula Souza/Databases/credit_data_updated.csv', index=False);"
   ]
  }
 ],
 "metadata": {
  "kernelspec": {
   "display_name": "Python 3",
   "language": "python",
   "name": "python3"
  },
  "language_info": {
   "codemirror_mode": {
    "name": "ipython",
    "version": 3
   },
   "file_extension": ".py",
   "mimetype": "text/x-python",
   "name": "python",
   "nbconvert_exporter": "python",
   "pygments_lexer": "ipython3",
   "version": "3.8.5"
  }
 },
 "nbformat": 4,
 "nbformat_minor": 4
}
