{
  "cells": [
    {
      "cell_type": "markdown",
      "metadata": {
        "id": "16683b81"
      },
      "source": [
        "In statistics and data analysis for Data Science, variables can be classified based on the type of values they can take. Here's a breakdown of the types you mentioned:\n",
        "\n",
        "**Numerical Variables:** These represent quantities and can be further divided into:\n",
        "\n",
        "*   **Continuous Variables: ( Real Numbers )** These can take any value within a given range. Examples include:\n",
        "    *   Height\n",
        "    *   Weight\n",
        "    *   Temperature\n",
        "    *   Time\n",
        "*   **Discrete Variables: ( Set of Finit Values )** These can only take specific, distinct values, often whole numbers. Examples include:\n",
        "    *   Number of students in a class\n",
        "    *   Count of defects in a product\n",
        "    *   Number of cars passing a point on a road\n",
        "\n",
        "**Categorical Variables:** These represent categories or groups and can be further divided into:\n",
        "\n",
        "*   **Nominal Variables: ( Data Unmeasureable )** These represent categories that do not have a natural order or ranking. Examples include:\n",
        "    *   Colors (red, blue, green)\n",
        "    *   Marital status (single, married, divorced)\n",
        "    *   Types of animals (cat, dog, bird)\n",
        "*   **Ordinal Variables:** These represent categories that have a natural order or ranking. The difference between categories is not necessarily equal. Examples include:\n",
        "    *   Education levels (high school, bachelor's, master's)\n",
        "    *   Satisfaction ratings (low, medium, high)\n",
        "    *   T-shirt sizes (small, medium, large)"
      ]
    },
    {
      "cell_type": "code",
      "execution_count": 1,
      "metadata": {
        "id": "dhvf_U35BTmy"
      },
      "outputs": [],
      "source": [
        "#Import Libs\n",
        "from sklearn.preprocessing import LabelEncoder, OneHotEncoder\n",
        "from sklearn.compose import ColumnTransformer\n",
        "import pandas as pd\n",
        "import numpy as np"
      ]
    },
    {
      "cell_type": "code",
      "execution_count": 2,
      "metadata": {
        "id": "11WevmZiBTmz"
      },
      "outputs": [],
      "source": [
        "#Fix Warnings\n",
        "import warnings\n",
        "from sklearn.exceptions import DataConversionWarning\n",
        "warnings.filterwarnings(action='ignore', category=DataConversionWarning)"
      ]
    },
    {
      "cell_type": "code",
      "execution_count": 3,
      "metadata": {
        "id": "Lpw7CRc5BTmz",
        "outputId": "cb919537-3e48-4e3f-bc35-fb3d241f8d0c",
        "colab": {
          "base_uri": "https://localhost:8080/"
        }
      },
      "outputs": [
        {
          "output_type": "stream",
          "name": "stdout",
          "text": [
            "       age          workclass  final-weight    education  education-num  \\\n",
            "0       39          State-gov         77516    Bachelors             13   \n",
            "1       50   Self-emp-not-inc         83311    Bachelors             13   \n",
            "2       38            Private        215646      HS-grad              9   \n",
            "3       53            Private        234721         11th              7   \n",
            "4       28            Private        338409    Bachelors             13   \n",
            "...    ...                ...           ...          ...            ...   \n",
            "32556   27            Private        257302   Assoc-acdm             12   \n",
            "32557   40            Private        154374      HS-grad              9   \n",
            "32558   58            Private        151910      HS-grad              9   \n",
            "32559   22            Private        201490      HS-grad              9   \n",
            "32560   52       Self-emp-inc        287927      HS-grad              9   \n",
            "\n",
            "            marital-status          occupation    relationship    race  \\\n",
            "0            Never-married        Adm-clerical   Not-in-family   White   \n",
            "1       Married-civ-spouse     Exec-managerial         Husband   White   \n",
            "2                 Divorced   Handlers-cleaners   Not-in-family   White   \n",
            "3       Married-civ-spouse   Handlers-cleaners         Husband   Black   \n",
            "4       Married-civ-spouse      Prof-specialty            Wife   Black   \n",
            "...                    ...                 ...             ...     ...   \n",
            "32556   Married-civ-spouse        Tech-support            Wife   White   \n",
            "32557   Married-civ-spouse   Machine-op-inspct         Husband   White   \n",
            "32558              Widowed        Adm-clerical       Unmarried   White   \n",
            "32559        Never-married        Adm-clerical       Own-child   White   \n",
            "32560   Married-civ-spouse     Exec-managerial            Wife   White   \n",
            "\n",
            "           sex  capital-gain  capital-loos  hour-per-week  native-country  \\\n",
            "0         Male          2174             0             40   United-States   \n",
            "1         Male             0             0             13   United-States   \n",
            "2         Male             0             0             40   United-States   \n",
            "3         Male             0             0             40   United-States   \n",
            "4       Female             0             0             40            Cuba   \n",
            "...        ...           ...           ...            ...             ...   \n",
            "32556   Female             0             0             38   United-States   \n",
            "32557     Male             0             0             40   United-States   \n",
            "32558   Female             0             0             40   United-States   \n",
            "32559     Male             0             0             20   United-States   \n",
            "32560   Female         15024             0             40   United-States   \n",
            "\n",
            "       income  \n",
            "0       <=50K  \n",
            "1       <=50K  \n",
            "2       <=50K  \n",
            "3       <=50K  \n",
            "4       <=50K  \n",
            "...       ...  \n",
            "32556   <=50K  \n",
            "32557    >50K  \n",
            "32558   <=50K  \n",
            "32559   <=50K  \n",
            "32560    >50K  \n",
            "\n",
            "[32561 rows x 15 columns]\n"
          ]
        }
      ],
      "source": [
        "#Read the Dataframe\n",
        "df = pd.read_csv('/content/census.csv')\n",
        "print(df)"
      ]
    },
    {
      "cell_type": "code",
      "source": [
        "#Select the Categorical Attributes and Create a List with their positions.\n",
        "attr = [1,3,5,6,7,8,9,13]"
      ],
      "metadata": {
        "id": "Low9sIyYB8nc"
      },
      "execution_count": 4,
      "outputs": []
    },
    {
      "cell_type": "code",
      "source": [
        "#Start the Label Encoder Function\n",
        "labelencorder_X = LabelEncoder()"
      ],
      "metadata": {
        "id": "hFbWH5K0B8k6"
      },
      "execution_count": 5,
      "outputs": []
    },
    {
      "cell_type": "code",
      "source": [
        "#Loop for Fix the Categorical Values\n",
        "for i in attr:\n",
        "  df.iloc[:,i] = labelencorder_X.fit_transform(df.iloc[:,i])"
      ],
      "metadata": {
        "id": "d7xbGPNoCrUg"
      },
      "execution_count": 6,
      "outputs": []
    },
    {
      "cell_type": "code",
      "source": [
        "#Show the Dataframe\n",
        "print(df)"
      ],
      "metadata": {
        "id": "2R8eMZPdB8iJ",
        "outputId": "e9737ea6-b9b2-40a8-ac45-160c933d65cf",
        "colab": {
          "base_uri": "https://localhost:8080/"
        }
      },
      "execution_count": 7,
      "outputs": [
        {
          "output_type": "stream",
          "name": "stdout",
          "text": [
            "       age workclass  final-weight education  education-num marital-status  \\\n",
            "0       39         7         77516         9             13              4   \n",
            "1       50         6         83311         9             13              2   \n",
            "2       38         4        215646        11              9              0   \n",
            "3       53         4        234721         1              7              2   \n",
            "4       28         4        338409         9             13              2   \n",
            "...    ...       ...           ...       ...            ...            ...   \n",
            "32556   27         4        257302         7             12              2   \n",
            "32557   40         4        154374        11              9              2   \n",
            "32558   58         4        151910        11              9              6   \n",
            "32559   22         4        201490        11              9              4   \n",
            "32560   52         5        287927        11              9              2   \n",
            "\n",
            "      occupation relationship race sex  capital-gain  capital-loos  \\\n",
            "0              1            1    4   1          2174             0   \n",
            "1              4            0    4   1             0             0   \n",
            "2              6            1    4   1             0             0   \n",
            "3              6            0    2   1             0             0   \n",
            "4             10            5    2   0             0             0   \n",
            "...          ...          ...  ...  ..           ...           ...   \n",
            "32556         13            5    4   0             0             0   \n",
            "32557          7            0    4   1             0             0   \n",
            "32558          1            4    4   0             0             0   \n",
            "32559          1            3    4   1             0             0   \n",
            "32560          4            5    4   0         15024             0   \n",
            "\n",
            "       hour-per-week native-country  income  \n",
            "0                 40             39   <=50K  \n",
            "1                 13             39   <=50K  \n",
            "2                 40             39   <=50K  \n",
            "3                 40             39   <=50K  \n",
            "4                 40              5   <=50K  \n",
            "...              ...            ...     ...  \n",
            "32556             38             39   <=50K  \n",
            "32557             40             39    >50K  \n",
            "32558             40             39   <=50K  \n",
            "32559             20             39   <=50K  \n",
            "32560             40             39    >50K  \n",
            "\n",
            "[32561 rows x 15 columns]\n"
          ]
        }
      ]
    },
    {
      "cell_type": "code",
      "source": [
        "#Fix the Last Attribute ( Classifier )\n",
        "labelencorder_classe = LabelEncoder()\n",
        "df.iloc[:,14] = labelencorder_X.fit_transform(df.iloc[:,14])\n",
        "print(df.iloc[:,14])"
      ],
      "metadata": {
        "id": "augOibHbEGuA",
        "outputId": "6b0d130c-d913-4bbd-af8c-4e6a373f57e5",
        "colab": {
          "base_uri": "https://localhost:8080/"
        }
      },
      "execution_count": 8,
      "outputs": [
        {
          "output_type": "stream",
          "name": "stdout",
          "text": [
            "0        0\n",
            "1        0\n",
            "2        0\n",
            "3        0\n",
            "4        0\n",
            "        ..\n",
            "32556    0\n",
            "32557    1\n",
            "32558    0\n",
            "32559    0\n",
            "32560    1\n",
            "Name: income, Length: 32561, dtype: object\n"
          ]
        }
      ]
    }
  ],
  "metadata": {
    "kernelspec": {
      "display_name": "Python 3",
      "language": "python",
      "name": "python3"
    },
    "language_info": {
      "codemirror_mode": {
        "name": "ipython",
        "version": 3
      },
      "file_extension": ".py",
      "mimetype": "text/x-python",
      "name": "python",
      "nbconvert_exporter": "python",
      "pygments_lexer": "ipython3",
      "version": "3.8.5"
    },
    "colab": {
      "provenance": []
    }
  },
  "nbformat": 4,
  "nbformat_minor": 0
}