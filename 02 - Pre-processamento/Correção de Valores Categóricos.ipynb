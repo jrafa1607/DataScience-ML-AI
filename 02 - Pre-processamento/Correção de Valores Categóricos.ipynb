{
 "cells": [
  {
   "cell_type": "code",
   "execution_count": 1,
   "metadata": {},
   "outputs": [],
   "source": [
    "#Correção de Valores Categóricos"
   ]
  },
  {
   "cell_type": "code",
   "execution_count": 2,
   "metadata": {},
   "outputs": [],
   "source": [
    "from sklearn.preprocessing import LabelEncoder, OneHotEncoder\n",
    "from sklearn.compose import ColumnTransformer\n",
    "import pandas as pd\n",
    "import numpy as np"
   ]
  },
  {
   "cell_type": "code",
   "execution_count": 3,
   "metadata": {},
   "outputs": [],
   "source": [
    "import warnings\n",
    "from sklearn.exceptions import DataConversionWarning\n",
    "warnings.filterwarnings(action='ignore', category=DataConversionWarning)"
   ]
  },
  {
   "cell_type": "code",
   "execution_count": 4,
   "metadata": {},
   "outputs": [],
   "source": [
    "df = pd.read_csv('D:/OneDrive/OneDrive - Etec Centro Paula Souza/Databases/census.csv')\n",
    "df.columns = ['idade', 'tipo_trabalho', 'peso', 'educacao', 'educacao_numero', 'relacionamento', 'ocupacao', 'relacionamento', 'raca', 'sexo', 'capital_ganho', 'capital_perda', 'horas_semana', 'nacionalidade', 'salario']"
   ]
  },
  {
   "cell_type": "code",
   "execution_count": 5,
   "metadata": {},
   "outputs": [
    {
     "name": "stdout",
     "output_type": "stream",
     "text": [
      "       idade      tipo_trabalho    peso     educacao  educacao_numero  \\\n",
      "0         39          State-gov   77516    Bachelors               13   \n",
      "1         50   Self-emp-not-inc   83311    Bachelors               13   \n",
      "2         38            Private  215646      HS-grad                9   \n",
      "3         53            Private  234721         11th                7   \n",
      "4         28            Private  338409    Bachelors               13   \n",
      "...      ...                ...     ...          ...              ...   \n",
      "32556     27            Private  257302   Assoc-acdm               12   \n",
      "32557     40            Private  154374      HS-grad                9   \n",
      "32558     58            Private  151910      HS-grad                9   \n",
      "32559     22            Private  201490      HS-grad                9   \n",
      "32560     52       Self-emp-inc  287927      HS-grad                9   \n",
      "\n",
      "            relacionamento            ocupacao  relacionamento    raca  \\\n",
      "0            Never-married        Adm-clerical   Not-in-family   White   \n",
      "1       Married-civ-spouse     Exec-managerial         Husband   White   \n",
      "2                 Divorced   Handlers-cleaners   Not-in-family   White   \n",
      "3       Married-civ-spouse   Handlers-cleaners         Husband   Black   \n",
      "4       Married-civ-spouse      Prof-specialty            Wife   Black   \n",
      "...                    ...                 ...             ...     ...   \n",
      "32556   Married-civ-spouse        Tech-support            Wife   White   \n",
      "32557   Married-civ-spouse   Machine-op-inspct         Husband   White   \n",
      "32558              Widowed        Adm-clerical       Unmarried   White   \n",
      "32559        Never-married        Adm-clerical       Own-child   White   \n",
      "32560   Married-civ-spouse     Exec-managerial            Wife   White   \n",
      "\n",
      "          sexo  capital_ganho  capital_perda  horas_semana   nacionalidade  \\\n",
      "0         Male           2174              0            40   United-States   \n",
      "1         Male              0              0            13   United-States   \n",
      "2         Male              0              0            40   United-States   \n",
      "3         Male              0              0            40   United-States   \n",
      "4       Female              0              0            40            Cuba   \n",
      "...        ...            ...            ...           ...             ...   \n",
      "32556   Female              0              0            38   United-States   \n",
      "32557     Male              0              0            40   United-States   \n",
      "32558   Female              0              0            40   United-States   \n",
      "32559     Male              0              0            20   United-States   \n",
      "32560   Female          15024              0            40   United-States   \n",
      "\n",
      "      salario  \n",
      "0       <=50K  \n",
      "1       <=50K  \n",
      "2       <=50K  \n",
      "3       <=50K  \n",
      "4       <=50K  \n",
      "...       ...  \n",
      "32556   <=50K  \n",
      "32557    >50K  \n",
      "32558   <=50K  \n",
      "32559   <=50K  \n",
      "32560    >50K  \n",
      "\n",
      "[32561 rows x 15 columns]\n"
     ]
    }
   ],
   "source": [
    "print(df)"
   ]
  },
  {
   "cell_type": "code",
   "execution_count": 6,
   "metadata": {},
   "outputs": [],
   "source": [
    "#Divisão da Base entre Previsores e Classificadores"
   ]
  },
  {
   "cell_type": "code",
   "execution_count": 7,
   "metadata": {},
   "outputs": [],
   "source": [
    "X = df.iloc[:,0:14].values\n",
    "Y = df.iloc[:, 14].values"
   ]
  },
  {
   "cell_type": "code",
   "execution_count": 8,
   "metadata": {},
   "outputs": [],
   "source": [
    "#Após analisar a base, define-se quais os atributos serão categorizados\n",
    "#Uma dica é criar um vetor com a numeração de todos os atributos e aplicar um laço for para "
   ]
  },
  {
   "cell_type": "code",
   "execution_count": 9,
   "metadata": {},
   "outputs": [],
   "source": [
    "labelencorder_X = LabelEncoder()\n",
    "colunas_cat = [1,3,5,6,7,8,9,13]"
   ]
  },
  {
   "cell_type": "code",
   "execution_count": 10,
   "metadata": {},
   "outputs": [],
   "source": [
    "for i in colunas_cat:\n",
    "    X[:,i] = labelencorder_X.fit_transform(X[:,i])"
   ]
  },
  {
   "cell_type": "code",
   "execution_count": 11,
   "metadata": {},
   "outputs": [],
   "source": [
    "#Após a correção dos atributos, é necessário converter a base novamente para o formato DataFrame"
   ]
  },
  {
   "cell_type": "code",
   "execution_count": 12,
   "metadata": {},
   "outputs": [],
   "source": [
    "X = pd.DataFrame(data=X)\n",
    "X.columns = ['idade', 'tipo_trabalho', 'peso', 'educacao', 'educacao_numero', 'relacionamento', 'ocupacao', 'relacionamento', 'raca', 'sexo', 'capital_ganho', 'capital_perda', 'horas_semana', 'nacionalidade']"
   ]
  },
  {
   "cell_type": "code",
   "execution_count": 13,
   "metadata": {},
   "outputs": [],
   "source": [
    "df.iloc[:,0:14] = X"
   ]
  },
  {
   "cell_type": "code",
   "execution_count": 14,
   "metadata": {},
   "outputs": [
    {
     "name": "stdout",
     "output_type": "stream",
     "text": [
      "      idade tipo_trabalho    peso educacao educacao_numero relacionamento  \\\n",
      "0        39             7   77516        9              13              4   \n",
      "1        50             6   83311        9              13              2   \n",
      "2        38             4  215646       11               9              0   \n",
      "3        53             4  234721        1               7              2   \n",
      "4        28             4  338409        9              13              2   \n",
      "...     ...           ...     ...      ...             ...            ...   \n",
      "32556    27             4  257302        7              12              2   \n",
      "32557    40             4  154374       11               9              2   \n",
      "32558    58             4  151910       11               9              6   \n",
      "32559    22             4  201490       11               9              4   \n",
      "32560    52             5  287927       11               9              2   \n",
      "\n",
      "      ocupacao relacionamento raca sexo capital_ganho capital_perda  \\\n",
      "0            1              4    4    1          2174             0   \n",
      "1            4              2    4    1             0             0   \n",
      "2            6              0    4    1             0             0   \n",
      "3            6              2    2    1             0             0   \n",
      "4           10              2    2    0             0             0   \n",
      "...        ...            ...  ...  ...           ...           ...   \n",
      "32556       13              2    4    0             0             0   \n",
      "32557        7              2    4    1             0             0   \n",
      "32558        1              6    4    0             0             0   \n",
      "32559        1              4    4    1             0             0   \n",
      "32560        4              2    4    0         15024             0   \n",
      "\n",
      "      horas_semana nacionalidade salario  \n",
      "0               40            39   <=50K  \n",
      "1               13            39   <=50K  \n",
      "2               40            39   <=50K  \n",
      "3               40            39   <=50K  \n",
      "4               40             5   <=50K  \n",
      "...            ...           ...     ...  \n",
      "32556           38            39   <=50K  \n",
      "32557           40            39    >50K  \n",
      "32558           40            39   <=50K  \n",
      "32559           20            39   <=50K  \n",
      "32560           40            39    >50K  \n",
      "\n",
      "[32561 rows x 15 columns]\n"
     ]
    }
   ],
   "source": [
    "print(df)"
   ]
  },
  {
   "cell_type": "code",
   "execution_count": 15,
   "metadata": {},
   "outputs": [],
   "source": [
    "#Categorização dos valores dos Classificadores"
   ]
  },
  {
   "cell_type": "code",
   "execution_count": 16,
   "metadata": {},
   "outputs": [],
   "source": [
    "labelencorder_classe = LabelEncoder()\n",
    "Y = labelencorder_classe.fit_transform(Y)"
   ]
  },
  {
   "cell_type": "code",
   "execution_count": 17,
   "metadata": {},
   "outputs": [
    {
     "name": "stdout",
     "output_type": "stream",
     "text": [
      "[0 0 0 ... 0 0 1]\n"
     ]
    }
   ],
   "source": [
    "print(Y)"
   ]
  },
  {
   "cell_type": "code",
   "execution_count": 18,
   "metadata": {},
   "outputs": [
    {
     "name": "stdout",
     "output_type": "stream",
     "text": [
      "0         <=50K\n",
      "1         <=50K\n",
      "2         <=50K\n",
      "3         <=50K\n",
      "4         <=50K\n",
      "          ...  \n",
      "32556     <=50K\n",
      "32557      >50K\n",
      "32558     <=50K\n",
      "32559     <=50K\n",
      "32560      >50K\n",
      "Name: salario, Length: 32561, dtype: object\n"
     ]
    }
   ],
   "source": [
    "print(df.iloc[:,14])"
   ]
  },
  {
   "cell_type": "code",
   "execution_count": 19,
   "metadata": {},
   "outputs": [],
   "source": [
    "df.iloc[:,14] = Y"
   ]
  },
  {
   "cell_type": "code",
   "execution_count": 22,
   "metadata": {},
   "outputs": [
    {
     "name": "stdout",
     "output_type": "stream",
     "text": [
      "      idade tipo_trabalho    peso educacao educacao_numero relacionamento  \\\n",
      "0        39             7   77516        9              13              4   \n",
      "1        50             6   83311        9              13              2   \n",
      "2        38             4  215646       11               9              0   \n",
      "3        53             4  234721        1               7              2   \n",
      "4        28             4  338409        9              13              2   \n",
      "...     ...           ...     ...      ...             ...            ...   \n",
      "32556    27             4  257302        7              12              2   \n",
      "32557    40             4  154374       11               9              2   \n",
      "32558    58             4  151910       11               9              6   \n",
      "32559    22             4  201490       11               9              4   \n",
      "32560    52             5  287927       11               9              2   \n",
      "\n",
      "      ocupacao relacionamento raca sexo capital_ganho capital_perda  \\\n",
      "0            1              4    4    1          2174             0   \n",
      "1            4              2    4    1             0             0   \n",
      "2            6              0    4    1             0             0   \n",
      "3            6              2    2    1             0             0   \n",
      "4           10              2    2    0             0             0   \n",
      "...        ...            ...  ...  ...           ...           ...   \n",
      "32556       13              2    4    0             0             0   \n",
      "32557        7              2    4    1             0             0   \n",
      "32558        1              6    4    0             0             0   \n",
      "32559        1              4    4    1             0             0   \n",
      "32560        4              2    4    0         15024             0   \n",
      "\n",
      "      horas_semana nacionalidade salario  \n",
      "0               40            39       0  \n",
      "1               13            39       0  \n",
      "2               40            39       0  \n",
      "3               40            39       0  \n",
      "4               40             5       0  \n",
      "...            ...           ...     ...  \n",
      "32556           38            39       0  \n",
      "32557           40            39       1  \n",
      "32558           40            39       0  \n",
      "32559           20            39       0  \n",
      "32560           40            39       1  \n",
      "\n",
      "[32561 rows x 15 columns]\n"
     ]
    }
   ],
   "source": [
    "print(df)"
   ]
  },
  {
   "cell_type": "code",
   "execution_count": 16,
   "metadata": {},
   "outputs": [],
   "source": [
    "#Exportando para um arquivo .csv"
   ]
  },
  {
   "cell_type": "code",
   "execution_count": 21,
   "metadata": {},
   "outputs": [],
   "source": [
    "df.to_csv('D:/OneDrive/OneDrive - Etec Centro Paula Souza/Databases/census_updated.csv', index=False);"
   ]
  }
 ],
 "metadata": {
  "kernelspec": {
   "display_name": "Python 3",
   "language": "python",
   "name": "python3"
  },
  "language_info": {
   "codemirror_mode": {
    "name": "ipython",
    "version": 3
   },
   "file_extension": ".py",
   "mimetype": "text/x-python",
   "name": "python",
   "nbconvert_exporter": "python",
   "pygments_lexer": "ipython3",
   "version": "3.8.5"
  }
 },
 "nbformat": 4,
 "nbformat_minor": 4
}
