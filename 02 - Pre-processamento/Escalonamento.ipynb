{
 "cells": [
  {
   "cell_type": "code",
   "execution_count": 1,
   "metadata": {},
   "outputs": [],
   "source": [
    "#Escalonamento da Base (Ajustes de Escalas)\n",
    "#Essencial quando o planejamento envolve o uso de técnicas com Distância Euclidiana"
   ]
  },
  {
   "cell_type": "markdown",
   "metadata": {},
   "source": [
    "<img src=\"- Anexos/Escalonamento.png\" width=\"500\" height=\"500\">"
   ]
  },
  {
   "cell_type": "code",
   "execution_count": 2,
   "metadata": {},
   "outputs": [],
   "source": [
    "import pandas as pd\n",
    "import numpy as np\n",
    "from sklearn.impute import SimpleImputer\n",
    "from sklearn.preprocessing import StandardScaler"
   ]
  },
  {
   "cell_type": "code",
   "execution_count": 3,
   "metadata": {},
   "outputs": [],
   "source": [
    "df = pd.read_csv('D:/OneDrive/OneDrive - Etec Centro Paula Souza/Databases/credit_data_updated.csv')\n",
    "df.columns = ['id', 'salario', 'idade', 'emprestimo', 'aprovado']"
   ]
  },
  {
   "cell_type": "code",
   "execution_count": 4,
   "metadata": {},
   "outputs": [
    {
     "name": "stdout",
     "output_type": "stream",
     "text": [
      "          id       salario      idade   emprestimo  aprovado\n",
      "0        1.0  66155.925095  59.017015  8106.532131       0.0\n",
      "1        2.0  34415.153966  48.117153  6564.745018       0.0\n",
      "2        3.0  57317.170063  63.108049  8020.953296       0.0\n",
      "3        4.0  42709.534201  45.751972  6103.642260       0.0\n",
      "4        5.0  66952.688845  18.584336  8770.099235       1.0\n",
      "...      ...           ...        ...          ...       ...\n",
      "1995  1996.0  59221.044874  48.518179  1926.729397       0.0\n",
      "1996  1997.0  69516.127573  23.162104  3503.176156       0.0\n",
      "1997  1998.0  44311.449262  28.017167  5522.786693       1.0\n",
      "1998  1999.0  43756.056605  63.971796  1622.722598       0.0\n",
      "1999  2000.0  69436.579552  56.152617  7378.833599       0.0\n",
      "\n",
      "[2000 rows x 5 columns]\n"
     ]
    }
   ],
   "source": [
    "print(df)"
   ]
  },
  {
   "cell_type": "code",
   "execution_count": 5,
   "metadata": {},
   "outputs": [],
   "source": [
    "X = df.iloc[:,1:4].values\n",
    "Y = df.iloc[:, 4].values"
   ]
  },
  {
   "cell_type": "code",
   "execution_count": 6,
   "metadata": {},
   "outputs": [
    {
     "name": "stdout",
     "output_type": "stream",
     "text": [
      "[[6.61559251e+04 5.90170151e+01 8.10653213e+03]\n",
      " [3.44151540e+04 4.81171531e+01 6.56474502e+03]\n",
      " [5.73171701e+04 6.31080495e+01 8.02095330e+03]\n",
      " ...\n",
      " [4.43114493e+04 2.80171669e+01 5.52278669e+03]\n",
      " [4.37560566e+04 6.39717958e+01 1.62272260e+03]\n",
      " [6.94365796e+04 5.61526170e+01 7.37883360e+03]]\n"
     ]
    }
   ],
   "source": [
    "print(X)"
   ]
  },
  {
   "cell_type": "code",
   "execution_count": 7,
   "metadata": {},
   "outputs": [
    {
     "name": "stdout",
     "output_type": "stream",
     "text": [
      "[0. 0. 0. ... 1. 0. 0.]\n"
     ]
    }
   ],
   "source": [
    "print(Y)"
   ]
  },
  {
   "cell_type": "code",
   "execution_count": 8,
   "metadata": {},
   "outputs": [],
   "source": [
    "scaler = StandardScaler()\n",
    "X = scaler.fit_transform(X)"
   ]
  },
  {
   "cell_type": "code",
   "execution_count": 9,
   "metadata": {},
   "outputs": [
    {
     "name": "stdout",
     "output_type": "stream",
     "text": [
      "[[ 1.45393393  1.36538005  1.20281942]\n",
      " [-0.76217555  0.54265932  0.69642695]\n",
      " [ 0.83682073  1.67417101  1.17471147]\n",
      " ...\n",
      " [-0.07122592 -0.97448606  0.35420081]\n",
      " [-0.11000289  1.73936652 -0.92675625]\n",
      " [ 1.682986    1.14917551  0.96381038]]\n"
     ]
    }
   ],
   "source": [
    "print(X)"
   ]
  },
  {
   "cell_type": "code",
   "execution_count": 10,
   "metadata": {},
   "outputs": [],
   "source": [
    "df.iloc[:,1:4] = X"
   ]
  },
  {
   "cell_type": "code",
   "execution_count": 11,
   "metadata": {},
   "outputs": [
    {
     "name": "stdout",
     "output_type": "stream",
     "text": [
      "          id   salario     idade  emprestimo  aprovado\n",
      "0        1.0  1.453934  1.365380    1.202819       0.0\n",
      "1        2.0 -0.762176  0.542659    0.696427       0.0\n",
      "2        3.0  0.836821  1.674171    1.174711       0.0\n",
      "3        4.0 -0.183070  0.364136    0.544980       0.0\n",
      "4        5.0  1.509563 -1.686475    1.420765       1.0\n",
      "...      ...       ...       ...         ...       ...\n",
      "1995  1996.0  0.969747  0.572929   -0.826907       0.0\n",
      "1996  1997.0  1.688540 -1.340946   -0.309130       0.0\n",
      "1997  1998.0 -0.071226 -0.974486    0.354201       1.0\n",
      "1998  1999.0 -0.110003  1.739367   -0.926756       0.0\n",
      "1999  2000.0  1.682986  1.149176    0.963810       0.0\n",
      "\n",
      "[2000 rows x 5 columns]\n"
     ]
    }
   ],
   "source": [
    "print(df)"
   ]
  },
  {
   "cell_type": "code",
   "execution_count": 14,
   "metadata": {},
   "outputs": [],
   "source": [
    "#Aplciando as correções na Base e exportando para um arquivo .csv"
   ]
  },
  {
   "cell_type": "code",
   "execution_count": 12,
   "metadata": {},
   "outputs": [],
   "source": [
    "df.to_csv('D:/OneDrive/OneDrive - Etec Centro Paula Souza/Databases/credit_data_standarted.csv', index=False);"
   ]
  }
 ],
 "metadata": {
  "kernelspec": {
   "display_name": "Python 3 (ipykernel)",
   "language": "python",
   "name": "python3"
  },
  "language_info": {
   "codemirror_mode": {
    "name": "ipython",
    "version": 3
   },
   "file_extension": ".py",
   "mimetype": "text/x-python",
   "name": "python",
   "nbconvert_exporter": "python",
   "pygments_lexer": "ipython3",
   "version": "3.9.12"
  }
 },
 "nbformat": 4,
 "nbformat_minor": 4
}
