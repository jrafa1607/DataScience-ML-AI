{
  "nbformat": 4,
  "nbformat_minor": 0,
  "metadata": {
    "colab": {
      "provenance": []
    },
    "kernelspec": {
      "name": "python3",
      "display_name": "Python 3"
    },
    "language_info": {
      "name": "python"
    }
  },
  "cells": [
    {
      "cell_type": "markdown",
      "source": [
        "*   Documentação Jupyter Notebook: https://jupyter-notebook.readthedocs.io/en/stable/\n",
        "*   Lista de Kernels: https://github.com/jupyter/jupyter/wiki/Jupyter-kernels"
      ],
      "metadata": {
        "id": "ww6zHXS5s7Gn"
      }
    },
    {
      "cell_type": "markdown",
      "source": [
        "Os Notebooks gerados no Google Colab são documentos `JSON` com extensão `.ipynb` (**iPy**thon **N**ote**b**ook)\n",
        "\n",
        "Trabalha com dois tipos de células:\n",
        "* Código\n",
        "* Markdown"
      ],
      "metadata": {
        "id": "NxxNL9l4tWj8"
      }
    },
    {
      "cell_type": "markdown",
      "source": [
        "### Extensões para Notebooks\n",
        "\n",
        "* `.html`\n",
        "* `.md`\n",
        "* `.ipynb`\n",
        "* `.py`"
      ],
      "metadata": {
        "id": "cYl-4wmAtsfG"
      }
    },
    {
      "cell_type": "markdown",
      "source": [
        "## Comandos de Células\n",
        "\n",
        "* Para rodar a célula aperte `Shift + Enter`\n",
        "* Modo Comando `Esc`\n",
        "* Modo Edição `Enter`\n",
        "* Para inserir nova célula aperte `a` (para **antes** da célula selecionada) ou `b` (para **depois** da célula selecionada)\n",
        "* Para deletar célula aperte duas vezes `d` (delete)\n",
        "* Copiar célula(s) selecionada(s) aperte `c` (copy)\n",
        "* Colar célula(s) copiada(s) aperte `v` (paste)\n",
        "* Mudar tipo:\n",
        "    * Code `y`\n",
        "    * Markdown `m`"
      ],
      "metadata": {
        "id": "NsBhvgzYuWTn"
      }
    },
    {
      "cell_type": "markdown",
      "source": [
        "### Célula de Código"
      ],
      "metadata": {
        "id": "Rlv-2R1QuhyG"
      }
    },
    {
      "cell_type": "code",
      "source": [
        "#Comentário em uma Célula de Còdigo\n",
        "print(\" Ciência de Dados \")"
      ],
      "metadata": {
        "colab": {
          "base_uri": "https://localhost:8080/"
        },
        "id": "IC9ittIWubB6",
        "outputId": "9025e617-efcc-4df1-d222-4c22e7a73f29"
      },
      "execution_count": 2,
      "outputs": [
        {
          "output_type": "stream",
          "name": "stdout",
          "text": [
            " Ciência de Dados \n"
          ]
        }
      ]
    },
    {
      "cell_type": "markdown",
      "source": [
        "### Célula Markdown"
      ],
      "metadata": {
        "id": "APz8H6pruzBH"
      }
    },
    {
      "cell_type": "markdown",
      "source": [
        "* Documentação sobre Markdown: https://www.markdownguide.org/cheat-sheet/\n",
        "\n",
        "* Exemplo com LaTeX: $P(A|B) = \\frac{P(B|A) P(A)}{P(B)}$\n",
        "\n",
        "* Exemplo de Inserção de Código com (\\```)\n",
        "\n",
        "```python\n",
        "print(\" Ciência de Dados \")\n",
        "```"
      ],
      "metadata": {
        "id": "i0lRPDOVu5H6"
      }
    },
    {
      "cell_type": "markdown",
      "source": [
        "### Célula com Comandos `shell`"
      ],
      "metadata": {
        "id": "bIyA7Wu7vqxp"
      }
    },
    {
      "cell_type": "code",
      "source": [
        "#Para Executar Comandos em Shell, utilize `!`\n",
        "!pwd"
      ],
      "metadata": {
        "colab": {
          "base_uri": "https://localhost:8080/"
        },
        "id": "S_XdIKBTvzX2",
        "outputId": "6a98cd45-fd71-4028-e76a-c0e8ad02362c"
      },
      "execution_count": 3,
      "outputs": [
        {
          "output_type": "stream",
          "name": "stdout",
          "text": [
            "/content\n"
          ]
        }
      ]
    },
    {
      "cell_type": "markdown",
      "source": [
        "### Jupyter Magic\n",
        "\n",
        "São [Interações](https://ipython.readthedocs.io/en/stable/interactive/magics.html) da IDE Jupyter com as Células. Por exemplo:\n",
        "\n",
        "* `%timeit`: Cronometra o tempo de execução de uma **expressão** `Python`\n",
        "* `%%timeit`: Cronometra o tempo de execução de uma **célula**"
      ],
      "metadata": {
        "id": "H5t8WtwyxDlP"
      }
    }
  ]
}